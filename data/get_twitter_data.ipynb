{
 "cells": [
  {
   "cell_type": "markdown",
   "id": "c3854ec4",
   "metadata": {},
   "source": [
    "# Step 1: get data from Twi-XL database"
   ]
  },
  {
   "cell_type": "code",
   "execution_count": null,
   "id": "13c8fefc-022c-4064-9bcd-ff188b600ba2",
   "metadata": {},
   "outputs": [],
   "source": [
    "# install the newest development version of twi-xl-python.\n",
    "!pip install git+https://gitlab.com/twi-xl-surf-nl/twi-xl-python.git@73039c837dcce371c8ba4d25f1f7533f9763c954 --force-reinstall"
   ]
  },
  {
   "cell_type": "code",
   "execution_count": null,
   "id": "874f79d9-07a1-4b45-8d1c-5bc21382eb6d",
   "metadata": {},
   "outputs": [],
   "source": [
    "!/opt/homebrew/Cellar/jupyterlab/4.0.12/libexec/bin/python -m pip install --upgrade pip"
   ]
  },
  {
   "cell_type": "code",
   "execution_count": 3,
   "id": "bb3e2ebf-7079-4f77-8df5-358fcec5fa23",
   "metadata": {},
   "outputs": [
    {
     "name": "stderr",
     "output_type": "stream",
     "text": [
      "/Library/Python/3.9/site-packages/urllib3/__init__.py:35: NotOpenSSLWarning: urllib3 v2 only supports OpenSSL 1.1.1+, currently the 'ssl' module is compiled with 'LibreSSL 2.8.3'. See: https://github.com/urllib3/urllib3/issues/3020\n",
      "  warnings.warn(\n"
     ]
    }
   ],
   "source": [
    "from twixl.collections import twitter\n",
    "from datetime import datetime\n",
    "import twixl\n",
    "import os\n",
    "from sklearn.model_selection import train_test_split\n",
    "import datetime\n",
    "import pandas as pd"
   ]
  },
  {
   "cell_type": "code",
   "execution_count": null,
   "id": "7b6ecbd5-3df3-498b-a5df-3d6659dd72a9",
   "metadata": {},
   "outputs": [],
   "source": [
    "# Set development twi-xl api endpoint.\n",
    "os.environ[\"TWIXL_API_ENDPOINT\"] = \"https://ftmgjhmifb.execute-api.eu-central-1.amazonaws.com/politics\"\n",
    "os.environ[\"TWIXL_API_KEY\"] = \"Ad39ewyYoakVZsz2qd6a0dBoKFnmZCX7EkV1334IvSs0\""
   ]
  },
  {
   "cell_type": "code",
   "execution_count": null,
   "id": "e8b295dc-c5cc-42a0-9c55-579e30ac7090",
   "metadata": {},
   "outputs": [],
   "source": [
    "#Create list of author id's\n",
    "with open(\"./MPs_twitter_usernames.txt\", \"r\") as f:\n",
    "    authors = f.read().splitlines()"
   ]
  },
  {
   "cell_type": "code",
   "execution_count": null,
   "id": "fc8f99bd-ce3a-467b-8714-afbdc3562ff3",
   "metadata": {},
   "outputs": [],
   "source": [
    "authors[:4]"
   ]
  },
  {
   "cell_type": "code",
   "execution_count": null,
   "id": "23b550d6-2ea0-4a4a-826b-a62d358e9784",
   "metadata": {},
   "outputs": [],
   "source": [
    "#Create a query to search tweets from listed authors.\n",
    "\n",
    "# Only search politics dataset (i.e. dnpp Groningen archive and profile scraper)\n",
    "query_authors_only_politics = (\n",
    "    twitter.Query(\n",
    "        dataset=twitter.dataset.POLITICS)\n",
    "        .from_usernames(authors)\n",
    ")\n",
    "# Only search twinl dataset\n",
    "query_authors_only_twinl = (\n",
    "    twitter.Query(\n",
    "        dataset=twitter.dataset.TWINL)\n",
    "        .from_usernames(authors)\n",
    ")\n",
    "# Default is to search ALL archives (i.e. twinl and politics datasets)\n",
    "query_authors = (\n",
    "    twitter.Query()\n",
    "        .from_usernames('sybrandbuma')\n",
    ")"
   ]
  },
  {
   "cell_type": "code",
   "execution_count": null,
   "id": "d4bd4570-8c4a-4c17-927e-069a4c178509",
   "metadata": {},
   "outputs": [],
   "source": [
    "query_authors.print()"
   ]
  },
  {
   "cell_type": "code",
   "execution_count": null,
   "id": "1214e984-5f2a-48a3-a506-40e8438ff957",
   "metadata": {},
   "outputs": [],
   "source": [
    "# Define an empty DataFrame to store the results\n",
    "final_df = pd.DataFrame()\n",
    "\n",
    "# Loop over the list of author names\n",
    "for author in authors:\n",
    "    # Define the query for each author\n",
    "    query_authors = (\n",
    "        twitter.Query()\n",
    "            .from_usernames([author])\n",
    "    )\n",
    "    \n",
    "    # Search Twitter archive for each author\n",
    "    search_results = twitter.search(\n",
    "        query=query_authors,\n",
    "        start_time=datetime.datetime(2014, 1, 1, 0, 0),\n",
    "        end_time=datetime.datetime(2024, 3, 1, 0, 0),\n",
    "        callback=twitter.print_callback\n",
    "    )\n",
    "    \n",
    "    # Convert search results to a DataFrame\n",
    "    df = search_results.to_pandas()\n",
    "    \n",
    "    # Add a column with the author's name\n",
    "    df['Author'] = author\n",
    "    \n",
    "    # Append the DataFrame to the final DataFrame\n",
    "    final_df = final_df.append(df, ignore_index=True)"
   ]
  },
  {
   "cell_type": "code",
   "execution_count": null,
   "id": "25bace1a-15e7-4fc5-a9b8-6136b4832c02",
   "metadata": {},
   "outputs": [],
   "source": [
    "final_df.to_csv('full_twitter_data.csv')"
   ]
  },
  {
   "cell_type": "markdown",
   "id": "9e72482d-4cc1-4da7-8aaf-803ff2038d18",
   "metadata": {},
   "source": [
    "# Step 2: prepare data for annotation\n",
    "\n",
    "## Read in data"
   ]
  },
  {
   "cell_type": "code",
   "execution_count": 4,
   "id": "e243b8b2-dae3-4d49-a9d5-498fa433bb84",
   "metadata": {},
   "outputs": [],
   "source": [
    "import numpy as np\n",
    "import seaborn as sns\n",
    "import matplotlib.pyplot as plt\n",
    "from sklearn.model_selection import train_test_split\n",
    "# Set a random seed for reproducibility\n",
    "np.random.seed(42)\n",
    "\n",
    "final_df = pd.read_csv('full_twitter_data.csv')"
   ]
  },
  {
   "cell_type": "code",
   "execution_count": 5,
   "id": "8915788b-8439-4504-8903-0bda1ce161c6",
   "metadata": {},
   "outputs": [
    {
     "data": {
      "text/html": [
       "<div>\n",
       "<style scoped>\n",
       "    .dataframe tbody tr th:only-of-type {\n",
       "        vertical-align: middle;\n",
       "    }\n",
       "\n",
       "    .dataframe tbody tr th {\n",
       "        vertical-align: top;\n",
       "    }\n",
       "\n",
       "    .dataframe thead th {\n",
       "        text-align: right;\n",
       "    }\n",
       "</style>\n",
       "<table border=\"1\" class=\"dataframe\">\n",
       "  <thead>\n",
       "    <tr style=\"text-align: right;\">\n",
       "      <th></th>\n",
       "      <th>Unnamed: 0</th>\n",
       "      <th>tweet_id</th>\n",
       "      <th>timestamp</th>\n",
       "      <th>text</th>\n",
       "      <th>full_text</th>\n",
       "      <th>hashtags</th>\n",
       "      <th>urls</th>\n",
       "      <th>source</th>\n",
       "      <th>Author</th>\n",
       "    </tr>\n",
       "  </thead>\n",
       "  <tbody>\n",
       "    <tr>\n",
       "      <th>0</th>\n",
       "      <td>0</td>\n",
       "      <td>1363121859546533899</td>\n",
       "      <td>2021-02-20 13:42:31</td>\n",
       "      <td>Nee, dit is niet de Noordelijke IJszee, maar h...</td>\n",
       "      <td>Nee, dit is niet de Noordelijke IJszee, maar h...</td>\n",
       "      <td>[]</td>\n",
       "      <td>[]</td>\n",
       "      <td>dnpp</td>\n",
       "      <td>sybrandbuma</td>\n",
       "    </tr>\n",
       "    <tr>\n",
       "      <th>1</th>\n",
       "      <td>1</td>\n",
       "      <td>1359578121108881410</td>\n",
       "      <td>2021-02-10 18:00:58</td>\n",
       "      <td>Vanavond samen met @cdKfryslan en @WiebeWielin...</td>\n",
       "      <td>Vanavond samen met @cdKfryslan en @WiebeWielin...</td>\n",
       "      <td>[]</td>\n",
       "      <td>['https://twitter.com/i/web/status/13595781211...</td>\n",
       "      <td>twinl</td>\n",
       "      <td>sybrandbuma</td>\n",
       "    </tr>\n",
       "    <tr>\n",
       "      <th>2</th>\n",
       "      <td>2</td>\n",
       "      <td>1365635915201335297</td>\n",
       "      <td>2021-02-27 11:12:29</td>\n",
       "      <td>RT @VRFryslan: De coronacrisis heeft grote imp...</td>\n",
       "      <td>NaN</td>\n",
       "      <td>[]</td>\n",
       "      <td>[]</td>\n",
       "      <td>twinl</td>\n",
       "      <td>sybrandbuma</td>\n",
       "    </tr>\n",
       "  </tbody>\n",
       "</table>\n",
       "</div>"
      ],
      "text/plain": [
       "   Unnamed: 0             tweet_id            timestamp  \\\n",
       "0           0  1363121859546533899  2021-02-20 13:42:31   \n",
       "1           1  1359578121108881410  2021-02-10 18:00:58   \n",
       "2           2  1365635915201335297  2021-02-27 11:12:29   \n",
       "\n",
       "                                                text  \\\n",
       "0  Nee, dit is niet de Noordelijke IJszee, maar h...   \n",
       "1  Vanavond samen met @cdKfryslan en @WiebeWielin...   \n",
       "2  RT @VRFryslan: De coronacrisis heeft grote imp...   \n",
       "\n",
       "                                           full_text hashtags  \\\n",
       "0  Nee, dit is niet de Noordelijke IJszee, maar h...       []   \n",
       "1  Vanavond samen met @cdKfryslan en @WiebeWielin...       []   \n",
       "2                                                NaN       []   \n",
       "\n",
       "                                                urls source       Author  \n",
       "0                                                 []   dnpp  sybrandbuma  \n",
       "1  ['https://twitter.com/i/web/status/13595781211...  twinl  sybrandbuma  \n",
       "2                                                 []  twinl  sybrandbuma  "
      ]
     },
     "execution_count": 5,
     "metadata": {},
     "output_type": "execute_result"
    }
   ],
   "source": [
    "#display first 10 rows\n",
    "final_df.head(3)"
   ]
  },
  {
   "cell_type": "code",
   "execution_count": null,
   "id": "98a055af",
   "metadata": {},
   "outputs": [],
   "source": [
    "# the text is not always complete; we should use the 'full-text' column when this is the case"
   ]
  },
  {
   "cell_type": "code",
   "execution_count": 6,
   "id": "ae020c46",
   "metadata": {},
   "outputs": [
    {
     "name": "stdout",
     "output_type": "stream",
     "text": [
      "lengtht of the df before removing tweets that are not complete: 921080\n",
      "NaN value in the 'text' column: 779\n",
      "length of the df AFTER removing tweets that are not complete: 920301\n"
     ]
    }
   ],
   "source": [
    "print(f\"lengtht of the df before removing tweets that are not complete: {len(final_df)}\")\n",
    "pattern = r'…\\s*https?://\\S+'\n",
    "\n",
    "# Create a mask for tweets in the 'text' column that are incomplete (match the pattern)\n",
    "incomplete_mask = final_df['text'].str.contains(pattern, na=False, regex=True)\n",
    "\n",
    "# Use the mask to replace the incomplete 'text' with the corresponding 'full_text'\n",
    "# Where the mask is True (i.e., truncated), we replace 'text' with 'full_text'\n",
    "final_df.loc[incomplete_mask, 'text'] = final_df.loc[incomplete_mask, 'full_text']\n",
    "\n",
    "print(f\"NaN value in the 'text' column: {len(final_df[final_df['text'].isna()])}\")\n",
    "\n",
    "# Remove rows with NaN values in the 'text' column\n",
    "final_df = final_df.dropna(subset=['text'])\n",
    "\n",
    "print(f\"length of the df AFTER removing tweets that are not complete: {len(final_df)}\")"
   ]
  },
  {
   "cell_type": "code",
   "execution_count": 7,
   "id": "584d07e9-cb10-41ff-9abc-ab26c93e75de",
   "metadata": {},
   "outputs": [
    {
     "data": {
      "text/plain": [
       "<Axes: >"
      ]
     },
     "execution_count": 7,
     "metadata": {},
     "output_type": "execute_result"
    },
    {
     "data": {
      "image/png": "[encoded data removed]",
      "text/plain": [
       "<Figure size 640x480 with 1 Axes>"
      ]
     },
     "metadata": {},
     "output_type": "display_data"
    }
   ],
   "source": [
    "# Plot the number of tweets from different datasets.\n",
    "final_df.source.value_counts().sort_values().plot(kind = 'barh')"
   ]
  },
  {
   "cell_type": "code",
   "execution_count": 8,
   "id": "2bf3b8bd-3385-4867-b02c-f99c8295e281",
   "metadata": {},
   "outputs": [
    {
     "data": {
      "text/plain": [
       "264135"
      ]
     },
     "execution_count": 8,
     "metadata": {},
     "output_type": "execute_result"
    }
   ],
   "source": [
    "# check&count duplicates between datasets\n",
    "final_df['is_duplicated'] = final_df.duplicated([\"tweet_id\"])\n",
    "final_df['is_duplicated'].sum()"
   ]
  },
  {
   "cell_type": "code",
   "execution_count": 9,
   "id": "04db4e8f-d434-43c7-8305-91d97105b0d4",
   "metadata": {},
   "outputs": [],
   "source": [
    "unique_df = final_df.drop_duplicates(subset=['tweet_id'])\n",
    "unique_df = unique_df.drop_duplicates(subset=['text'])"
   ]
  },
  {
   "cell_type": "code",
   "execution_count": 10,
   "id": "892a915b-1458-47aa-974f-1dabc083361c",
   "metadata": {},
   "outputs": [
    {
     "name": "stdout",
     "output_type": "stream",
     "text": [
      "lenght of the df after removing dublicates: 610698\n"
     ]
    }
   ],
   "source": [
    "print(f\"lenght of the df after removing dublicates: {len(unique_df)}\")"
   ]
  },
  {
   "cell_type": "code",
   "execution_count": 11,
   "id": "7d557be9-4f71-4093-bcbc-c4172760952c",
   "metadata": {},
   "outputs": [],
   "source": [
    "unique_df['twitter_username']  = unique_df['Author']"
   ]
  },
  {
   "cell_type": "markdown",
   "id": "7773d657-7636-4ee3-9c63-840077ca8840",
   "metadata": {},
   "source": [
    "### Merge data with MP dataset from WikiData"
   ]
  },
  {
   "cell_type": "code",
   "execution_count": 12,
   "id": "eaba42e6-c13e-4f97-a38c-0bea67da7164",
   "metadata": {},
   "outputs": [],
   "source": [
    "mps = pd.read_csv('tweedekamerleden.csv')"
   ]
  },
  {
   "cell_type": "code",
   "execution_count": 13,
   "id": "5cbc7c25-6cc2-4095-bedb-faad2db50320",
   "metadata": {},
   "outputs": [],
   "source": [
    "# Some information about Party ended up in the 'Start Date' column. Fix this here: \n",
    "# Function to combine 'Start Date' and 'Party' columns\n",
    "def combine_columns(row):\n",
    "    if pd.isna(row['Party']):\n",
    "        if pd.notna(row['Start Date']):\n",
    "            return f\"{row['Start Date']}\"\n",
    "        else:\n",
    "            return row['Party']\n",
    "    else:\n",
    "        return row['Party']\n",
    "\n",
    "# Apply the function to combine columns\n",
    "mps['Political_Party'] = mps.apply(combine_columns, axis=1)"
   ]
  },
  {
   "cell_type": "code",
   "execution_count": 14,
   "id": "24bceb13-3834-4d82-bbe5-2165c0b66f2f",
   "metadata": {},
   "outputs": [
    {
     "data": {
      "text/plain": [
       "VVD                              223\n",
       "PVV                               92\n",
       "D66                               79\n",
       "CDA                               66\n",
       "PvdA                              63\n",
       "SP                                51\n",
       "GroenLinks-PvdA                   25\n",
       "Nieuw Sociaal Contract            20\n",
       "GroenLinks                        19\n",
       "PvdD                              13\n",
       "SGP                               13\n",
       "CU                                13\n",
       "ChristenUnie                      10\n",
       "FVD                                9\n",
       "DENK                               9\n",
       "50PLUS                             9\n",
       "PvdA[p]                            9\n",
       "Partij voor de Dieren              8\n",
       "BBB                                8\n",
       "GL                                 8\n",
       "GL[p]                              8\n",
       "Volt                               5\n",
       "Van Kooten-Arissen                 3\n",
       "FVD[z]                             3\n",
       "JA21                               3\n",
       "Forum voor Democratie              3\n",
       "JA21[ac]                           2\n",
       "Groep Krol/van Kooten-Arissen      2\n",
       "PVV[q]                             1\n",
       "PVV[g]                             1\n",
       "50+[b]                             1\n",
       "50+                                1\n",
       "PvdA[y]                            1\n",
       "Fractie-50PLUS/Baay[w]             1\n",
       "PvdA[af]                           1\n",
       "PVV[ap]                            1\n",
       "Van Haga                           1\n",
       "Krol                               1\n",
       "50+[t]                             1\n",
       "Volt[ak]                           1\n",
       "Lid Omtzigt                        1\n",
       "PVV[ac]                            1\n",
       "50+[ao]                            1\n",
       "BIJ1                               1\n",
       "Name: Political_Party, dtype: int64"
      ]
     },
     "execution_count": 14,
     "metadata": {},
     "output_type": "execute_result"
    }
   ],
   "source": [
    "mps[['Start Date', 'Party', 'Political_Party']]\n",
    "mps['Political_Party'].value_counts()"
   ]
  },
  {
   "cell_type": "code",
   "execution_count": 15,
   "id": "d3944645-ccef-440a-9eb6-8fc2a39ab7d3",
   "metadata": {},
   "outputs": [
    {
     "data": {
      "text/plain": [
       "VVD                       223\n",
       "PVV                        92\n",
       "D66                        79\n",
       "PvdA                       72\n",
       "CDA                        66\n",
       "SP                         51\n",
       "GroenLinks                 27\n",
       "GroenLinks-PvdA            25\n",
       "Nieuw Sociaal Contract     20\n",
       "SGP                        13\n",
       "CU                         13\n",
       "PvdD                       13\n",
       "ChristenUnie               10\n",
       "DENK                        9\n",
       "Partij voor de Dieren       8\n",
       "Volt                        5\n",
       "Forum voor Democratie       3\n",
       "JA21                        2\n",
       "BIJ1                        1\n",
       "Name: normalized_party, dtype: int64"
      ]
     },
     "execution_count": 15,
     "metadata": {},
     "output_type": "execute_result"
    }
   ],
   "source": [
    "# Normalize party references. \n",
    "# Mapping dictionary for party names\n",
    "party_mapping = {\n",
    "    'GroenLinks': 'GroenLinks',\n",
    "    'SP': 'SP',\n",
    "    'CDA': 'CDA',\n",
    "    'VVD': 'VVD',\n",
    "    'D66': 'D66',\n",
    "    'Forum voor Democratie': 'Forum voor Democratie',\n",
    "    'PvdD': 'PvdD',\n",
    "    'PVV': 'PVV',\n",
    "    'BIJ1': 'BIJ1',\n",
    "    'JA21[ac]': 'JA21',\n",
    "    'GroenLinks-PvdA': 'GroenLinks-PvdA',\n",
    "    'PvdA': 'PvdA',\n",
    "    'CU': 'CU',\n",
    "    'DENK': 'DENK',\n",
    "    'Volt': 'Volt',\n",
    "    'SGP': 'SGP',\n",
    "    'Nieuw Sociaal Contract': 'Nieuw Sociaal Contract',\n",
    "    'Partij voor de Dieren': 'Partij voor de Dieren',\n",
    "    'ChristenUnie': 'ChristenUnie',\n",
    "    'GL[p]': 'GroenLinks',\n",
    "    'PvdA[p]': 'PvdA'\n",
    "}\n",
    "\n",
    "# Map party names\n",
    "mps['normalized_party'] = mps['Political_Party'].map(party_mapping)\n",
    "mps['normalized_party'].value_counts()"
   ]
  },
  {
   "cell_type": "code",
   "execution_count": null,
   "id": "34e0864a-571d-4efe-856b-1856265c0308",
   "metadata": {},
   "outputs": [],
   "source": [
    "## Conduct the merge with the non-duplicated twitter data and the MP dataset from wikidata"
   ]
  },
  {
   "cell_type": "code",
   "execution_count": 16,
   "id": "f23a6879-9bec-4730-8d2f-308fcf012130",
   "metadata": {},
   "outputs": [],
   "source": [
    "df = pd.merge(unique_df, mps, on=['twitter_username'], how='left')"
   ]
  },
  {
   "cell_type": "code",
   "execution_count": 17,
   "id": "ca94f309-74a4-42e2-a8ff-9980fed7f537",
   "metadata": {},
   "outputs": [
    {
     "data": {
      "text/plain": [
       "405838"
      ]
     },
     "execution_count": 17,
     "metadata": {},
     "output_type": "execute_result"
    }
   ],
   "source": [
    "unique_df = df.drop_duplicates(subset=['tweet_id'])\n",
    "df = unique_df.drop_duplicates(subset=['text'])\n",
    "\n",
    "## remove RT's\n",
    "df = df[~df['text'].str.startswith(\"RT @\")]\n",
    "len(df)"
   ]
  },
  {
   "cell_type": "code",
   "execution_count": null,
   "id": "9b9705b3-65cd-4074-88b7-16dd56f74026",
   "metadata": {},
   "outputs": [],
   "source": [
    "## Fix missing party members"
   ]
  },
  {
   "cell_type": "code",
   "execution_count": 18,
   "id": "b54c9906-087b-4835-97fa-6f89264195c3",
   "metadata": {},
   "outputs": [],
   "source": [
    "# Mapping dictionary for party names\n",
    "party_mapping = {\n",
    "    'BramvanOjikGL': 'GroenLinks',\n",
    "    'CorinneEllemeet': 'GroenLinks',\n",
    "    'GroenLiesbeth': 'GroenLinks',\n",
    "    'HenkKrol': '50PLUS',\n",
    "    'JacquesMonasch': 'PvdA',\n",
    "    'JoramvKlaveren': 'DENK',\n",
    "    'jesseklaver': 'GroenLinks',\n",
    "    'lindavoortman': 'GroenLinks',\n",
    "    'rikgrashoff': 'GroenLinks',\n",
    "    'tunahankuzu': 'DENK'\n",
    "}\n",
    "\n",
    "# Map party names only if normalized_party is NaN\n",
    "df.loc[df['normalized_party'].isna(), 'normalized_party'] = df.loc[df['normalized_party'].isna(), 'Author'].map(party_mapping)"
   ]
  },
  {
   "cell_type": "code",
   "execution_count": 19,
   "id": "6bf14826-d3dc-41d1-9f5d-287a52e734d9",
   "metadata": {},
   "outputs": [
    {
     "data": {
      "text/plain": [
       "GroenLinks                79652\n",
       "VVD                       62256\n",
       "SP                        57130\n",
       "CDA                       49268\n",
       "D66                       33709\n",
       "PvdA                      32191\n",
       "PVV                       19043\n",
       "CU                        14047\n",
       "BIJ1                      11949\n",
       "PvdD                      11031\n",
       "Forum voor Democratie      7778\n",
       "GroenLinks-PvdA            6541\n",
       "DENK                       3610\n",
       "50PLUS                     3553\n",
       "SGP                        3046\n",
       "JA21                       3022\n",
       "Nieuw Sociaal Contract     2633\n",
       "Volt                       2350\n",
       "ChristenUnie               1608\n",
       "Partij voor de Dieren      1421\n",
       "Name: normalized_party, dtype: int64"
      ]
     },
     "execution_count": 19,
     "metadata": {},
     "output_type": "execute_result"
    }
   ],
   "source": [
    "df['normalized_party'].value_counts()"
   ]
  },
  {
   "cell_type": "code",
   "execution_count": 20,
   "id": "64c51d63",
   "metadata": {},
   "outputs": [
    {
     "data": {
      "text/plain": [
       "GroenLinks                79652\n",
       "VVD                       62256\n",
       "SP                        57130\n",
       "CDA                       49268\n",
       "D66                       33709\n",
       "PvdA                      32191\n",
       "PVV                       19043\n",
       "ChristenUnie              15655\n",
       "Partij voor de Dieren     12452\n",
       "BIJ1                      11949\n",
       "Forum voor Democratie      7778\n",
       "GroenLinks-PvdA            6541\n",
       "DENK                       3610\n",
       "50PLUS                     3553\n",
       "SGP                        3046\n",
       "JA21                       3022\n",
       "Nieuw Sociaal Contract     2633\n",
       "Volt                       2350\n",
       "Name: normalized_party, dtype: int64"
      ]
     },
     "execution_count": 20,
     "metadata": {},
     "output_type": "execute_result"
    }
   ],
   "source": [
    "# Definieer de mapping\n",
    "party_mapping = {\n",
    "    'GroenLinks': 'GroenLinks',\n",
    "    'VVD': 'VVD',\n",
    "    'SP': 'SP',\n",
    "    'CDA': 'CDA',\n",
    "    'D66': 'D66',\n",
    "    'PvdA': 'PvdA',\n",
    "    'PVV': 'PVV',\n",
    "    'CU': 'ChristenUnie',\n",
    "    'BIJ1': 'BIJ1',\n",
    "    'PvdD': 'Partij voor de Dieren',\n",
    "    'Forum voor Democratie': 'Forum voor Democratie',\n",
    "    'GroenLinks-PvdA': 'GroenLinks-PvdA',\n",
    "    'DENK': 'DENK',\n",
    "    '50PLUS': '50PLUS',\n",
    "    'SGP': 'SGP',\n",
    "    'JA21': 'JA21',\n",
    "    'Nieuw Sociaal Contract': 'Nieuw Sociaal Contract',\n",
    "    'Volt': 'Volt',\n",
    "    'ChristenUnie': 'ChristenUnie',\n",
    "    'Partij voor de Dieren': 'Partij voor de Dieren'\n",
    "}\n",
    "\n",
    "\n",
    "df['normalized_party'] = df['normalized_party'].map(party_mapping)\n",
    "df['normalized_party'].value_counts()"
   ]
  },
  {
   "cell_type": "code",
   "execution_count": null,
   "id": "6ad1695f-bcb7-4fc1-bf63-208a659c651c",
   "metadata": {},
   "outputs": [],
   "source": [
    "### create Ideology mappings left -- right"
   ]
  },
  {
   "cell_type": "code",
   "execution_count": 21,
   "id": "0d6fd7be-495e-4254-97ad-6e4169654400",
   "metadata": {},
   "outputs": [],
   "source": [
    "# Dictionary to map parties to left/right scale values\n",
    "party_ideology = {\n",
    "    'GroenLinks': -3,   # Strongly left\n",
    "    'SP': -2,            # Left\n",
    "    'CDA': 0,            # Center\n",
    "    'VVD': 3,            # Right\n",
    "    'D66': 2,            # Center\n",
    "    'Forum voor Democratie': 3,  # Right\n",
    "    'FVD': 3,            # Right (Added)\n",
    "    'PVV': 3,            # Right\n",
    "    'BIJ1': -3,          # Strongly left\n",
    "    'JA21': 3,           # Right\n",
    "    'GroenLinks-PvdA': -2,  # Left\n",
    "    'PvdA': -2,          # Center-left\n",
    "    'DENK': -3,          # Strongly left\n",
    "    'Volt': 1,           # Center\n",
    "    'SGP': 3,            # Right\n",
    "    'Nieuw Sociaal Contract': 1,  # Center\n",
    "    'Partij voor de Dieren': -3,  # Left\n",
    "    'ChristenUnie': 0, \n",
    "    '50PLUS': 1# Center-right\n",
    "}\n",
    "\n",
    "# Map parties to ideology\n",
    "df['Ideology'] = df['normalized_party'].map(party_ideology)"
   ]
  },
  {
   "cell_type": "code",
   "execution_count": 22,
   "id": "a81df8c1-4240-4a1f-a257-50e7d14d871e",
   "metadata": {},
   "outputs": [],
   "source": [
    "# Dictionary to map ideology values to the three groups\n",
    "ideology_group = {\n",
    "    -3: 'Left',      # Strongly left\n",
    "    -2: 'Left',      # Left\n",
    "    -1: 'Center',    # Center-left\n",
    "    0: 'Center',     # Center\n",
    "    1: 'Center',     # Center\n",
    "    2: 'Center',     # Center\n",
    "    3: 'Right'       # Right\n",
    "}\n",
    "\n",
    "# Map ideology values to ideology groups\n",
    "df['Ideology_Group'] = df['Ideology'].map(ideology_group)"
   ]
  },
  {
   "cell_type": "code",
   "execution_count": 23,
   "id": "c246784e-98c9-496a-beb0-8eaa78d513bd",
   "metadata": {},
   "outputs": [
    {
     "data": {
      "text/html": [
       "<div>\n",
       "<style scoped>\n",
       "    .dataframe tbody tr th:only-of-type {\n",
       "        vertical-align: middle;\n",
       "    }\n",
       "\n",
       "    .dataframe tbody tr th {\n",
       "        vertical-align: top;\n",
       "    }\n",
       "\n",
       "    .dataframe thead th {\n",
       "        text-align: right;\n",
       "    }\n",
       "</style>\n",
       "<table border=\"1\" class=\"dataframe\">\n",
       "  <thead>\n",
       "    <tr style=\"text-align: right;\">\n",
       "      <th></th>\n",
       "      <th>Ideology_Group</th>\n",
       "      <th>Ideology</th>\n",
       "      <th>normalized_party</th>\n",
       "      <th>Author</th>\n",
       "    </tr>\n",
       "  </thead>\n",
       "  <tbody>\n",
       "    <tr>\n",
       "      <th>0</th>\n",
       "      <td>Center</td>\n",
       "      <td>0</td>\n",
       "      <td>CDA</td>\n",
       "      <td>sybrandbuma</td>\n",
       "    </tr>\n",
       "    <tr>\n",
       "      <th>2</th>\n",
       "      <td>Center</td>\n",
       "      <td>0</td>\n",
       "      <td>CDA</td>\n",
       "      <td>sybrandbuma</td>\n",
       "    </tr>\n",
       "    <tr>\n",
       "      <th>6</th>\n",
       "      <td>Center</td>\n",
       "      <td>0</td>\n",
       "      <td>CDA</td>\n",
       "      <td>sybrandbuma</td>\n",
       "    </tr>\n",
       "    <tr>\n",
       "      <th>8</th>\n",
       "      <td>Center</td>\n",
       "      <td>0</td>\n",
       "      <td>CDA</td>\n",
       "      <td>sybrandbuma</td>\n",
       "    </tr>\n",
       "    <tr>\n",
       "      <th>12</th>\n",
       "      <td>Center</td>\n",
       "      <td>0</td>\n",
       "      <td>CDA</td>\n",
       "      <td>sybrandbuma</td>\n",
       "    </tr>\n",
       "    <tr>\n",
       "      <th>...</th>\n",
       "      <td>...</td>\n",
       "      <td>...</td>\n",
       "      <td>...</td>\n",
       "      <td>...</td>\n",
       "    </tr>\n",
       "    <tr>\n",
       "      <th>1323731</th>\n",
       "      <td>Right</td>\n",
       "      <td>3</td>\n",
       "      <td>VVD</td>\n",
       "      <td>marielle_paul</td>\n",
       "    </tr>\n",
       "    <tr>\n",
       "      <th>1323733</th>\n",
       "      <td>Right</td>\n",
       "      <td>3</td>\n",
       "      <td>VVD</td>\n",
       "      <td>marielle_paul</td>\n",
       "    </tr>\n",
       "    <tr>\n",
       "      <th>1323735</th>\n",
       "      <td>Right</td>\n",
       "      <td>3</td>\n",
       "      <td>VVD</td>\n",
       "      <td>marielle_paul</td>\n",
       "    </tr>\n",
       "    <tr>\n",
       "      <th>1323739</th>\n",
       "      <td>Right</td>\n",
       "      <td>3</td>\n",
       "      <td>VVD</td>\n",
       "      <td>marielle_paul</td>\n",
       "    </tr>\n",
       "    <tr>\n",
       "      <th>1323741</th>\n",
       "      <td>Right</td>\n",
       "      <td>3</td>\n",
       "      <td>VVD</td>\n",
       "      <td>marielle_paul</td>\n",
       "    </tr>\n",
       "  </tbody>\n",
       "</table>\n",
       "<p>405838 rows × 4 columns</p>\n",
       "</div>"
      ],
      "text/plain": [
       "        Ideology_Group  Ideology normalized_party         Author\n",
       "0               Center         0              CDA    sybrandbuma\n",
       "2               Center         0              CDA    sybrandbuma\n",
       "6               Center         0              CDA    sybrandbuma\n",
       "8               Center         0              CDA    sybrandbuma\n",
       "12              Center         0              CDA    sybrandbuma\n",
       "...                ...       ...              ...            ...\n",
       "1323731          Right         3              VVD  marielle_paul\n",
       "1323733          Right         3              VVD  marielle_paul\n",
       "1323735          Right         3              VVD  marielle_paul\n",
       "1323739          Right         3              VVD  marielle_paul\n",
       "1323741          Right         3              VVD  marielle_paul\n",
       "\n",
       "[405838 rows x 4 columns]"
      ]
     },
     "execution_count": 23,
     "metadata": {},
     "output_type": "execute_result"
    }
   ],
   "source": [
    "df[['Ideology_Group', 'Ideology', 'normalized_party', 'Author']]\n",
    "#df['text']"
   ]
  },
  {
   "cell_type": "code",
   "execution_count": 24,
   "id": "d9698392",
   "metadata": {},
   "outputs": [
    {
     "data": {
      "text/html": [
       "<div>\n",
       "<style scoped>\n",
       "    .dataframe tbody tr th:only-of-type {\n",
       "        vertical-align: middle;\n",
       "    }\n",
       "\n",
       "    .dataframe tbody tr th {\n",
       "        vertical-align: top;\n",
       "    }\n",
       "\n",
       "    .dataframe thead th {\n",
       "        text-align: right;\n",
       "    }\n",
       "</style>\n",
       "<table border=\"1\" class=\"dataframe\">\n",
       "  <thead>\n",
       "    <tr style=\"text-align: right;\">\n",
       "      <th></th>\n",
       "      <th>Ideology_Group</th>\n",
       "      <th>Ideology</th>\n",
       "      <th>normalized_party</th>\n",
       "    </tr>\n",
       "  </thead>\n",
       "  <tbody>\n",
       "    <tr>\n",
       "      <th>0</th>\n",
       "      <td>Center</td>\n",
       "      <td>0</td>\n",
       "      <td>CDA</td>\n",
       "    </tr>\n",
       "    <tr>\n",
       "      <th>520</th>\n",
       "      <td>Center</td>\n",
       "      <td>2</td>\n",
       "      <td>D66</td>\n",
       "    </tr>\n",
       "    <tr>\n",
       "      <th>7648</th>\n",
       "      <td>Right</td>\n",
       "      <td>3</td>\n",
       "      <td>VVD</td>\n",
       "    </tr>\n",
       "    <tr>\n",
       "      <th>10442</th>\n",
       "      <td>Left</td>\n",
       "      <td>-3</td>\n",
       "      <td>GroenLinks</td>\n",
       "    </tr>\n",
       "    <tr>\n",
       "      <th>48563</th>\n",
       "      <td>Left</td>\n",
       "      <td>-2</td>\n",
       "      <td>PvdA</td>\n",
       "    </tr>\n",
       "    <tr>\n",
       "      <th>63638</th>\n",
       "      <td>Right</td>\n",
       "      <td>3</td>\n",
       "      <td>PVV</td>\n",
       "    </tr>\n",
       "    <tr>\n",
       "      <th>95444</th>\n",
       "      <td>Left</td>\n",
       "      <td>-3</td>\n",
       "      <td>BIJ1</td>\n",
       "    </tr>\n",
       "    <tr>\n",
       "      <th>123685</th>\n",
       "      <td>Right</td>\n",
       "      <td>3</td>\n",
       "      <td>JA21</td>\n",
       "    </tr>\n",
       "    <tr>\n",
       "      <th>134904</th>\n",
       "      <td>Left</td>\n",
       "      <td>-3</td>\n",
       "      <td>Partij voor de Dieren</td>\n",
       "    </tr>\n",
       "    <tr>\n",
       "      <th>142209</th>\n",
       "      <td>Left</td>\n",
       "      <td>-2</td>\n",
       "      <td>SP</td>\n",
       "    </tr>\n",
       "    <tr>\n",
       "      <th>147239</th>\n",
       "      <td>Center</td>\n",
       "      <td>0</td>\n",
       "      <td>ChristenUnie</td>\n",
       "    </tr>\n",
       "    <tr>\n",
       "      <th>239311</th>\n",
       "      <td>Right</td>\n",
       "      <td>3</td>\n",
       "      <td>SGP</td>\n",
       "    </tr>\n",
       "    <tr>\n",
       "      <th>242460</th>\n",
       "      <td>Center</td>\n",
       "      <td>1</td>\n",
       "      <td>Volt</td>\n",
       "    </tr>\n",
       "    <tr>\n",
       "      <th>356135</th>\n",
       "      <td>Right</td>\n",
       "      <td>3</td>\n",
       "      <td>Forum voor Democratie</td>\n",
       "    </tr>\n",
       "    <tr>\n",
       "      <th>436373</th>\n",
       "      <td>Left</td>\n",
       "      <td>-3</td>\n",
       "      <td>DENK</td>\n",
       "    </tr>\n",
       "    <tr>\n",
       "      <th>452434</th>\n",
       "      <td>Center</td>\n",
       "      <td>1</td>\n",
       "      <td>Nieuw Sociaal Contract</td>\n",
       "    </tr>\n",
       "    <tr>\n",
       "      <th>455390</th>\n",
       "      <td>Center</td>\n",
       "      <td>1</td>\n",
       "      <td>50PLUS</td>\n",
       "    </tr>\n",
       "    <tr>\n",
       "      <th>1061322</th>\n",
       "      <td>Left</td>\n",
       "      <td>-2</td>\n",
       "      <td>GroenLinks-PvdA</td>\n",
       "    </tr>\n",
       "  </tbody>\n",
       "</table>\n",
       "</div>"
      ],
      "text/plain": [
       "        Ideology_Group  Ideology        normalized_party\n",
       "0               Center         0                     CDA\n",
       "520             Center         2                     D66\n",
       "7648             Right         3                     VVD\n",
       "10442             Left        -3              GroenLinks\n",
       "48563             Left        -2                    PvdA\n",
       "63638            Right         3                     PVV\n",
       "95444             Left        -3                    BIJ1\n",
       "123685           Right         3                    JA21\n",
       "134904            Left        -3   Partij voor de Dieren\n",
       "142209            Left        -2                      SP\n",
       "147239          Center         0            ChristenUnie\n",
       "239311           Right         3                     SGP\n",
       "242460          Center         1                    Volt\n",
       "356135           Right         3   Forum voor Democratie\n",
       "436373            Left        -3                    DENK\n",
       "452434          Center         1  Nieuw Sociaal Contract\n",
       "455390          Center         1                  50PLUS\n",
       "1061322           Left        -2         GroenLinks-PvdA"
      ]
     },
     "execution_count": 24,
     "metadata": {},
     "output_type": "execute_result"
    }
   ],
   "source": [
    "df[['Ideology_Group', 'Ideology', 'normalized_party']].drop_duplicates()"
   ]
  },
  {
   "cell_type": "code",
   "execution_count": null,
   "id": "90eedef0-6ef2-43e2-ad16-52ab0f75ab40",
   "metadata": {},
   "outputs": [],
   "source": [
    "## Create dataset specific for migration"
   ]
  },
  {
   "cell_type": "code",
   "execution_count": 25,
   "id": "39e5be2e-e362-4c61-b4db-bdf382f4f790",
   "metadata": {},
   "outputs": [
    {
     "data": {
      "text/plain": [
       "2561"
      ]
     },
     "execution_count": 25,
     "metadata": {},
     "output_type": "execute_result"
    }
   ],
   "source": [
    "# Define keywords and synonyms with wildcard matching\n",
    "keywords = [\n",
    "    'immigratie',\n",
    "    'migratie',\n",
    "    'migrant',\n",
    "    'vluchteling',\n",
    "    'asiel*',\n",
    "    'vreemdeling',\n",
    "    'deportatie',\n",
    "    'integratie',\n",
    "    'naturalisatie',\n",
    "    'verblijfsvergunning',\n",
    "    'grensbeveiliging',\n",
    "    'migratiebeleid',\n",
    "    'emigratie',\n",
    "    'remigratie',\n",
    "    'illegalen',\n",
    "    'grenscontrole',\n",
    "    'grensbewaking',\n",
    "    'vluchtelingenkamp',\n",
    "    'migrantenstroom',\n",
    "    'migratieroute',\n",
    "    'migratiecrisis',\n",
    "    'migratieachtergrond',\n",
    "    'gastarbeider',\n",
    "    'migratienetwerk',\n",
    "    'migratiekwestie',\n",
    "    'migratieproblematiek',\n",
    "    # Additional synonyms and related terms with wildcards\n",
    "    'vluchtelingen*',\n",
    "    'asielzoek*',\n",
    "    'illegalit*',\n",
    "    'grenspolitiek*',\n",
    "    'migratiestromen*',\n",
    "    'grensbeleid*',\n",
    "    'grensoverschrijding*',\n",
    "    'migratiedruk*',\n",
    "    'immigratiebeleid*',\n",
    "    'migratiepolitiek*',\n",
    "    'migratiecrisis*',\n",
    "    'migratieachtergrond*',\n",
    "    'vluchtelingencrisis*',\n",
    "    'emigranten*',\n",
    "    'immigratiekwestie*',\n",
    "    'immigratieproblematiek*',\n",
    "]\n",
    "\n",
    "# Create regex pattern to match any of the keywords with word boundaries\n",
    "pattern = '|'.join([r'\\b{}\\b'.format(keyword) for keyword in keywords])\n",
    "\n",
    "# Filter 'text' column based on the regex pattern\n",
    "filtered_df = df[df['text'].str.contains(pattern, case=False, regex=True)]\n",
    "len(filtered_df)"
   ]
  },
  {
   "cell_type": "code",
   "execution_count": 26,
   "id": "be86ff73-a750-4a33-995b-f396a36c1a9d",
   "metadata": {},
   "outputs": [],
   "source": [
    "filtered_df.to_csv('immigratie_tweets_non_stratefied.csv')"
   ]
  },
  {
   "cell_type": "code",
   "execution_count": null,
   "id": "47b06590",
   "metadata": {},
   "outputs": [],
   "source": [
    "filtered_df = pd.read_csv('immigratie_tweets_non_stratefied.csv')"
   ]
  },
  {
   "cell_type": "code",
   "execution_count": 27,
   "id": "9cd090c9-be7c-4751-874d-6bff11998886",
   "metadata": {},
   "outputs": [
    {
     "data": {
      "image/png": "[encoded data removed]",
      "text/plain": [
       "<Figure size 1000x600 with 1 Axes>"
      ]
     },
     "metadata": {},
     "output_type": "display_data"
    }
   ],
   "source": [
    "# Set the style\n",
    "sns.set_style(\"whitegrid\")\n",
    "\n",
    "# Plot the count of each ideology\n",
    "plt.figure(figsize=(10, 6))\n",
    "sns.countplot(data=filtered_df, x='Ideology', palette='Set2')\n",
    "plt.title('Amount of tweets on immigration-related topics across ideology')\n",
    "plt.xlabel('Ideology (-3 == very left, + 3 == very right)')\n",
    "plt.ylabel('Count')\n",
    "plt.xticks(rotation=45)  # Rotate x-axis labels for better visibility\n",
    "plt.show()"
   ]
  },
  {
   "cell_type": "code",
   "execution_count": 28,
   "id": "946defbf-f3b1-4b8c-982b-c675d6e8cf95",
   "metadata": {},
   "outputs": [
    {
     "data": {
      "image/png": "[encoded data removed]",
      "text/plain": [
       "<Figure size 1000x600 with 1 Axes>"
      ]
     },
     "metadata": {},
     "output_type": "display_data"
    }
   ],
   "source": [
    "# Set the style\n",
    "sns.set_style(\"whitegrid\")\n",
    "\n",
    "# Plot the count of each ideology\n",
    "plt.figure(figsize=(10, 6))\n",
    "sns.countplot(data=filtered_df, x='normalized_party', palette='Set2')\n",
    "plt.title('Amount of tweets on immigration-related topics across ideology')\n",
    "plt.xlabel('political party')\n",
    "plt.ylabel('Count')\n",
    "plt.xticks(rotation=60)  # Rotate x-axis labels for better visibility\n",
    "plt.show()\n"
   ]
  },
  {
   "cell_type": "code",
   "execution_count": null,
   "id": "ccde8234-5653-4af5-bab3-13f8c5a4d415",
   "metadata": {},
   "outputs": [],
   "source": [
    "## Create stratefied sample. \n",
    "\n",
    "# Step 1: stratefied sample of the immigration-specific tweets"
   ]
  },
  {
   "cell_type": "code",
   "execution_count": 29,
   "id": "f4e2f941",
   "metadata": {},
   "outputs": [
    {
     "name": "stdout",
     "output_type": "stream",
     "text": [
      "Distribution before stratified sampling:\n",
      "Left      977\n",
      "Right     900\n",
      "Center    684\n",
      "Name: Ideology_Group, dtype: int64\n",
      "Distribution after stratified sampling:\n",
      "Center    620\n",
      "Left      620\n",
      "Right     620\n",
      "Name: Ideology_Group, dtype: int64\n"
     ]
    }
   ],
   "source": [
    "import pandas as pd\n",
    "\n",
    "# Assuming filtered_df is your DataFrame\n",
    "# Print distribution before stratified sampling\n",
    "print('Distribution before stratified sampling:')\n",
    "print(filtered_df['Ideology_Group'].value_counts())\n",
    "\n",
    "# Define the desired number of samples per group\n",
    "samples_per_group = 620\n",
    "total_samples = samples_per_group * filtered_df['Ideology_Group'].nunique()\n",
    "\n",
    "# Calculate how many groups are in the DataFrame\n",
    "num_groups = filtered_df['Ideology_Group'].nunique()\n",
    "\n",
    "# Ensure we are not trying to sample more than available in any group\n",
    "min_group_size = filtered_df.groupby('Ideology_Group').size().min()\n",
    "if samples_per_group > min_group_size:\n",
    "    raise ValueError(f\"Requested samples per group ({samples_per_group}) exceed the minimum group size ({min_group_size}).\")\n",
    "\n",
    "# Define a function to sample each group\n",
    "def stratified_sample(group, n):\n",
    "    return group.sample(n=n)\n",
    "\n",
    "# Apply the stratified sampling function to each group\n",
    "stratified_samples = filtered_df.groupby('Ideology_Group', group_keys=False).apply(lambda x: stratified_sample(x, samples_per_group))\n",
    "\n",
    "# Reset the index of the sampled DataFrame\n",
    "stratified_samples.reset_index(drop=True, inplace=True)\n",
    "\n",
    "# Print distribution after stratified sampling\n",
    "print('Distribution after stratified sampling:')\n",
    "print(stratified_samples['Ideology_Group'].value_counts())\n"
   ]
  },
  {
   "cell_type": "code",
   "execution_count": 30,
   "id": "bbe594dc-782e-4114-9728-bd8471e6eb5f",
   "metadata": {},
   "outputs": [],
   "source": [
    "stratified_samples['immigration'] = 'yes'\n",
    "stratified_samples.to_csv('final_stratified_immigration.csv')"
   ]
  },
  {
   "cell_type": "code",
   "execution_count": 31,
   "id": "a5f3c0bc",
   "metadata": {},
   "outputs": [
    {
     "name": "stdout",
     "output_type": "stream",
     "text": [
      "1860\n"
     ]
    }
   ],
   "source": [
    "print(len(stratified_samples))"
   ]
  },
  {
   "cell_type": "code",
   "execution_count": 32,
   "id": "1714d565",
   "metadata": {},
   "outputs": [
    {
     "name": "stdout",
     "output_type": "stream",
     "text": [
      "{'PVV', 'GroenLinks', 'BIJ1', 'Nieuw Sociaal Contract', 'VVD', 'DENK', 'D66', 'Volt', 'ChristenUnie', '50PLUS', 'GroenLinks-PvdA', 'Forum voor Democratie', 'SGP', 'JA21', 'CDA', 'Partij voor de Dieren', 'PvdA', 'SP'}\n"
     ]
    }
   ],
   "source": [
    "print(set(df['normalized_party']))"
   ]
  },
  {
   "cell_type": "code",
   "execution_count": 33,
   "id": "644072e1",
   "metadata": {},
   "outputs": [
    {
     "name": "stdout",
     "output_type": "stream",
     "text": [
      "🎙Een nieuwe Podtcast ➡️In deze aflevering spreek ik met @TamerAlalloush @openembassynl over de ontvangst van vluchtelingen in Nederland. Over verschillen in ontvangt en wat je zelf kunt doen. \n",
      "\n",
      "🎧Luisteren? https://t.co/yijtkadET9\n",
      "\n",
      "(Of zoek \"Podtcast\" in je podcastapp)\n",
      "\n",
      "VVD stelt: we zijn teveel geld kwijt aan mensen die geen recht hebben op asiel en daarom moet men buiten de EU die aanvragen doen. Oftewel, we verschuiven het probleem naar ver weg, dan hoef ik er geen verantwoordelijkheid voor te nemen.\n",
      "\n",
      "De tekorten in de opvang blijven oplopen. Dit weten we al maanden, maar de beloofde spreidingswet laat op zich wachten. Kabinet moet nu in actie komen. #asiel #migratie #opvang\n",
      "\n",
      "Opvang asielzoekers: tekort aan bijna 40.000 plekken /via @Nieuwsuur https://t.co/MAbBsVWlrp\n",
      "\n",
      "Andere belangrijke onderwerpen waren energie- en voedselprijzen, multilaterale samenwerking, klimaatverandering, #SIDS, bestrijding van criminaliteit, migratie, en de relatie met Venezuela. 2/3\n",
      "\n",
      "Vorige week nog boden de kerken 10.000 plekken voor vluchtelingen aan, in coronatijd waren ze er in de strijd tegen eenzaamheid. Vandaag daarom een dikke streep onder hun grote maatschappelijke belang. #begrotingBiZa https://t.co/hAPYSt8g41\n",
      "\n",
      "Regio Alkmaar neemt zijn evenredige deel voor opvang van vluchtelingen. Hoop dat de achterblijvers ook snel hun verantwoordelijk nemen. De meeste mensen vluchten voor oorlog en geweld en 92% wordt al in de eigen regio opgevangen.\n",
      "\n",
      "@CanYouImagineI @FritsHuffnagel @nuooons @krijnlock Verschil is natuurlijk dat die vluchtelingen geen tweede kans krijgen. Die moeten het land uit of magen er niet eens in. Zelfs als ze niets misdaan hebben. Want wie weet is hun vader terrorist.\n",
      "\n",
      "Het gebrek aan opvangplekken zorgt ervoor dat in praktische zin, vluchtelingen geen asiel kunnen aanvragen en dus geen aanspraak kunnen maken op hun recht op asiel, zoals beschreven in de Universele Verklaring van de Rechten van de Mens. 3/\n",
      "\n",
      "Wat wel werkt: legale routes instellen, zodat mensen vooraf asiel kunnen aanvragen, veilig over kunnen komen en in Nederland meteen aan het werk kunnen.\n",
      "\n",
      "Zonder gunfactor staat Nederland de komende tijd alleen in alle andere Europese onderhandelingen.\n",
      "\n",
      "Denk aan de EU-begroting, klimaatambities, onze handelsbelangen rondom Brexit, nieuw migratiebeleid en de belangen van Nederlandse bloementelers en vissers.\n",
      "\n",
      "De meerderheid van de Nederlanders (65%) vindt inperking van migratie aanzienlijk belangrijker dan het halen van de klimaatdoelen.\n",
      "Alleen stemmers op PvdA/GL, D66, Volt en de PvdD willen de migratie juist niet verminderen. https://t.co/YpPR3Sol5T\n",
      "\n",
      "@_andre_dammer @FolkertZijl @jaaprodenburg Per saldo neemt door immigratie de bevolkingsgroei in NL toe.\n",
      "\n",
      "Is Europese samenwerking op migratie lastig? Zeker! Omdat landen in noord- en zuid-Europa heel verschillende belangen hebben. Het zijn dan ook de individuele lidstaten en niet “Europa” die dwars liggen voor de echte oplossing: het Europees migratiepact. 🧵4\n",
      "\n",
      "Bij de vluchtelingencrisis moeten we ons hoofd koel houden. Dus opvang zoveel mogelijk in de regio. Maar soms moeten we ook een warm hart tonen, in dit geval voor de meest kwetsbaren, de weeskinderen. \n",
      " https://t.co/7kG7r1JK8h\n",
      "\n",
      "@akkertje @maartenhagg Ik vond het, als eerder gemeld, een waardeloze afspraak en toen we loskwamen van de coalitie hebben we voor elke ruimhartige motie gestemd. Mijn punt bij EenVandaag was dat bij een kaninetsval de uitkomst voor vluchtelingen op Moria nog slechter zou worden. En dat wil ik niet.\n",
      "\n",
      "Hierbij mijn blog over onze inzet voor de vluchtelingen op de Griekse eilanden de afgelopen maanden.  https://t.co/QbMc0Xt0sy\n",
      "\n",
      "Goed nieuws: de EU heeft zojuist een akkoord bereikt over een asiel- en migratiepact. Dit zorgt voor meer grip op migratie, duidelijkheid en een rechtvaardige verdeling.\n",
      "\n",
      "De ChristenUnie heeft altijd gezegd dat de weg voortwaarts Europees is. Een doorbraak.https://t.co/OwlHdXamU0\n",
      "\n",
      "Werkgeversbonden zeggen nu wat wij ook al langer zeggen: ihkv goede integratie, grote arbeidstekorten en het succes bij Oekraïners is het slecht beleid om kansrijke asielzoekers max. 24 weken te laten werken.\n",
      "\n",
      "Vandaag debat over de nota van @Annemarijke https://t.co/A5AY4XnZe6\n",
      "\n",
      "@floris_spronk @jvveen2010 Doe dat de Oekraïense vluchtelingen niet aan.\n",
      "\n",
      "Migratie, klimaatverandering en ontwikkelignssamenwerking zijn volgens de kijkers samenhangende onderwerpen. Eens! Toch blijven de deelnemers aan het debat erg hangen in eigen stokpaardjes. Ben benieuwd of dat coherente beleid waar iedereen naar toe schijnt te willen nog komt.\n",
      "\n",
      "Sinds deze week ben ik niet alleen woordvoerder Veiligheid (incl Terrorisme, Drugs, Prostitutie &amp; Mensenhandel) maar ook woordvoerder Asiel &amp; Migratie. \n",
      "\n",
      "Check hier de volledige portefeuille verdeling van de fractie: https://t.co/LgdgPzzCHm\n",
      "\n",
      "‘Het politieke midden moet juist komen met een migratiebeleid dat voorspelbaar is’  https://t.co/SzORjuk4Zk\n",
      "\n",
      "Als #Volt stemmen wij tegen deze #spreidingswet. Het huidige wetsvoorstel lost problemen niet op maar schuift ze vooruit en draagt niet bij aan een fatsoenlijke en humane opvang. #asiel #migratie\n",
      "\n",
      "https://t.co/ztWRFyrFZI\n",
      "\n",
      "We waarschuwden hier al voor: landen die zich terugtrekken achter de dijken in plaats van elkaar solidair te hand te reiken maken de grip op migratie moeilijker, niet makkelijker. 'Hoe de EU-lidstaten de volgende asielcrisis aan het organiseren zijn' https://t.co/1w0PNJLmab 2/3\n",
      "\n",
      "Voor D66 geldt:\n",
      "Mensen die vluchten voor oorlog en geweld bieden we hier een veilige plek. \n",
      "\n",
      "Voor de VVD geldt:\n",
      "Vluchtelingen die op eigen houtje naar Europa komen, worden direct teruggestuurd.\n",
      "\n",
      "Dat is onmenselijk.\n",
      "Weet wat je stemt op 15, 16 en 17 maart. #stemD66 https://t.co/if4boMBUke\n",
      "\n",
      "Nu het programma van de VVD langs de rechtsstatelijke meetlat is gelegd blijkt: De VVD schendt met drastische beperking van de immigratie universeel erkende mensenrechten.\n",
      "\n",
      "Het rapport van de Adviesraad Migratie laat zien dat je met een richtgetal meer grip kunt krijgen op migratie. Het kabinet moet hier snel mee aan de slag en op korte termijn komen met een migratiestrategie. 1/4\n",
      "\n",
      "Maatregelen moeten voldoende waarborgen hebben, proportioneel en tijdelijk zijn. De mensen aan de grens moeten snel en menselijk geholpen worden. \n",
      "\n",
      "Daarnaast moeten we zorgen voor een beter migratiebeleid, zodat dit soort situaties in de toekomst niet herhaald worden. 2/\n",
      "\n",
      "Het internationaal strafhof vaardigt een arrestatiebevel uit tegen Putin. \n",
      "Die zal niet onmiddellijk uitgevoerd (kunnen) worden, maar het is wel een belangrijke stap.\n",
      "\n",
      "Reden: de deportatie van Oekrainse kinderen naar Rusland\n",
      "\n",
      "https://t.co/4RIoqT97Nz\n",
      "\n",
      "Laten we mensen de kans geven hun tijd in een asielzoekerscentrum goed te gebruiken met taal, werk,onderwijs en medezeggenschap- zei ⁦@d66⁩ al eerder. Nu liggen er interessante voorstellen in België om vroeg te starten met integratie. 🧵➡️ https://t.co/GaD7ToNM5v\n",
      "\n",
      "@RiezebosBouw Prima verslag. Mijn punt is dat ik geen stress ontwaar als ik in onze achterban over migratie spreek. Er zijn verschillen en we debatteren erover, maar ik merk dus geen stress daarbij. En inderdaad, onze achterban valt niet samen met Twitter.\n",
      "\n",
      "We moeten de glijdende schaal in Europa, van steeds minder rechten en steeds meer geweld tegen asielzoekers nu stoppen! \n",
      "\n",
      "Een bizarre stap van de Europese Commissie om het recht op asiel af te zwakken, juist wanneer het het hardst nodig is.\n",
      "\n",
      "Ook in Raalte gaven mensen vanmiddag blijk van betrokkenheid bij de situatie in Oekraïne tijdens een vredesmars. Vrijwilligers van #SallandvoorOekraïne zamelen actief hulpgoederen in. En ook onze regio zal vluchtelingen helpen opvangen, stelde burgemeester @martijndadema. https://t.co/cJAU2PLrGW\n",
      "\n",
      "Daarom ben ik ook blij met onze ChristenUnie Netwerkbijeenkomst ‘Migratie en asiel’ vandaag, bedoeld om dit gesprek en bijbehorende dilemma’s ook binnen de partij zorgvuldig met elkaar te voeren.\n",
      "https://t.co/6TGjW6FkjS https://t.co/XxYc2dhFCI\n",
      "\n",
      "@MvStuijvenberg1 @christenunie Naïviteit? De weg voortwaarts is een herziening van een Europese asiel aanpak, dat staat ook in het coalitieakkoord. Recent heb ik deze motie nog ingediend omdat ik vind dat er te weinig urgentie is getoond door het kabinet afgelopen tijd. Nu doorpakken dus. https://t.co/IKMsemQoOd\n",
      "\n",
      "@leenvandijke De lokale D66-fractie stuurt een college weg omdat die doet waar de landelijke D66 zich sterk voor maakt: humane opvang van vluchtelingen. Heel lastig inderdaad om dit te snappen..\n",
      "\n",
      "Met @d66 collega’s was ik enkele dagen in Beirut om van dichtbij te zien hoe het land met de meeste vluchtelingen per hoofd van de bevolking daarmee omgaat. \n",
      "\n",
      "We spraken met organisaties, ondernemers en vluchtelingen over de economische crisis, polarisatie en perspectief. 1/2 https://t.co/OZZKp12YCR\n",
      "\n",
      "Mooi om mee te kunnen doen vandaag - als er ooit een tijd was voor Europese antwoorden voor migratie is het nu!\n",
      "\n",
      "Voor ons was de inzet helder: meer grip op migratie. Met de val van het kabinet is er nu geen oplossing, terwijl migratie en andere grote vraagstukken van ons de verantwoordelijkheid vragen dit op te lossen.\n",
      "\n",
      "Lees hieronder mijn volledige reactie: https://t.co/yj9vPlUKMY\n",
      "\n",
      "Vandaag vindt op mijn verzoek een rondetafelgesprek over 1F-ers plaats. Dit zijn vluchtelingen die verdacht worden van oorlogsmisdaden. Er zijn grote zorgen dat sommigen geen eerlijk proces krijgen.\n",
      "\n",
      "Nu live te volgen : https://t.co/hBhsT3DTK9\n",
      "\n",
      "https://t.co/JE56EfpxJV\n",
      "\n",
      "Hoeveel AZC's heeft de regering nodig en hoeveel woningen? \n",
      "En wanneer komt er een structureel plan om de huidige crisis op te lossen? \n",
      "Dit beleid ondermijnt het draagvlak voor de opvang van asielzoekers en huisvestiging van vluchtelingen. \n",
      "(4)\n",
      "\n",
      "@geertwilderspvv @NOS @geertwilderspvv Mijn kinderen hebben ook een migratieachtergrond. Wat wilt u nu met dit soort boodschappen bereiken? Mogen zij niet bestaan in Nederland?\n",
      "\n",
      "Mijn collega Anne Kuik heeft vanuit jaar portefeuille intergratie/immigratie samen met andere de druk opgevoerd dat het uitzetten van Afghanen in NL moet worden gestopt totdat er meer duidelijkheid is over situatie in Afghanistan.   4/8\n",
      "\n",
      "3. Tijd voor legale groene migratie om te zorgen dat we genoeg arbeidskrachten hebben voor onze groene transitie.\n",
      "\n",
      "Na vorige week @claudiadebreij de maat te hebben genomen gaat de straightsplaining van de Boon gewoon door. Deze voorzitter is al jaren ‘rechts’ dus daar het het evident níet om. En trouwens waarom is je uitspreken tegen het wegzetten van vluchtelingen als criminelen ‘links’? https://t.co/SXYmQ02OhL\n",
      "\n",
      "#VVD trapt vandaag #TK2021 campagne af volgens beproefd recept: #sorry voor de ongecontroleerde immigratie. Net als @MinPres 4 jaar geleden deed met z'n #sorry voor alle gebroken VVD-beloftes. \n",
      "Wij willen een gecontroleerd streng #immigratiebeleid voor een betere toekomst van NL. https://t.co/05aVcH2kpd\n",
      "\n",
      "@ArlarD Zou kunnen. Maar het is ook deze nieuwe Israëlische regering die veel kritischer staat tov de immigratie van oa Russen die volgens de wetten van de Staat wel Jood zijn, maar volgens de religieuze wetten dat niet zijn.\n",
      "\n",
      "Onvoorstelbare beelden. In Europa. Pushbacks moeten stoppen – mensen hebben het recht om asiel aan te vragen. Als D66 vragen we de staatssecretaris om een reactie en blijven we dit adresseren.\n",
      "\n",
      "En hartverwarmend om te zien hoe deze kerk de deuren opent voor vluchtelingen uit Oekraïne 🇺🇦. Met @ChristenUnieHG verder gesproken over vrijwilligers, ondernemers, gemeente en onderwijs en alles wat nu nodig is en als de opvang langer zal duren. #InVerbinding #samenrechtdoen 2/2 https://t.co/UPXlSPvnyj\n",
      "\n",
      "Ja, @D66 durft duidelijk te zijn over Europese soevereiniteit. Grote grensoverschrijdende thema’s als migratie, klimaat en energie moet je op het juiste schaalniveau aanpakken. \n",
      "\n",
      "(Bekijk het hele gesprek op #StudioSGP) https://t.co/NwiTcZNWCg\n",
      "\n",
      "'Ons Toekomstdebat; daadkracht of drama', georganiseerd door @amnestynl en @oxfamnovib was mooi. \n",
      "\n",
      "Wat voor de @christenunie belangrijk is en blijft: \n",
      "- een barmhartig en verstandig Europees migratiebeleid\n",
      "- meer geld voor ontwikkelingssamenwerking\n",
      "- effectief klimaatbeleid. https://t.co/KQEojVJwx8\n",
      "\n",
      "Vanmiddag benoemde @WBHoekstra in zijn speech ‘de grote thema’s van deze tijd: de cohesie in onze samenleving, integratie, inclusiviteit, klimaat en veiligheid’. De toon is gezet. #teamCDA #HB18\n",
      "\n",
      "Eens met Henk Kamp. En dieptriest dat het zover gekomen is. Want niemand leeft voor zichzelf alleen. Maar de gevolgen van de keuzes in het asiel- en migratiebeleid zijn onhoudbaar. https://t.co/e7dnC3BYLU\n",
      "\n",
      "Veel te eufemistische samenvatting van een extreem racistisch verkiezingsprogramma dat (o.a.) een departement voor deportatie in het leven wil roepen.\n",
      "\n",
      "Als je hartgrondig de onvrijheid in Rusland en het geweld in Oekraïne veroordeelt… sta dan op voor vrede en vrijheid in jouw stad. \n",
      "\n",
      "Stop met het bedreigen, help bijvoorbeeld geld inzamelen voor vluchtelingen, en bedenk wat een verdriet deze gemeenschap nu al heeft. https://t.co/mPykOHt02Y\n",
      "\n",
      "Jan Latten; “Als de immigratie blijft zoals in de afgelopen jaren, dan wonen hier in 2070 mogelijk 22,5 miljoen mensen.” Maar geen woord erover in het regeerakkoord. https://t.co/qpSv2KHuzE #telegraafpremium\n",
      "\n",
      "@bolder_otto @antoniefountain @Leolucassen U negeert mijn punt over gebrek aan alternatieve manieren om als vluchteling een aanvraag te doen (en dus ook alternatieven om vooraf afgewezen te worden als er geen asielgrond is) en dat dit mede een factor is dat bijdraagt de levensgevaarlijke oversteek. Dat is toch waar?\n",
      "\n",
      "Vandaag werd meer bekend over de definitieve uitwerking vd afspraken die zijn gemaakt om veiligheid te bieden aan de kwetsbare vluchtelingen in Griekenland. Ik heb hier gemengde gevoelens over. Zie hieronder onze uitgebreide reactie. ⁦@christenunie⁩ https://t.co/snGtlnMWb0\n",
      "\n",
      "Ik pleitte onder meer voor stabiele financiering voor asielopvang en -procedures en een tweede aanmeldcentrum om de druk op de asielopvang te verminderen. Maar ook voor verlengde opvang voor Alleenstaande Minderjarige Vluchtelingen. (2/4)\n",
      "\n",
      "Vandaag ga ik samen met @MinPres met leden van de Tweede Kamer en het EP in debat over de Staat van de Europese Unie. We bespreken hoe de EU er nu voorstaat, en wat Nederland wil bereiken op belangrijke onderwerpen als Oekraïne, de rechtsstaat en migratie. 1/2 https://t.co/qzCVUIgh5t\n",
      "\n",
      "Er is nu een debat in de @2eKamertweets \n",
      "Over Oekraine en wat er verder moet gebeuren, over sancties, vormen van steun, over vluchtelingen, over oorlogsmisdaden.\n",
      "Grote gevolgen voor Oekraine, voor Europa en voor Nederland\n",
      "Daar zijn jullie afwezig. https://t.co/l0AUoz0JaS\n",
      "\n",
      "Brabants half miljoen voor Oekraïense vluchtelingen? Ja. Boycot Russische schepen? Moeilijk\n",
      "\n",
      "https://t.co/TVsmA54R6l\n",
      "\n",
      "De provinciale 4 mei herdenking in de Prinsentuin was zeer indrukwekkend. Gezinnen met kinderen, veteranen uit Canada en vluchtelingen uit verschillende landen kwamen bij elkaar. Hier lees je de herdenkingsrede die ik uitsprak: https://t.co/66f3rk6p2Q https://t.co/bIG3451tOH\n",
      "\n",
      "Eerste stelling nu: Asiel aanvragen moet alleen/vooral kunnen in aanmeldcentra buiten de grenzen van de Europese Unie.\n",
      "\n",
      "Met @jpaternotte vorig jaar inburgeringsplicht voor Turkse nieuwkomers voorgesteld. Vandaag kondigt minister @wkoolmees aan dit te gaan doen. Voor nieuwkomers én Nederlandse samenleving is betere integratie nodig, zodat ze mee kunnen doen vanaf dag één. \n",
      "https://t.co/oRTD5lj8PF\n",
      "\n",
      "@MvStuijvenberg1 @D66 Het spijt me, maar dat klopt gewoon niet. Zeker, er zijn ook landen die vrijwel geen vluchtelingen opnemen. Maar het gros zit (naast de landen die jij noemt) in landen als Sudan, Uganda,  Pakistan en Kenia. Nederland staat nergens aan de top. En de meeste westerse landen niet.\n",
      "\n",
      "CDA / Nieuws / CDA stemverklaring over moties asiel en migratie https://t.co/l8v2f6t1Yx\n",
      "\n",
      "Vorig jaar startte 12 vluchtelingen met een wetenschappelijke achtergrond  aan NL universiteiten om onderzoek te doen. Vandaag sprak ik met hen en @NWONieuws, @_knaw, @deVSNU, @UAFnl en @DeJongeAkademie. De resultaten zijn positief! Vandaag krijgen er nog eens 9 een beurs. Top! https://t.co/eaG9pwss0Y\n",
      "\n",
      "Dit soort nepnieuws-populisme is schadelijk. Laten we stoppen met vluchtelingen overal de schuld van geven. Het zijn mensen.\n",
      "\n",
      "En een goede aanpak van migratie is ingewikkeld genoeg zonder zoveel fake news.\n",
      "\n",
      "@Caro09667915 @gertjansegers @christenunie Dit voorstel gaat over fatsoenlijke opvang, niet over grip op migratie. Over  het 2e punt heb ik eerder gezegd dat we werk moeten maken van een herziening van het Europees migratiebeleid. Dat betekent meer grip op arbeidsmigratie en een herziening van het Europees asielsysteem. https://t.co/7w7xV4z7Rn\n",
      "\n",
      "Zonder Corona zouden morgen 2000 mensen naar de jaarlijkse dag van @GZBzending gaan. Samen met m’n dochter zou ik er spreken en er zou geld worden ingezameld voor vluchtelingen in Soedan en kerkplanting in Peru. De dag gaat niet door, maar doneren kan wel: https://t.co/Poivf95g76\n",
      "\n",
      "Geen instroom- maar een opvangprobleem van eigen maak. Maar waar gaat de ‘kabinetscrisis’ over? \n",
      "\n",
      "Hoe we kids van hun ouders weghouden. Hoe we minder vluchtelingen een humaan verblijf geven. Alles voor peilingen.\n",
      "\n",
      "VVD, stop met je eigen crises maken. https://t.co/RtGDNhIMaM\n",
      "\n",
      "@Mijnnaamishaas5 @lientje1967 @hannekevdwerf Als een alleenstaande minderjarige vreemdeling niet in aanmerking komt voor een verblijfsvergunning en terugkeer mogelijk is bij ouders dan is dat al beleid. Dat kunt u hier terugvinden en bestuderen: https://t.co/e4Kp6vkyiB\n",
      "\n",
      "Zo diep zijn we dus gezonken: dat officiële Europese organisaties mensenlevens in gevaar brengen want ‘grensbewaking’. \n",
      "\n",
      "‘Frontex betrokken bij illegaal terugsturen asielzoekers op zee'  https://t.co/KRm5BBWZPw\n",
      "\n",
      "Nu onderweg naar de Oekraïense grens. Inmiddels zijn er al 106.000 vluchtelingen de Hongaarse grens over gestoken. 90% vrouwen en kinderen. Dagelijks 18.000. @ZOA_nl zal aan beide kanten van de grens hulp gaan bieden. Als u wilt helpen, ga dan naar https://t.co/Ov3ZbVcj2F. https://t.co/JfLXCgo4wa\n",
      "\n",
      "Vandaag bevestigt de Raad van State: vertragen van gezinshereniging van vluchtelingen is in strijd met de wet. Daarmee is de maatregel van tafel en worden families herenigd.\n",
      "\n",
      "Voldoende en fatsoenlijke opvang blijft nodig, o.a. een goede spreidingswet is belangrijk. Mijn reactie👇 https://t.co/FPd2vuVOzA\n",
      "\n",
      "Direct aan de slag in de zorg nu verblijfsvergunning binnen is⤵️\n",
      "\n",
      "Succes Sofya en Gayane!\n",
      "\n",
      "https://t.co/Tjfi0GErP2\n",
      "\n",
      "Het #Corona virus en het #migratie vraagstuk zijn twee zaken die om een tijdige, overwogen en gezamenlijke Europese aanpak vragen.\n",
      "\n",
      "In het belang van alle betrokken mensen.\n",
      "\n",
      "Per land andere maatregelen nemen en het uitvergroten van onderlinge tegenstellingen is contraproductief.\n",
      "\n",
      "Duidelijke boodschap van de staatssecretaris over de opvang van mogelijke Oekraïnse vluchtelingen. Laten we als Nederland klaar staan om ruimhartig een bijdrage te leveren.\n",
      "\n",
      "@ErikvanB1 @D66 Met het geld en veel extra mogelijkheden voor gemeenten kunnen zij huisvesting regelen – 20.000 extra huizen in 2022 voor statushouders – zodat alle vluchtelingen die mogen blijven, uit de AZCs kunnen. Zo zorgen we ook dat het op de langere termijn beter blijft gaan. 2/2\n",
      "\n",
      "Vandaag en morgen in Athene voor vergadering van de NAVO PA. \n",
      "\n",
      "Onderwerpen die we oa. bespreken:\n",
      "- Migratie door klimaatverandering en honger.\n",
      "- Energiecrisis \n",
      "- Oorlog in Oekraïne\n",
      "\n",
      "En in de wandelgangen over toelating Zweden en relatie tussen Griekenland en Turkije. https://t.co/O2y80FB2Vb\n",
      "\n",
      "Ik heb tijdens het debat vandaag gevraagd om naast het huidige sanctiepakket het volgende te overwegen:\n",
      "\n",
      "- Brievenbusfirma’s in Nederland doorlichten\n",
      "- Statenklacht indienen bij het EHRM\n",
      "- Gemeenten voorbereiden voor extra opvang vluchtelingen\n",
      "- Extra inzet noodhulp in #Oekraïne\n",
      "\n",
      "Goed gesprek gehad met de ambassadeur van Oekraïne @KononenkoMak over de verschrikkelijke oorlog in het land, wat Nederland nog meer kan betekenen, het belang van effectieve sancties tegen oligarchen en goede coördinatie rond de opvang, zorg en onderwijs van vluchtelingen. (1/2) https://t.co/aXbIdyQWF3\n",
      "\n",
      "@DitisdeDag We moeten zorgen voor een snelle asielprocedure aan de grens. Zodat we de mensen die recht hebben op asiel, dit ook kunnen geven.\n",
      "\n",
      "Dit kan door meer faciliteiten aan de grens, en legale routes aan te bieden.\n",
      "\n",
      "Ik vertelde erover bij @DitisdeDag @TijsvandenBrink 👇🏽 https://t.co/Uq0Ow8kgnk\n",
      "\n",
      "Hans van Mierlo zei ooit: \"sommige dingen zijn niet-onderhandelbaar\" Helaas zien we dat ook vluchtelingen politieke handelswaar zijn geworden. 'Het is de hoogste tijd voor een duurzaam asielbeleid.' Helemaal eens met het College vd Rechten van de Mens https://t.co/dUPZIB0ptQ\n",
      "\n",
      "Corona, klimaat, immigratie. Ik denk dat Biden z’n prio’s in ieder geval op orde heeft. https://t.co/0cvVGQM0Wr\n",
      "\n",
      "@stellastarlight @RenskeLeijten @peterkwint Stuur me een DM of een email met details (liefst met het BSN nummer van de persoon met een verblijfsvergunning), dan stuur ik het door. Ben benieuwd naar het antwoord van de belastingdienst.\n",
      "\n",
      "Minister Kaag zegt @christenunie en @PvdA toe binnen twee weken extra fondsen vrij te maken voor de humanitaire hulp voor de vluchtelingen op Lesbos.\n",
      "\n",
      "Dit soort berichten - hoe Duitsland deze winter mogelijk stroomexport naar andere EU-landen stopzet - bewijst eens te meer de noodzaak van een verdere integratie van de Europese stroom- en energienetwerken en de volgende fase in Europese solidariteit. \n",
      "https://t.co/FEkFqsvyWf\n",
      "\n",
      "Mooi en warm afscheid gehad vandaag op het CU-congres, na 22 jaar voor de @christenunie te hebben gewerkt. Dank allen met wie ik heb samengewerkt al die jaren. \n",
      "Nu door met dezelfde onderwerpen: vluchtelingen, godsdienstvrijheid en Israël.😉 https://t.co/GqMzLr1br4\n",
      "\n",
      "De afgelopen 14 weken heb ik geprobeerd een campagne te voeren op basis van inhoud, ideeën, visie. Dat geeft zuurstof aan de politiek.\n",
      "\n",
      "Zoals de 4 lezingen die ik heb gegeven. Over bestaanszekerheid, economie, migratie, klimaat, gemeenschapszin, Europa en de regio.\n",
      "\n",
      "Goed gesprek gehad met de Armeense ambassadeur @tbalayan over verschillende onderwerpen waaronder Nagorno-Karabach, erkenning van de Armeense genocide en de situatie van Armeens-Syrische vluchtelingen.\n",
      "\n",
      "De komende periode zal ik meerdere gesprekken met ambassadeurs voeren. https://t.co/m37yAoDwEA\n",
      "\n",
      "EU lidstaten hebben besloten gezamenlijk “temporary protection directive” voor het eerst te activeren. Alle vluchtelingen uit Oekraïne krijgen automatisch bescherming in hele EU.\n",
      "Bijzondere eensgezindheid in EU op migratie, na zoveel impasse en \n",
      "soms lelijkheid al die jaren.\n",
      "\n",
      "@JanGvanderVliet Dit verdienmodel van smokkelaars wordt toch gesloopt op het moment dat er een veiligere en simpelere manier van asiel aanvragen is, waarbij je geen gevaarlijke overtocht hoeft te doen? En dat regelen is toch gewoon een politieke keuze?\n",
      "\n",
      "Dat wordt vuurwerk! Vanavond gaat @WybrenvanHaga met @StephanvBaarle en @Eerdmans bij @nosop3 in debat over #migratie, #koopkracht en de aanval op vrijheid, vermogen en bezit. \n",
      "Kijk je mee? https://t.co/LLP8Wce3q8… #StemBVNL https://t.co/CKKKMH6KRo\n",
      "\n",
      "Vrijdag gaf ik een lezing in Leeuwarden\n",
      "\n",
      "- Over de staat van land, de staat van de politiek en de uitdagingen \n",
      "- Een aantal ideeën over migratie\n",
      "- Een oproep om samen initiatieven te nemen en niet te wachten op Den Haag\n",
      "\n",
      "Hier kun je hem terugkijken: \n",
      "https://t.co/hpSlSindCz\n",
      "\n",
      "@DutchCryptoEnt @Caro09667915 @gertjansegers @christenunie Volgens mij is wat ik zeg geen onzin maar feiten. Feit is dat arbeidsmigratie allergrootste factor van migratie is. Feit is dat er in EU het GEAS voorstel ligt. Feit is dat Nederland nog niet veel gedaan heeft om dat voorstel over de streep te trekken.\n",
      "\n",
      "Een hele dag in het kader van @D66 talent! Van een bijeenkomst met de talentencommissie en regiobestuurders over hoe we talenten kunnen ondersteunen, naar een geweldig gesprek met @d66route66 over migratie en asiel met mooie vragen en ideeën. https://t.co/ZNDJzeyPNF\n",
      "\n",
      "Loekasjenko gebruikt ze als speelbal, maar dat mag geen excuus zijn om vluchtelingen de dood in te jagen en muren op te werpen. Hulporganisaties, journalisten en de Europese Commissie moeten zo snel mogelijk toegang krijgen tot het niemandsland om asielzoekers te helpen. #Belarus\n",
      "\n",
      "Ik denk deze ochtend aan:\n",
      "\n",
      "Nederlanders met een migratie afkomst\n",
      "onze steun aan Oekraïne\n",
      "vluchtelingen\n",
      "kunstenaars en wetenschappers\n",
      "moslims\n",
      "onze plek in de EU\n",
      "journalisten en onze publieke omroep\n",
      "ontwikkelingssamenwerking\n",
      "artikel 1 van onze Grondwet\n",
      "\n"
     ]
    }
   ],
   "source": [
    "for i in stratified_samples['text'][:100]:\n",
    "    print(i)\n",
    "    print()"
   ]
  },
  {
   "cell_type": "code",
   "execution_count": 34,
   "id": "79270808-5c6e-4de2-b9a1-1c084604f272",
   "metadata": {},
   "outputs": [
    {
     "data": {
      "image/png": "[encoded data removed]",
      "text/plain": [
       "<Figure size 1000x600 with 1 Axes>"
      ]
     },
     "metadata": {},
     "output_type": "display_data"
    }
   ],
   "source": [
    "# Set the style\n",
    "sns.set_style(\"whitegrid\")\n",
    "\n",
    "# Plot the count of each ideology\n",
    "plt.figure(figsize=(10, 6))\n",
    "sns.countplot(data=stratified_samples, x='Ideology_Group', palette='Set2')\n",
    "plt.title('N of tweets')\n",
    "plt.xlabel('political party')\n",
    "plt.ylabel('Count')\n",
    "plt.xticks(rotation=60)  # Rotate x-axis labels for better visibility\n",
    "plt.show()\n"
   ]
  }
 ],
 "metadata": {
  "kernelspec": {
   "display_name": "Python 3 (ipykernel)",
   "language": "python",
   "name": "python3"
  },
  "language_info": {
   "codemirror_mode": {
    "name": "ipython",
    "version": 3
   },
   "file_extension": ".py",
   "mimetype": "text/x-python",
   "name": "python",
   "nbconvert_exporter": "python",
   "pygments_lexer": "ipython3",
   "version": "3.9.6"
  }
 },
 "nbformat": 4,
 "nbformat_minor": 5
}
