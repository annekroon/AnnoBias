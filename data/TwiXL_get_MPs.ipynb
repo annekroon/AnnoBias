{
 "cells": [
  {
   "cell_type": "code",
   "execution_count": 7,
   "id": "13c8fefc-022c-4064-9bcd-ff188b600ba2",
   "metadata": {},
   "outputs": [
    {
     "name": "stdout",
     "output_type": "stream",
     "text": [
      "\u001b[33mWARNING: The directory '/Users/anne/Library/Caches/pip' or its parent directory is not owned or is not writable by the current user. The cache has been disabled. Check the permissions and owner of that directory. If executing pip with sudo, you should use sudo's -H flag.\u001b[0m\n",
      "Collecting git+https://gitlab.com/twi-xl-surf-nl/twi-xl-python.git@73039c837dcce371c8ba4d25f1f7533f9763c954\n",
      "  Cloning https://gitlab.com/twi-xl-surf-nl/twi-xl-python.git (to revision 73039c837dcce371c8ba4d25f1f7533f9763c954) to /private/tmp/pip-req-build-79mli8yj\n",
      "  Running command git clone -q https://gitlab.com/twi-xl-surf-nl/twi-xl-python.git /private/tmp/pip-req-build-79mli8yj\n",
      "  Running command git rev-parse -q --verify 'sha^73039c837dcce371c8ba4d25f1f7533f9763c954'\n",
      "  Running command git fetch -q https://gitlab.com/twi-xl-surf-nl/twi-xl-python.git 73039c837dcce371c8ba4d25f1f7533f9763c954\n",
      "  Running command git checkout -q 73039c837dcce371c8ba4d25f1f7533f9763c954\n",
      "  Resolved https://gitlab.com/twi-xl-surf-nl/twi-xl-python.git to commit 73039c837dcce371c8ba4d25f1f7533f9763c954\n",
      "\u001b[33m  WARNING: Value for prefixed-purelib does not match. Please report this to <https://github.com/pypa/pip/issues/10151>\n",
      "  distutils: /private/tmp/pip-build-env-ic0cx0xl/normal/lib/python3.9/site-packages\n",
      "  sysconfig: /Library/Python/3.9/site-packages\u001b[0m\n",
      "\u001b[33m  WARNING: Value for prefixed-platlib does not match. Please report this to <https://github.com/pypa/pip/issues/10151>\n",
      "  distutils: /private/tmp/pip-build-env-ic0cx0xl/normal/lib/python3.9/site-packages\n",
      "  sysconfig: /Library/Python/3.9/site-packages\u001b[0m\n",
      "\u001b[33m  WARNING: Additional context:\n",
      "  user = False\n",
      "  home = None\n",
      "  root = None\n",
      "  prefix = '/private/tmp/pip-build-env-ic0cx0xl/normal'\u001b[0m\n",
      "\u001b[33m  WARNING: Value for prefixed-purelib does not match. Please report this to <https://github.com/pypa/pip/issues/10151>\n",
      "  distutils: /private/tmp/pip-build-env-ic0cx0xl/overlay/lib/python3.9/site-packages\n",
      "  sysconfig: /Library/Python/3.9/site-packages\u001b[0m\n",
      "\u001b[33m  WARNING: Value for prefixed-platlib does not match. Please report this to <https://github.com/pypa/pip/issues/10151>\n",
      "  distutils: /private/tmp/pip-build-env-ic0cx0xl/overlay/lib/python3.9/site-packages\n",
      "  sysconfig: /Library/Python/3.9/site-packages\u001b[0m\n",
      "\u001b[33m  WARNING: Additional context:\n",
      "  user = False\n",
      "  home = None\n",
      "  root = None\n",
      "  prefix = '/private/tmp/pip-build-env-ic0cx0xl/overlay'\u001b[0m\n",
      "  Installing build dependencies ... \u001b[?25ldone\n",
      "\u001b[?25h  Getting requirements to build wheel ... \u001b[?25ldone\n",
      "\u001b[?25h    Preparing wheel metadata ... \u001b[?25ldone\n",
      "\u001b[?25hCollecting pendulum<4.0.0,>=3.0.0\n",
      "  Downloading pendulum-3.0.0-cp39-cp39-macosx_10_12_x86_64.whl (362 kB)\n",
      "\u001b[K     |████████████████████████████████| 362 kB 6.5 MB/s eta 0:00:01\n",
      "\u001b[?25hCollecting python-twitter<4.0,>=3.5\n",
      "  Downloading python_twitter-3.5-py2.py3-none-any.whl (67 kB)\n",
      "\u001b[K     |████████████████████████████████| 67 kB 13.3 MB/s eta 0:00:01\n",
      "\u001b[?25hCollecting requests<3.0.0,>=2.28.1\n",
      "  Downloading requests-2.31.0-py3-none-any.whl (62 kB)\n",
      "\u001b[K     |████████████████████████████████| 62 kB 13.7 MB/s eta 0:00:01\n",
      "\u001b[?25hCollecting requests-oauthlib<2.0.0,>=1.3.1\n",
      "  Downloading requests_oauthlib-1.3.1-py2.py3-none-any.whl (23 kB)\n",
      "Collecting furl<3.0.0,>=2.1.3\n",
      "  Downloading furl-2.1.3-py2.py3-none-any.whl (20 kB)\n",
      "Collecting matplotlib<4.0.0,>=3.5.1\n",
      "  Downloading matplotlib-3.8.4-cp39-cp39-macosx_10_12_x86_64.whl (7.6 MB)\n",
      "\u001b[K     |████████████████████████████████| 7.6 MB 9.9 MB/s eta 0:00:01\n",
      "\u001b[?25hCollecting pydantic<2.0.0,>=1.10.2\n",
      "  Downloading pydantic-1.10.15-cp39-cp39-macosx_10_9_x86_64.whl (3.0 MB)\n",
      "\u001b[K     |████████████████████████████████| 3.0 MB 8.8 MB/s eta 0:00:01\n",
      "\u001b[?25hCollecting pandas<2.0.0,>=1.5.1\n",
      "  Downloading pandas-1.5.3-cp39-cp39-macosx_10_9_x86_64.whl (12.0 MB)\n",
      "\u001b[K     |████████████████████████████████| 12.0 MB 34.1 MB/s eta 0:00:01\n",
      "\u001b[?25hCollecting python-dateutil<3.0.0,>=2.8.2\n",
      "  Downloading python_dateutil-2.9.0.post0-py2.py3-none-any.whl (229 kB)\n",
      "\u001b[K     |████████████████████████████████| 229 kB 12.9 MB/s eta 0:00:01\n",
      "\u001b[?25hCollecting humanize<5.0.0,>=4.4.0\n",
      "  Downloading humanize-4.9.0-py3-none-any.whl (126 kB)\n",
      "\u001b[K     |████████████████████████████████| 126 kB 13.7 MB/s eta 0:00:01\n",
      "\u001b[?25hCollecting nltk<4.0.0,>=3.8.1\n",
      "  Downloading nltk-3.8.1-py3-none-any.whl (1.5 MB)\n",
      "\u001b[K     |████████████████████████████████| 1.5 MB 13.9 MB/s eta 0:00:01\n",
      "\u001b[?25hCollecting tldextract<6.0.0,>=5.1.1\n",
      "  Downloading tldextract-5.1.2-py3-none-any.whl (97 kB)\n",
      "\u001b[K     |████████████████████████████████| 97 kB 15.3 MB/s eta 0:00:01\n",
      "\u001b[?25hCollecting wordcloud<2.0.0.0,>=1.8.2.2\n",
      "  Downloading wordcloud-1.9.3-cp39-cp39-macosx_10_9_x86_64.whl (173 kB)\n",
      "\u001b[K     |████████████████████████████████| 173 kB 12.0 MB/s eta 0:00:01\n",
      "\u001b[?25hCollecting orderedmultidict>=1.0.1\n",
      "  Downloading orderedmultidict-1.0.1-py2.py3-none-any.whl (11 kB)\n",
      "Collecting six>=1.8.0\n",
      "  Downloading six-1.16.0-py2.py3-none-any.whl (11 kB)\n",
      "Collecting pyparsing>=2.3.1\n",
      "  Downloading pyparsing-3.1.2-py3-none-any.whl (103 kB)\n",
      "\u001b[K     |████████████████████████████████| 103 kB 14.4 MB/s eta 0:00:01\n",
      "\u001b[?25hCollecting packaging>=20.0\n",
      "  Downloading packaging-24.0-py3-none-any.whl (53 kB)\n",
      "\u001b[K     |████████████████████████████████| 53 kB 15.9 MB/s eta 0:00:01\n",
      "\u001b[?25hCollecting pillow>=8\n",
      "  Downloading pillow-10.3.0-cp39-cp39-macosx_10_10_x86_64.whl (3.5 MB)\n",
      "\u001b[K     |████████████████████████████████| 3.5 MB 13.0 MB/s eta 0:00:01\n",
      "\u001b[?25hCollecting contourpy>=1.0.1\n",
      "  Downloading contourpy-1.2.1-cp39-cp39-macosx_10_9_x86_64.whl (260 kB)\n",
      "\u001b[K     |████████████████████████████████| 260 kB 11.4 MB/s eta 0:00:01\n",
      "\u001b[?25hCollecting kiwisolver>=1.3.1\n",
      "  Downloading kiwisolver-1.4.5-cp39-cp39-macosx_10_9_x86_64.whl (68 kB)\n",
      "\u001b[K     |████████████████████████████████| 68 kB 17.6 MB/s eta 0:00:01\n",
      "\u001b[?25hCollecting numpy>=1.21\n",
      "  Downloading numpy-1.26.4-cp39-cp39-macosx_10_9_x86_64.whl (20.6 MB)\n",
      "\u001b[K     |████████████████████████████████| 20.6 MB 13.7 MB/s eta 0:00:01\n",
      "\u001b[?25hCollecting importlib-resources>=3.2.0\n",
      "  Downloading importlib_resources-6.4.0-py3-none-any.whl (38 kB)\n",
      "Collecting fonttools>=4.22.0\n",
      "  Downloading fonttools-4.51.0-cp39-cp39-macosx_10_9_x86_64.whl (2.3 MB)\n",
      "\u001b[K     |████████████████████████████████| 2.3 MB 10.6 MB/s eta 0:00:01\n",
      "\u001b[?25hCollecting cycler>=0.10\n",
      "  Downloading cycler-0.12.1-py3-none-any.whl (8.3 kB)\n",
      "Collecting zipp>=3.1.0\n",
      "  Downloading zipp-3.18.1-py3-none-any.whl (8.2 kB)\n",
      "Collecting click\n",
      "  Downloading click-8.1.7-py3-none-any.whl (97 kB)\n",
      "\u001b[K     |████████████████████████████████| 97 kB 16.1 MB/s eta 0:00:01\n",
      "\u001b[?25hCollecting regex>=2021.8.3\n",
      "  Downloading regex-2023.12.25-cp39-cp39-macosx_10_9_x86_64.whl (296 kB)\n",
      "\u001b[K     |████████████████████████████████| 296 kB 11.7 MB/s eta 0:00:01\n",
      "\u001b[?25hCollecting tqdm\n",
      "  Downloading tqdm-4.66.2-py3-none-any.whl (78 kB)\n",
      "\u001b[K     |████████████████████████████████| 78 kB 15.1 MB/s eta 0:00:01\n",
      "\u001b[?25hCollecting joblib\n",
      "  Downloading joblib-1.4.0-py3-none-any.whl (301 kB)\n",
      "\u001b[K     |████████████████████████████████| 301 kB 13.4 MB/s eta 0:00:01\n",
      "\u001b[?25hCollecting pytz>=2020.1\n",
      "  Downloading pytz-2024.1-py2.py3-none-any.whl (505 kB)\n",
      "\u001b[K     |████████████████████████████████| 505 kB 13.6 MB/s eta 0:00:01\n",
      "\u001b[?25hCollecting time-machine>=2.6.0\n",
      "  Downloading time_machine-2.14.1-cp39-cp39-macosx_10_9_x86_64.whl (17 kB)\n",
      "Collecting tzdata>=2020.1\n",
      "  Downloading tzdata-2024.1-py2.py3-none-any.whl (345 kB)\n",
      "\u001b[K     |████████████████████████████████| 345 kB 13.1 MB/s eta 0:00:01\n",
      "\u001b[?25hCollecting typing-extensions>=4.2.0\n",
      "  Downloading typing_extensions-4.11.0-py3-none-any.whl (34 kB)\n",
      "Collecting future\n",
      "  Downloading future-1.0.0-py3-none-any.whl (491 kB)\n",
      "\u001b[K     |████████████████████████████████| 491 kB 10.1 MB/s eta 0:00:01\n",
      "\u001b[?25hCollecting idna<4,>=2.5\n",
      "  Downloading idna-3.6-py3-none-any.whl (61 kB)\n",
      "\u001b[K     |████████████████████████████████| 61 kB 7.0 MB/s  eta 0:00:01\n",
      "\u001b[?25hCollecting urllib3<3,>=1.21.1\n",
      "  Downloading urllib3-2.2.1-py3-none-any.whl (121 kB)\n",
      "\u001b[K     |████████████████████████████████| 121 kB 13.0 MB/s eta 0:00:01\n",
      "\u001b[?25hCollecting charset-normalizer<4,>=2\n",
      "  Downloading charset_normalizer-3.3.2-cp39-cp39-macosx_10_9_x86_64.whl (122 kB)\n",
      "\u001b[K     |████████████████████████████████| 122 kB 13.2 MB/s eta 0:00:01\n",
      "\u001b[?25hCollecting certifi>=2017.4.17\n",
      "  Downloading certifi-2024.2.2-py3-none-any.whl (163 kB)\n",
      "\u001b[K     |████████████████████████████████| 163 kB 8.9 MB/s eta 0:00:01\n"
     ]
    },
    {
     "name": "stdout",
     "output_type": "stream",
     "text": [
      "\u001b[?25hCollecting oauthlib>=3.0.0\n",
      "  Downloading oauthlib-3.2.2-py3-none-any.whl (151 kB)\n",
      "\u001b[K     |████████████████████████████████| 151 kB 13.4 MB/s eta 0:00:01\n",
      "\u001b[?25hCollecting requests-file>=1.4\n",
      "  Downloading requests_file-2.0.0-py2.py3-none-any.whl (4.2 kB)\n",
      "Collecting filelock>=3.0.8\n",
      "  Downloading filelock-3.13.4-py3-none-any.whl (11 kB)\n",
      "Building wheels for collected packages: twi-xl-python\n",
      "  Building wheel for twi-xl-python (PEP 517) ... \u001b[?25ldone\n",
      "\u001b[?25h  Created wheel for twi-xl-python: filename=twi_xl_python-1.0.0-py3-none-any.whl size=12517 sha256=ba271d2b6c4a6c8f456586738b00e5fc50d35ff3b8919da74a063fe251f375b0\n",
      "  Stored in directory: /private/tmp/pip-ephem-wheel-cache-4t6tnhqn/wheels/57/55/26/885db34221264a036eb412f1ff577628cc04efd348eba371ea\n",
      "Successfully built twi-xl-python\n",
      "Installing collected packages: zipp, urllib3, six, numpy, idna, charset-normalizer, certifi, requests, python-dateutil, pyparsing, pillow, packaging, oauthlib, kiwisolver, importlib-resources, fonttools, cycler, contourpy, tzdata, typing-extensions, tqdm, time-machine, requests-oauthlib, requests-file, regex, pytz, orderedmultidict, matplotlib, joblib, future, filelock, click, wordcloud, tldextract, python-twitter, pydantic, pendulum, pandas, nltk, humanize, furl, twi-xl-python\n",
      "  Attempting uninstall: zipp\n",
      "    Found existing installation: zipp 3.15.0\n",
      "    Uninstalling zipp-3.15.0:\n",
      "      Successfully uninstalled zipp-3.15.0\n",
      "  Attempting uninstall: urllib3\n",
      "    Found existing installation: urllib3 1.26.15\n",
      "    Uninstalling urllib3-1.26.15:\n",
      "      Successfully uninstalled urllib3-1.26.15\n",
      "  Attempting uninstall: six\n",
      "    Found existing installation: six 1.15.0\n",
      "    Uninstalling six-1.15.0:\n",
      "      Successfully uninstalled six-1.15.0\n",
      "  Attempting uninstall: numpy\n",
      "    Found existing installation: numpy 1.23.5\n",
      "    Uninstalling numpy-1.23.5:\n",
      "      Successfully uninstalled numpy-1.23.5\n",
      "  Attempting uninstall: idna\n",
      "    Found existing installation: idna 3.4\n",
      "    Uninstalling idna-3.4:\n",
      "      Successfully uninstalled idna-3.4\n",
      "  Attempting uninstall: charset-normalizer\n",
      "    Found existing installation: charset-normalizer 3.1.0\n",
      "\u001b[33m    WARNING: Value for bin_prefix does not match. Please report this to <https://github.com/pypa/pip/issues/10151>\n",
      "    distutils: /Library/Developer/CommandLineTools/Library/Frameworks/Python3.framework/Versions/3.9/bin\n",
      "    sysconfig: /usr/local/bin\u001b[0m\n",
      "\u001b[33m    WARNING: Additional context:\n",
      "    user = False\n",
      "    home = None\n",
      "    root = None\n",
      "    prefix = None\u001b[0m\n",
      "    Uninstalling charset-normalizer-3.1.0:\n",
      "      Successfully uninstalled charset-normalizer-3.1.0\n",
      "  Attempting uninstall: certifi\n",
      "    Found existing installation: certifi 2022.12.7\n",
      "    Uninstalling certifi-2022.12.7:\n",
      "      Successfully uninstalled certifi-2022.12.7\n",
      "  Attempting uninstall: requests\n",
      "    Found existing installation: requests 2.28.2\n",
      "    Uninstalling requests-2.28.2:\n",
      "      Successfully uninstalled requests-2.28.2\n",
      "  Attempting uninstall: python-dateutil\n",
      "    Found existing installation: python-dateutil 2.8.2\n",
      "    Uninstalling python-dateutil-2.8.2:\n",
      "      Successfully uninstalled python-dateutil-2.8.2\n",
      "  Attempting uninstall: pyparsing\n",
      "    Found existing installation: pyparsing 3.0.9\n",
      "    Uninstalling pyparsing-3.0.9:\n",
      "      Successfully uninstalled pyparsing-3.0.9\n",
      "  Attempting uninstall: pillow\n",
      "    Found existing installation: Pillow 9.4.0\n",
      "    Uninstalling Pillow-9.4.0:\n",
      "      Successfully uninstalled Pillow-9.4.0\n",
      "  Attempting uninstall: packaging\n",
      "    Found existing installation: packaging 23.0\n",
      "    Uninstalling packaging-23.0:\n",
      "      Successfully uninstalled packaging-23.0\n",
      "  Attempting uninstall: kiwisolver\n",
      "    Found existing installation: kiwisolver 1.4.4\n",
      "    Uninstalling kiwisolver-1.4.4:\n",
      "      Successfully uninstalled kiwisolver-1.4.4\n",
      "  Attempting uninstall: importlib-resources\n",
      "    Found existing installation: importlib-resources 5.12.0\n",
      "    Uninstalling importlib-resources-5.12.0:\n",
      "      Successfully uninstalled importlib-resources-5.12.0\n",
      "  Attempting uninstall: fonttools\n",
      "    Found existing installation: fonttools 4.39.2\n",
      "    Uninstalling fonttools-4.39.2:\n",
      "      Successfully uninstalled fonttools-4.39.2\n",
      "  Attempting uninstall: cycler\n",
      "    Found existing installation: cycler 0.11.0\n",
      "    Uninstalling cycler-0.11.0:\n",
      "      Successfully uninstalled cycler-0.11.0\n",
      "  Attempting uninstall: contourpy\n",
      "    Found existing installation: contourpy 1.0.7\n",
      "    Uninstalling contourpy-1.0.7:\n",
      "      Successfully uninstalled contourpy-1.0.7\n",
      "  Attempting uninstall: tzdata\n",
      "    Found existing installation: tzdata 2023.3\n",
      "    Uninstalling tzdata-2023.3:\n",
      "      Successfully uninstalled tzdata-2023.3\n",
      "  Attempting uninstall: typing-extensions\n",
      "    Found existing installation: typing-extensions 4.5.0\n",
      "    Uninstalling typing-extensions-4.5.0:\n",
      "      Successfully uninstalled typing-extensions-4.5.0\n",
      "  Attempting uninstall: tqdm\n",
      "    Found existing installation: tqdm 4.65.0\n",
      "    Uninstalling tqdm-4.65.0:\n",
      "      Successfully uninstalled tqdm-4.65.0\n",
      "  Attempting uninstall: regex\n",
      "    Found existing installation: regex 2023.3.22\n",
      "    Uninstalling regex-2023.3.22:\n",
      "      Successfully uninstalled regex-2023.3.22\n",
      "  Attempting uninstall: pytz\n",
      "    Found existing installation: pytz 2022.7.1\n",
      "    Uninstalling pytz-2022.7.1:\n",
      "      Successfully uninstalled pytz-2022.7.1\n",
      "  Attempting uninstall: matplotlib\n",
      "    Found existing installation: matplotlib 3.7.1\n",
      "    Uninstalling matplotlib-3.7.1:\n",
      "      Successfully uninstalled matplotlib-3.7.1\n",
      "  Attempting uninstall: joblib\n",
      "    Found existing installation: joblib 1.2.0\n",
      "    Uninstalling joblib-1.2.0:\n",
      "      Successfully uninstalled joblib-1.2.0\n",
      "  Attempting uninstall: future\n",
      "    Found existing installation: future 0.18.2\n",
      "    Uninstalling future-0.18.2:\n",
      "      Successfully uninstalled future-0.18.2\n",
      "  Attempting uninstall: filelock\n",
      "    Found existing installation: filelock 3.12.0\n",
      "    Uninstalling filelock-3.12.0:\n",
      "      Successfully uninstalled filelock-3.12.0\n",
      "  Attempting uninstall: click\n",
      "    Found existing installation: click 8.1.3\n",
      "    Uninstalling click-8.1.3:\n",
      "      Successfully uninstalled click-8.1.3\n",
      "  Attempting uninstall: wordcloud\n",
      "    Found existing installation: wordcloud 1.8.2.2\n",
      "    Uninstalling wordcloud-1.8.2.2:\n",
      "      Successfully uninstalled wordcloud-1.8.2.2\n",
      "  Attempting uninstall: pydantic\n",
      "    Found existing installation: pydantic 1.10.7\n",
      "    Uninstalling pydantic-1.10.7:\n",
      "      Successfully uninstalled pydantic-1.10.7\n",
      "  Attempting uninstall: pandas\n",
      "    Found existing installation: pandas 2.0.1\n",
      "    Uninstalling pandas-2.0.1:\n",
      "      Successfully uninstalled pandas-2.0.1\n",
      "  Attempting uninstall: nltk\n",
      "    Found existing installation: nltk 3.8.1\n",
      "    Uninstalling nltk-3.8.1:\n",
      "      Successfully uninstalled nltk-3.8.1\n",
      "\u001b[31mERROR: pip's dependency resolver does not currently take into account all the packages that are installed. This behaviour is the source of the following dependency conflicts.\n",
      "numba 0.56.4 requires numpy<1.24,>=1.18, but you have numpy 1.26.4 which is incompatible.\n",
      "pyldavis 3.4.1 requires pandas>=2.0.0, but you have pandas 1.5.3 which is incompatible.\u001b[0m\n",
      "Successfully installed certifi-2024.2.2 charset-normalizer-3.3.2 click-8.1.7 contourpy-1.2.1 cycler-0.12.1 filelock-3.13.4 fonttools-4.51.0 furl-2.1.3 future-1.0.0 humanize-4.9.0 idna-3.6 importlib-resources-6.4.0 joblib-1.4.0 kiwisolver-1.4.5 matplotlib-3.8.4 nltk-3.8.1 numpy-1.26.4 oauthlib-3.2.2 orderedmultidict-1.0.1 packaging-24.0 pandas-1.5.3 pendulum-3.0.0 pillow-10.3.0 pydantic-1.10.15 pyparsing-3.1.2 python-dateutil-2.9.0.post0 python-twitter-3.5 pytz-2024.1 regex-2023.12.25 requests-2.31.0 requests-file-2.0.0 requests-oauthlib-1.3.1 six-1.16.0 time-machine-2.14.1 tldextract-5.1.2 tqdm-4.66.2 twi-xl-python-1.0.0 typing-extensions-4.11.0 tzdata-2024.1 urllib3-2.2.1 wordcloud-1.9.3 zipp-3.18.1\n",
      "\u001b[33mWARNING: Running pip as the 'root' user can result in broken permissions and conflicting behaviour with the system package manager. It is recommended to use a virtual environment instead: https://pip.pypa.io/warnings/venv\u001b[0m\n",
      "\u001b[33mWARNING: You are using pip version 21.2.4; however, version 24.0 is available.\n",
      "You should consider upgrading via the '/Library/Developer/CommandLineTools/usr/bin/python3 -m pip install --upgrade pip' command.\u001b[0m\n"
     ]
    }
   ],
   "source": [
    "# install the newest development version of twi-xl-python.\n",
    "!pip install git+https://gitlab.com/twi-xl-surf-nl/twi-xl-python.git@73039c837dcce371c8ba4d25f1f7533f9763c954 --force-reinstall"
   ]
  },
  {
   "cell_type": "code",
   "execution_count": 2,
   "id": "874f79d9-07a1-4b45-8d1c-5bc21382eb6d",
   "metadata": {},
   "outputs": [
    {
     "name": "stdout",
     "output_type": "stream",
     "text": [
      "Requirement already satisfied: pip in /opt/homebrew/Cellar/jupyterlab/4.0.12/libexec/lib/python3.12/site-packages (24.0)\n"
     ]
    }
   ],
   "source": [
    "!/opt/homebrew/Cellar/jupyterlab/4.0.12/libexec/bin/python -m pip install --upgrade pip"
   ]
  },
  {
   "cell_type": "code",
   "execution_count": 21,
   "id": "bb3e2ebf-7079-4f77-8df5-358fcec5fa23",
   "metadata": {},
   "outputs": [],
   "source": [
    "from twixl.collections import twitter\n",
    "from datetime import datetime\n",
    "import twixl\n",
    "import os\n",
    "from sklearn.model_selection import train_test_split"
   ]
  },
  {
   "cell_type": "code",
   "execution_count": 13,
   "id": "7b6ecbd5-3df3-498b-a5df-3d6659dd72a9",
   "metadata": {},
   "outputs": [],
   "source": [
    "# Set development twi-xl api endpoint.\n",
    "os.environ[\"TWIXL_API_ENDPOINT\"] = \"https://ftmgjhmifb.execute-api.eu-central-1.amazonaws.com/politics\"\n",
    "os.environ[\"TWIXL_API_KEY\"] = \"Ad39ewyYoakVZsz2qd6a0dBoKFnmZCX7EkV1334IvSs0\""
   ]
  },
  {
   "cell_type": "code",
   "execution_count": 7,
   "id": "e8b295dc-c5cc-42a0-9c55-579e30ac7090",
   "metadata": {},
   "outputs": [],
   "source": [
    "#Create list of author id's\n",
    "with open(\"./MPs_twitter_usernames.txt\", \"r\") as f:\n",
    "    authors = f.read().splitlines()"
   ]
  },
  {
   "cell_type": "code",
   "execution_count": 331,
   "id": "fc8f99bd-ce3a-467b-8714-afbdc3562ff3",
   "metadata": {},
   "outputs": [
    {
     "data": {
      "text/plain": [
       "['sybrandbuma', 'swsjoerdsma', 'erikziengs', 'mvonmartels']"
      ]
     },
     "execution_count": 331,
     "metadata": {},
     "output_type": "execute_result"
    }
   ],
   "source": [
    "authors[:4]"
   ]
  },
  {
   "cell_type": "code",
   "execution_count": 10,
   "id": "23b550d6-2ea0-4a4a-826b-a62d358e9784",
   "metadata": {},
   "outputs": [],
   "source": [
    "#Create a query to search tweets from listed authors.\n",
    "\n",
    "# Only search politics dataset (i.e. dnpp Groningen archive and profile scraper)\n",
    "query_authors_only_politics = (\n",
    "    twitter.Query(\n",
    "        dataset=twitter.dataset.POLITICS)\n",
    "        .from_usernames(authors)\n",
    ")\n",
    "# Only search twinl dataset\n",
    "query_authors_only_twinl = (\n",
    "    twitter.Query(\n",
    "        dataset=twitter.dataset.TWINL)\n",
    "        .from_usernames(authors)\n",
    ")\n",
    "# Default is to search ALL archives (i.e. twinl and politics datasets)\n",
    "query_authors = (\n",
    "    twitter.Query()\n",
    "        .from_usernames('sybrandbuma')\n",
    ")"
   ]
  },
  {
   "cell_type": "code",
   "execution_count": 11,
   "id": "d4bd4570-8c4a-4c17-927e-069a4c178509",
   "metadata": {},
   "outputs": [
    {
     "name": "stdout",
     "output_type": "stream",
     "text": [
      "{\n",
      "    \"query\": [\n",
      "        {\n",
      "            \"AND\": {\n",
      "                \"from_usernames\": \"['sybrandbuma' OR 'swsjoerdsma' OR 'erikziengs' OR 'mvonmartels' OR 'suzanne_GL' OR 'keklikyucel' OR 'HaykeVeldman' OR 'jesseklaver' OR 'HarmenKrul' OR 'edgarmulder1' OR 'SylvanaBIJ1' OR 'Loesypma' OR 'JHTerpstra' OR 'RPlasterk' OR 'Fonda_Sahla' OR 'Yvonne_Bijenhof' OR 'meilivos' OR 'jobaCDA' OR 'rikgrashoff' OR 'KeesVee' OR 'djeppink' OR 'FemkeMerel' OR 'amerkies' OR 'RienvdVelde' OR 'NicoleTemmink' OR 'WassilaHachchi' OR 'DonCeder' OR 'barbara_visser1' OR 'lilianhelderpvv' OR 'sharon_dijksma' OR 'RaoulBoucke' OR 'SvVeldhoven' OR 'ivanengelshoven' OR 'StienekevdGraaf' OR 'LisaGinneken' OR 'Jeanetvdlaan' OR 'sarahdobbe' OR 'Matthijshuizing' OR 'helmanepperus' OR 'dbonis' OR 'AgnesMulderCDA' OR 'martijngrevink' OR 'WBHoekstra' OR 'JacquesMonasch' OR 'yasemincegerek' OR 'leendertdelange' OR 'dijkhoff' OR 'svanweyenberg' OR 'Danai_PVV' OR 'PieterOmtzigt' OR 'kirstenvdhul' OR 'kathalijne' OR 'keesvdstaaij' OR 'KoekkoekMarieke' OR 'pedegro' OR 'advocaatsmeets' OR 'deliefde' OR 'ZihniOzdil' OR 'warmerdamd66' OR 'jimmydijk' OR 'leonievestering' OR 'FrankFutselaar' OR 'jeroenrecourt' OR 'Ahammelburg' OR 'NineKooiman' OR 'ManjaSmits' OR 'KlinkJan' OR 'danielvanderree' OR 'GroenLiesbeth' OR 'CorinneEllemeet' OR 'DaandeNeef' OR 'HenkvGerven' OR 'EricSmaling' OR 'DassenLaurens' OR 'SultanGunal' OR 'MHilkens' OR 'Jan_Middendorp' OR 'cnijkerken' OR 'hannekevdwerf' OR 'VickyMaeijer' OR 'Nielsvdberge' OR 'TjeerdVD' OR 'MichielvanVeen' OR 'ahmedmarcouch' OR 'rjklever' OR 'bgdeboer' OR 'GraceTanamal' OR 'SadetKarabulut' OR 'EJSlootweg' OR 'Pieter_Grinwis' OR 'bartvankent' OR 'EdithSchippernl' OR 'thierrybaudet' OR 'PloumenLilianne' OR 'MvanToorenburg' OR 'IngriddeCaluwe' OR 'stefblokVVD' OR 'gidimarkuszower' OR 'ronaldvanraak' OR 'EijsinkPvdA' OR 'vanHijum' OR 'tunahankuzu' OR 'romkedejong' OR 'ducohoogland' OR 'marijnissenl' OR 'BisschopRoelof' OR 'carladikfaber' OR 'ryhertzberger' OR 'pierreheijnen' OR 'HenkKrol' OR 'GraafdeMachiel' OR 'AnoushkaSW' OR 'HanTenBroeke' OR 'barbarakathmann' OR 'arnorutte' OR 'RegterschotK' OR 'peterkwint' OR 'HenriBontenbal' OR 'carolaschouten' OR 'marithvolp' OR 'martijnvdam' OR 'KarinStraus' OR 'Lisawesterveld' OR 'hind_d66' OR 'YbeltjeBD' OR 'roosvermeij' OR 'RenskeLeijten' OR 'JaspervanDijkSP' OR 'Martinbosma_pvv' OR 'leondejong' OR 'judswink' OR 'TimmermansEU' OR 'dijkvangijs' OR 'IsabelleDiks' OR 'MonaKeijzer' OR 'JohnKerstens' OR 'TjitskeSiderius' OR 'PaulSmeulders' OR 'AmmaAsante' OR 'RudmerHeerema' OR 'Annemarijke' OR 'SvenKoopmansVVD' OR 'JudithTielenVVD' OR 'danielkoerhuis' OR 'HalbeZijlstra' OR 'djhvandijk' OR 'HelmaLodders' OR 'apijpelink' OR 'mariannethieme' OR 'aukjedevries' OR 'JoostTaverne' OR 'ZelYassini' OR 'remcovvd' OR 'TomvdnN' OR 'PaulusJansenSP' OR 'PieterLitjens' OR 'magdaberndsen' OR 'vanwijngaardenj' OR 'ArdvanderSteur' OR 'markrutte' OR 'RonaldVuijk' OR 'minhas_fahid' OR 'lindavoortman' OR 'LodewijkA' OR 'manonfokke' OR 'BrigittevdB' OR 'SalimaBelhaj' OR 'tamaravanark' OR 'WassenbergFrank' OR 'mariettehamer' OR 'habtamudehoop' OR 'paululenbelt' OR 'selcukozturknl' OR 'APechtold' OR 'LauraBromet' OR 'Harry_Bevers' OR 'jockgeselschap' OR 'MalikAzmani' OR 'perjanmoors' OR 'katipiri' OR 'RensRaemakers' OR 'khadijaArib' OR 'AnneKuik' OR 'wuite_jorien' OR 'julianbushoff' OR 'Pilotwin' OR 'diederiksamsom' OR 'QueenyRaj' OR 'BramvanOjikGL' OR 'jessicavaneijs' OR 'PimVanStrien' OR 'tanjajad' OR 'folkertidsinga' OR 'J_Dijsselbloem' OR 'attjekuiken' OR 'MichielvNispen' OR 'peteroskam_bgm' OR 'SilvioErkens' OR 'elbertdijkgraaf' OR 'KarenGerbrands1' OR 'bartsnels' OR 'AnouchkavM' OR 'Vera_Bergkamp' OR 'SennaMaatoug' OR 'bsmals' OR 'JeanineHennis' OR 'ingridmichon' OR 'Kauthar_' OR 'MaritMaij' OR 'PDuisenberg' OR 'strolenberg' OR 'JoelVoordewind' OR 'KammingaRJ' OR 'kopspvv' OR 'harmbeertema' OR 'NevinOzutok' OR 'piadijkstra' OR 'annewillucas' OR 'Sanderderouwe' OR 'Louis_Bontes' OR 'HankeBruinsSlot' OR 'Daandekort92' OR 'carlinevb' OR 'ElineVedder' OR 'UlysseEllian' OR 'FleurAgemaPVV' OR 'DennisWiersma' OR 'kbhagen' OR 'lutzjacobi' OR 'wkoolmees' OR 'sandrabeckerman' OR 'wmoorlag' OR 'InesKostic' OR 'RidderDionGraus' OR 'eelcoheinen' OR 'pvalstar' OR 'mikaltseggai' OR 'sigridkaag' OR 'a_lahlah' OR 'geertwilderspvv' OR 'henriswinkels' OR 'michielservaes' OR 'RoaldLinde' OR 'DilanYesilgoz' OR 'MoMohandis' OR 'ThierryAartsen' OR 'bentebecker' OR 'LeaBouwmeester' OR 'HawreRahimi' OR 'agneswolbert' OR 'JacoGeurts' OR 'rutgerschonis' OR 'ockjetellegen' OR 'CvNieuwenhuizen' OR 'SanderDekker' OR 'GliminaChakor' OR 'henkleenders' OR 'i_dijk' OR 'lianedenhaan' OR 'markharbers' OR 'joris_pvda' OR 'RobJetten' OR 'hhvdw' OR 'foortvanoosten' OR 'rvanaalst' OR 'Paul_van_Meenen' OR 'gjfpopken' OR 'henknijboer' OR 'erikhaverkort' OR 'harryvandesp' OR 'LucStultiens' OR 'DerkBoswijk' OR 'SjoeraDikkers' OR 'TomvanderLee' OR 'JoramvKlaveren' OR 'r_deroonpvv' OR 'gertjansegers' OR 'lucillewerner' OR 'MustafaAmhaouch' OR 'SjoerdPotters' OR 'wiepau' OR 'TonElias' OR 'Hilde_PM' OR 'mahiralkaya' OR 'chrsimons' OR 'rubenbrekelmans' OR 'estherouwehand' OR 'songulmutluer' OR 'michelrog' OR 'mirjambikker' OR 'THiddema' OR 'matthijssienot' OR 'Danielle_H_BE' OR 'llientje1967' OR 'fboulakjar' OR 'ErikRonnes' OR 'NicoDrost' OR 'arieslob' OR 'bvantwout' OR 'geert_gabriels' OR 'maartenhijink' OR 'markverheijen1' OR 'PieterHeerma' OR 'a_mulder' OR 'reneleegte' OR 'emileroemer' OR 'FarshadBashir' OR 'F_azarkan' OR 'eppobruins' OR 'Roelof' OR 'joycevermue' OR 'achrafboualid66' OR 'Jetta_Klijnsma' OR 'RaymondKnops' OR 'AstridOosenbrug' OR 'nickiverweij' OR 'Martijncda' OR 'wybrenvanhaga' OR 'ThomvCampen' OR 'johanhouwers' OR 'marielle_paul']\"\n",
      "            }\n",
      "        }\n",
      "    ]\n",
      "}\n"
     ]
    }
   ],
   "source": [
    "query_authors.print()"
   ]
  },
  {
   "cell_type": "code",
   "execution_count": null,
   "id": "1214e984-5f2a-48a3-a506-40e8438ff957",
   "metadata": {},
   "outputs": [],
   "source": [
    "import datetime\n",
    "import pandas as pd\n",
    "\n",
    "# Define an empty DataFrame to store the results\n",
    "final_df = pd.DataFrame()\n",
    "\n",
    "# Loop over the list of author names\n",
    "for author in authors:\n",
    "    # Define the query for each author\n",
    "    query_authors = (\n",
    "        twitter.Query()\n",
    "            .from_usernames([author])\n",
    "    )\n",
    "    \n",
    "    # Search Twitter archive for each author\n",
    "    search_results = twitter.search(\n",
    "        query=query_authors,\n",
    "        start_time=datetime.datetime(2014, 1, 1, 0, 0),\n",
    "        end_time=datetime.datetime(2024, 3, 1, 0, 0),\n",
    "        callback=twitter.print_callback\n",
    "    )\n",
    "    \n",
    "    # Convert search results to a DataFrame\n",
    "    df = search_results.to_pandas()\n",
    "    \n",
    "    # Add a column with the author's name\n",
    "    df['Author'] = author\n",
    "    \n",
    "    # Append the DataFrame to the final DataFrame\n",
    "    final_df = final_df.append(df, ignore_index=True)"
   ]
  },
  {
   "cell_type": "code",
   "execution_count": 30,
   "id": "25bace1a-15e7-4fc5-a9b8-6136b4832c02",
   "metadata": {},
   "outputs": [],
   "source": [
    "final_df.to_csv('full_twitter_data.csv')"
   ]
  },
  {
   "cell_type": "markdown",
   "id": "9e72482d-4cc1-4da7-8aaf-803ff2038d18",
   "metadata": {},
   "source": [
    "# Step 2: prepare data for annotation\n",
    "\n",
    "## Read in data"
   ]
  },
  {
   "cell_type": "code",
   "execution_count": 376,
   "id": "e243b8b2-dae3-4d49-a9d5-498fa433bb84",
   "metadata": {},
   "outputs": [],
   "source": [
    "import numpy as np\n",
    "import seaborn as sns\n",
    "import matplotlib.pyplot as plt\n",
    "from sklearn.model_selection import train_test_split\n",
    "# Set a random seed for reproducibility\n",
    "np.random.seed(42)\n",
    "\n",
    "final_df = pd.read_csv('full_twitter_data.csv')"
   ]
  },
  {
   "cell_type": "code",
   "execution_count": 377,
   "id": "8915788b-8439-4504-8903-0bda1ce161c6",
   "metadata": {},
   "outputs": [
    {
     "data": {
      "text/html": [
       "<div>\n",
       "<style scoped>\n",
       "    .dataframe tbody tr th:only-of-type {\n",
       "        vertical-align: middle;\n",
       "    }\n",
       "\n",
       "    .dataframe tbody tr th {\n",
       "        vertical-align: top;\n",
       "    }\n",
       "\n",
       "    .dataframe thead th {\n",
       "        text-align: right;\n",
       "    }\n",
       "</style>\n",
       "<table border=\"1\" class=\"dataframe\">\n",
       "  <thead>\n",
       "    <tr style=\"text-align: right;\">\n",
       "      <th></th>\n",
       "      <th>Unnamed: 0</th>\n",
       "      <th>tweet_id</th>\n",
       "      <th>timestamp</th>\n",
       "      <th>text</th>\n",
       "      <th>full_text</th>\n",
       "      <th>hashtags</th>\n",
       "      <th>urls</th>\n",
       "      <th>source</th>\n",
       "      <th>Author</th>\n",
       "    </tr>\n",
       "  </thead>\n",
       "  <tbody>\n",
       "    <tr>\n",
       "      <th>0</th>\n",
       "      <td>0</td>\n",
       "      <td>1363121859546533899</td>\n",
       "      <td>2021-02-20 13:42:31</td>\n",
       "      <td>Nee, dit is niet de Noordelijke IJszee, maar h...</td>\n",
       "      <td>Nee, dit is niet de Noordelijke IJszee, maar h...</td>\n",
       "      <td>[]</td>\n",
       "      <td>[]</td>\n",
       "      <td>dnpp</td>\n",
       "      <td>sybrandbuma</td>\n",
       "    </tr>\n",
       "    <tr>\n",
       "      <th>1</th>\n",
       "      <td>1</td>\n",
       "      <td>1359578121108881410</td>\n",
       "      <td>2021-02-10 18:00:58</td>\n",
       "      <td>Vanavond samen met @cdKfryslan en @WiebeWielin...</td>\n",
       "      <td>Vanavond samen met @cdKfryslan en @WiebeWielin...</td>\n",
       "      <td>[]</td>\n",
       "      <td>['https://twitter.com/i/web/status/13595781211...</td>\n",
       "      <td>twinl</td>\n",
       "      <td>sybrandbuma</td>\n",
       "    </tr>\n",
       "    <tr>\n",
       "      <th>2</th>\n",
       "      <td>2</td>\n",
       "      <td>1365635915201335297</td>\n",
       "      <td>2021-02-27 11:12:29</td>\n",
       "      <td>RT @VRFryslan: De coronacrisis heeft grote imp...</td>\n",
       "      <td>NaN</td>\n",
       "      <td>[]</td>\n",
       "      <td>[]</td>\n",
       "      <td>twinl</td>\n",
       "      <td>sybrandbuma</td>\n",
       "    </tr>\n",
       "  </tbody>\n",
       "</table>\n",
       "</div>"
      ],
      "text/plain": [
       "   Unnamed: 0             tweet_id            timestamp  \\\n",
       "0           0  1363121859546533899  2021-02-20 13:42:31   \n",
       "1           1  1359578121108881410  2021-02-10 18:00:58   \n",
       "2           2  1365635915201335297  2021-02-27 11:12:29   \n",
       "\n",
       "                                                text  \\\n",
       "0  Nee, dit is niet de Noordelijke IJszee, maar h...   \n",
       "1  Vanavond samen met @cdKfryslan en @WiebeWielin...   \n",
       "2  RT @VRFryslan: De coronacrisis heeft grote imp...   \n",
       "\n",
       "                                           full_text hashtags  \\\n",
       "0  Nee, dit is niet de Noordelijke IJszee, maar h...       []   \n",
       "1  Vanavond samen met @cdKfryslan en @WiebeWielin...       []   \n",
       "2                                                NaN       []   \n",
       "\n",
       "                                                urls source       Author  \n",
       "0                                                 []   dnpp  sybrandbuma  \n",
       "1  ['https://twitter.com/i/web/status/13595781211...  twinl  sybrandbuma  \n",
       "2                                                 []  twinl  sybrandbuma  "
      ]
     },
     "execution_count": 377,
     "metadata": {},
     "output_type": "execute_result"
    }
   ],
   "source": [
    "#display first 10 rows\n",
    "final_df.head(3)"
   ]
  },
  {
   "cell_type": "code",
   "execution_count": 378,
   "id": "584d07e9-cb10-41ff-9abc-ab26c93e75de",
   "metadata": {},
   "outputs": [
    {
     "data": {
      "text/plain": [
       "<Axes: >"
      ]
     },
     "execution_count": 378,
     "metadata": {},
     "output_type": "execute_result"
    },
    {
     "data": {
      "image/png": "[encoded data removed]",
      "text/plain": [
       "<Figure size 640x480 with 1 Axes>"
      ]
     },
     "metadata": {},
     "output_type": "display_data"
    }
   ],
   "source": [
    "# Plot the number of tweets from different datasets.\n",
    "final_df.source.value_counts().sort_values().plot(kind = 'barh')"
   ]
  },
  {
   "cell_type": "code",
   "execution_count": 379,
   "id": "2bf3b8bd-3385-4867-b02c-f99c8295e281",
   "metadata": {},
   "outputs": [
    {
     "data": {
      "text/plain": [
       "264649"
      ]
     },
     "execution_count": 379,
     "metadata": {},
     "output_type": "execute_result"
    }
   ],
   "source": [
    "# check&count duplicates between datasets\n",
    "final_df['is_duplicated'] = final_df.duplicated([\"tweet_id\"])\n",
    "final_df['is_duplicated'].sum()"
   ]
  },
  {
   "cell_type": "code",
   "execution_count": 380,
   "id": "04db4e8f-d434-43c7-8305-91d97105b0d4",
   "metadata": {},
   "outputs": [],
   "source": [
    "unique_df = final_df.drop_duplicates(subset=['tweet_id'])\n",
    "unique_df = unique_df.drop_duplicates(subset=['text'])"
   ]
  },
  {
   "cell_type": "code",
   "execution_count": 381,
   "id": "892a915b-1458-47aa-974f-1dabc083361c",
   "metadata": {},
   "outputs": [
    {
     "data": {
      "text/plain": [
       "611189"
      ]
     },
     "execution_count": 381,
     "metadata": {},
     "output_type": "execute_result"
    }
   ],
   "source": [
    "len(unique_df)"
   ]
  },
  {
   "cell_type": "code",
   "execution_count": 382,
   "id": "7d557be9-4f71-4093-bcbc-c4172760952c",
   "metadata": {},
   "outputs": [],
   "source": [
    "unique_df['twitter_username']  = unique_df['Author']"
   ]
  },
  {
   "cell_type": "markdown",
   "id": "7773d657-7636-4ee3-9c63-840077ca8840",
   "metadata": {},
   "source": [
    "### Merge data with MP dataset from WikiData"
   ]
  },
  {
   "cell_type": "code",
   "execution_count": 383,
   "id": "eaba42e6-c13e-4f97-a38c-0bea67da7164",
   "metadata": {},
   "outputs": [],
   "source": [
    "mps = pd.read_csv('tweedekamerleden.csv')"
   ]
  },
  {
   "cell_type": "code",
   "execution_count": 384,
   "id": "5cbc7c25-6cc2-4095-bedb-faad2db50320",
   "metadata": {},
   "outputs": [],
   "source": [
    "# Some information about Party ended up in the 'Start Date' column. Fix this here: \n",
    "# Function to combine 'Start Date' and 'Party' columns\n",
    "def combine_columns(row):\n",
    "    if pd.isna(row['Party']):\n",
    "        if pd.notna(row['Start Date']):\n",
    "            return f\"{row['Start Date']}\"\n",
    "        else:\n",
    "            return row['Party']\n",
    "    else:\n",
    "        return row['Party']\n",
    "\n",
    "# Apply the function to combine columns\n",
    "mps['Political_Party'] = mps.apply(combine_columns, axis=1)"
   ]
  },
  {
   "cell_type": "code",
   "execution_count": 385,
   "id": "24bceb13-3834-4d82-bbe5-2165c0b66f2f",
   "metadata": {},
   "outputs": [
    {
     "data": {
      "text/plain": [
       "VVD                              223\n",
       "PVV                               92\n",
       "D66                               79\n",
       "CDA                               66\n",
       "PvdA                              63\n",
       "SP                                51\n",
       "GroenLinks-PvdA                   25\n",
       "Nieuw Sociaal Contract            20\n",
       "GroenLinks                        19\n",
       "CU                                13\n",
       "SGP                               13\n",
       "PvdD                              13\n",
       "ChristenUnie                      10\n",
       "50PLUS                             9\n",
       "PvdA[p]                            9\n",
       "FVD                                9\n",
       "DENK                               9\n",
       "GL[p]                              8\n",
       "Partij voor de Dieren              8\n",
       "BBB                                8\n",
       "GL                                 8\n",
       "Volt                               5\n",
       "FVD[z]                             3\n",
       "Forum voor Democratie              3\n",
       "Van Kooten-Arissen                 3\n",
       "JA21                               3\n",
       "JA21[ac]                           2\n",
       "Groep Krol/van Kooten-Arissen      2\n",
       "Volt[ak]                           1\n",
       "50+[ao]                            1\n",
       "PVV[ac]                            1\n",
       "Lid Omtzigt                        1\n",
       "BIJ1                               1\n",
       "50+[b]                             1\n",
       "PVV[g]                             1\n",
       "Van Haga                           1\n",
       "PVV[ap]                            1\n",
       "PvdA[af]                           1\n",
       "PvdA[y]                            1\n",
       "Fractie-50PLUS/Baay[w]             1\n",
       "50+                                1\n",
       "50+[t]                             1\n",
       "PVV[q]                             1\n",
       "Krol                               1\n",
       "Name: Political_Party, dtype: int64"
      ]
     },
     "execution_count": 385,
     "metadata": {},
     "output_type": "execute_result"
    }
   ],
   "source": [
    "mps[['Start Date', 'Party', 'Political_Party']]\n",
    "mps['Political_Party'].value_counts()"
   ]
  },
  {
   "cell_type": "code",
   "execution_count": 386,
   "id": "d3944645-ccef-440a-9eb6-8fc2a39ab7d3",
   "metadata": {},
   "outputs": [
    {
     "data": {
      "text/plain": [
       "VVD                       223\n",
       "PVV                        92\n",
       "D66                        79\n",
       "PvdA                       72\n",
       "CDA                        66\n",
       "SP                         51\n",
       "GroenLinks                 27\n",
       "GroenLinks-PvdA            25\n",
       "Nieuw Sociaal Contract     20\n",
       "CU                         13\n",
       "PvdD                       13\n",
       "SGP                        13\n",
       "ChristenUnie               10\n",
       "DENK                        9\n",
       "Partij voor de Dieren       8\n",
       "Volt                        5\n",
       "Forum voor Democratie       3\n",
       "JA21                        2\n",
       "BIJ1                        1\n",
       "Name: normalized_party, dtype: int64"
      ]
     },
     "execution_count": 386,
     "metadata": {},
     "output_type": "execute_result"
    }
   ],
   "source": [
    "# Normalize party references. \n",
    "# Mapping dictionary for party names\n",
    "party_mapping = {\n",
    "    'GroenLinks': 'GroenLinks',\n",
    "    'SP': 'SP',\n",
    "    'CDA': 'CDA',\n",
    "    'VVD': 'VVD',\n",
    "    'D66': 'D66',\n",
    "    'Forum voor Democratie': 'Forum voor Democratie',\n",
    "    'PvdD': 'PvdD',\n",
    "    'PVV': 'PVV',\n",
    "    'BIJ1': 'BIJ1',\n",
    "    'JA21[ac]': 'JA21',\n",
    "    'GroenLinks-PvdA': 'GroenLinks-PvdA',\n",
    "    'PvdA': 'PvdA',\n",
    "    'CU': 'CU',\n",
    "    'DENK': 'DENK',\n",
    "    'Volt': 'Volt',\n",
    "    'SGP': 'SGP',\n",
    "    'Nieuw Sociaal Contract': 'Nieuw Sociaal Contract',\n",
    "    'Partij voor de Dieren': 'Partij voor de Dieren',\n",
    "    'ChristenUnie': 'ChristenUnie',\n",
    "    'GL[p]': 'GroenLinks',\n",
    "    'PvdA[p]': 'PvdA'\n",
    "}\n",
    "\n",
    "# Map party names\n",
    "mps['normalized_party'] = mps['Political_Party'].map(party_mapping)\n",
    "mps['normalized_party'].value_counts()"
   ]
  },
  {
   "cell_type": "code",
   "execution_count": null,
   "id": "34e0864a-571d-4efe-856b-1856265c0308",
   "metadata": {},
   "outputs": [],
   "source": [
    "## Conduct the merge with the non-duplicated twitter data and the MP dataset from wikidata"
   ]
  },
  {
   "cell_type": "code",
   "execution_count": 387,
   "id": "f23a6879-9bec-4730-8d2f-308fcf012130",
   "metadata": {},
   "outputs": [],
   "source": [
    "df = pd.merge(unique_df, mps, on=['twitter_username'], how='left')"
   ]
  },
  {
   "cell_type": "code",
   "execution_count": 388,
   "id": "ca94f309-74a4-42e2-a8ff-9980fed7f537",
   "metadata": {},
   "outputs": [
    {
     "data": {
      "text/plain": [
       "406306"
      ]
     },
     "execution_count": 388,
     "metadata": {},
     "output_type": "execute_result"
    }
   ],
   "source": [
    "unique_df = df.drop_duplicates(subset=['tweet_id'])\n",
    "df = unique_df.drop_duplicates(subset=['text'])\n",
    "\n",
    "## remove RT's\n",
    "df = df[~df['text'].str.startswith(\"RT @\")]\n",
    "len(df)"
   ]
  },
  {
   "cell_type": "code",
   "execution_count": null,
   "id": "9b9705b3-65cd-4074-88b7-16dd56f74026",
   "metadata": {},
   "outputs": [],
   "source": [
    "## Fix missing party members"
   ]
  },
  {
   "cell_type": "code",
   "execution_count": 389,
   "id": "b54c9906-087b-4835-97fa-6f89264195c3",
   "metadata": {},
   "outputs": [],
   "source": [
    "# Mapping dictionary for party names\n",
    "party_mapping = {\n",
    "    'BramvanOjikGL': 'GroenLinks',\n",
    "    'CorinneEllemeet': 'GroenLinks',\n",
    "    'GroenLiesbeth': 'GroenLinks',\n",
    "    'HenkKrol': '50PLUS',\n",
    "    'JacquesMonasch': 'PvdA',\n",
    "    'JoramvKlaveren': 'DENK',\n",
    "    'jesseklaver': 'GroenLinks',\n",
    "    'lindavoortman': 'GroenLinks',\n",
    "    'rikgrashoff': 'GroenLinks',\n",
    "    'tunahankuzu': 'DENK'\n",
    "}\n",
    "\n",
    "# Map party names only if normalized_party is NaN\n",
    "df.loc[df['normalized_party'].isna(), 'normalized_party'] = df.loc[df['normalized_party'].isna(), 'Author'].map(party_mapping)"
   ]
  },
  {
   "cell_type": "code",
   "execution_count": 390,
   "id": "6bf14826-d3dc-41d1-9f5d-287a52e734d9",
   "metadata": {},
   "outputs": [
    {
     "data": {
      "text/plain": [
       "GroenLinks                79694\n",
       "VVD                       62397\n",
       "SP                        57166\n",
       "CDA                       49305\n",
       "D66                       33746\n",
       "PvdA                      32234\n",
       "PVV                       19082\n",
       "CU                        14080\n",
       "BIJ1                      11972\n",
       "PvdD                      11038\n",
       "Forum voor Democratie      7783\n",
       "GroenLinks-PvdA            6556\n",
       "DENK                       3611\n",
       "50PLUS                     3553\n",
       "SGP                        3046\n",
       "JA21                       3022\n",
       "Nieuw Sociaal Contract     2633\n",
       "Volt                       2358\n",
       "ChristenUnie               1608\n",
       "Partij voor de Dieren      1422\n",
       "Name: normalized_party, dtype: int64"
      ]
     },
     "execution_count": 390,
     "metadata": {},
     "output_type": "execute_result"
    }
   ],
   "source": [
    "df['normalized_party'].value_counts()"
   ]
  },
  {
   "cell_type": "code",
   "execution_count": null,
   "id": "6ad1695f-bcb7-4fc1-bf63-208a659c651c",
   "metadata": {},
   "outputs": [],
   "source": [
    "### create Ideology mappings left -- right"
   ]
  },
  {
   "cell_type": "code",
   "execution_count": 391,
   "id": "0d6fd7be-495e-4254-97ad-6e4169654400",
   "metadata": {},
   "outputs": [],
   "source": [
    "# Dictionary to map parties to left/right scale values\n",
    "party_ideology = {\n",
    "    'GroenLinks': -3,   # Strongly left\n",
    "    'SP': -2,            # Left\n",
    "    'CDA': 0,            # Center\n",
    "    'VVD': 3,            # Right\n",
    "    'D66': 2,            # Center\n",
    "    'Forum voor Democratie': 3,  # Right\n",
    "    'FVD': 3,            # Right (Added)\n",
    "    'PvdD': -2,          # Left\n",
    "    'PVV': 3,            # Right\n",
    "    'BIJ1': -3,          # Strongly left\n",
    "    'JA21': 3,           # Right\n",
    "    'GroenLinks-PvdA': -2,  # Left\n",
    "    'PvdA': -1,          # Center-left\n",
    "    'CU': 0,             # Center\n",
    "    'DENK': -3,          # Strongly left\n",
    "    'Volt': 1,           # Center\n",
    "    'SGP': 3,            # Right\n",
    "    'Nieuw Sociaal Contract': 1,  # Center\n",
    "    'Partij voor de Dieren': -2,  # Left\n",
    "    'ChristenUnie': 1, \n",
    "    '50PLUS': 1# Center-right\n",
    "}\n",
    "\n",
    "# Map parties to ideology\n",
    "df['Ideology'] = df['normalized_party'].map(party_ideology)"
   ]
  },
  {
   "cell_type": "code",
   "execution_count": 392,
   "id": "a81df8c1-4240-4a1f-a257-50e7d14d871e",
   "metadata": {},
   "outputs": [],
   "source": [
    "# Dictionary to map ideology values to the three groups\n",
    "ideology_group = {\n",
    "    -3: 'Left',      # Strongly left\n",
    "    -2: 'Left',      # Left\n",
    "    -1: 'Center',    # Center-left\n",
    "    0: 'Center',     # Center\n",
    "    1: 'Center',     # Center\n",
    "    2: 'Center',     # Center\n",
    "    3: 'Right'       # Right\n",
    "}\n",
    "\n",
    "# Map ideology values to ideology groups\n",
    "df['Ideology_Group'] = df['Ideology'].map(ideology_group)"
   ]
  },
  {
   "cell_type": "code",
   "execution_count": 393,
   "id": "c246784e-98c9-496a-beb0-8eaa78d513bd",
   "metadata": {},
   "outputs": [
    {
     "data": {
      "text/html": [
       "<div>\n",
       "<style scoped>\n",
       "    .dataframe tbody tr th:only-of-type {\n",
       "        vertical-align: middle;\n",
       "    }\n",
       "\n",
       "    .dataframe tbody tr th {\n",
       "        vertical-align: top;\n",
       "    }\n",
       "\n",
       "    .dataframe thead th {\n",
       "        text-align: right;\n",
       "    }\n",
       "</style>\n",
       "<table border=\"1\" class=\"dataframe\">\n",
       "  <thead>\n",
       "    <tr style=\"text-align: right;\">\n",
       "      <th></th>\n",
       "      <th>Ideology_Group</th>\n",
       "      <th>Ideology</th>\n",
       "      <th>normalized_party</th>\n",
       "      <th>Author</th>\n",
       "    </tr>\n",
       "  </thead>\n",
       "  <tbody>\n",
       "    <tr>\n",
       "      <th>0</th>\n",
       "      <td>Center</td>\n",
       "      <td>0</td>\n",
       "      <td>CDA</td>\n",
       "      <td>sybrandbuma</td>\n",
       "    </tr>\n",
       "    <tr>\n",
       "      <th>2</th>\n",
       "      <td>Center</td>\n",
       "      <td>0</td>\n",
       "      <td>CDA</td>\n",
       "      <td>sybrandbuma</td>\n",
       "    </tr>\n",
       "    <tr>\n",
       "      <th>6</th>\n",
       "      <td>Center</td>\n",
       "      <td>0</td>\n",
       "      <td>CDA</td>\n",
       "      <td>sybrandbuma</td>\n",
       "    </tr>\n",
       "    <tr>\n",
       "      <th>8</th>\n",
       "      <td>Center</td>\n",
       "      <td>0</td>\n",
       "      <td>CDA</td>\n",
       "      <td>sybrandbuma</td>\n",
       "    </tr>\n",
       "    <tr>\n",
       "      <th>12</th>\n",
       "      <td>Center</td>\n",
       "      <td>0</td>\n",
       "      <td>CDA</td>\n",
       "      <td>sybrandbuma</td>\n",
       "    </tr>\n",
       "    <tr>\n",
       "      <th>...</th>\n",
       "      <td>...</td>\n",
       "      <td>...</td>\n",
       "      <td>...</td>\n",
       "      <td>...</td>\n",
       "    </tr>\n",
       "    <tr>\n",
       "      <th>1324727</th>\n",
       "      <td>Right</td>\n",
       "      <td>3</td>\n",
       "      <td>VVD</td>\n",
       "      <td>marielle_paul</td>\n",
       "    </tr>\n",
       "    <tr>\n",
       "      <th>1324729</th>\n",
       "      <td>Right</td>\n",
       "      <td>3</td>\n",
       "      <td>VVD</td>\n",
       "      <td>marielle_paul</td>\n",
       "    </tr>\n",
       "    <tr>\n",
       "      <th>1324731</th>\n",
       "      <td>Right</td>\n",
       "      <td>3</td>\n",
       "      <td>VVD</td>\n",
       "      <td>marielle_paul</td>\n",
       "    </tr>\n",
       "    <tr>\n",
       "      <th>1324735</th>\n",
       "      <td>Right</td>\n",
       "      <td>3</td>\n",
       "      <td>VVD</td>\n",
       "      <td>marielle_paul</td>\n",
       "    </tr>\n",
       "    <tr>\n",
       "      <th>1324737</th>\n",
       "      <td>Right</td>\n",
       "      <td>3</td>\n",
       "      <td>VVD</td>\n",
       "      <td>marielle_paul</td>\n",
       "    </tr>\n",
       "  </tbody>\n",
       "</table>\n",
       "<p>406306 rows × 4 columns</p>\n",
       "</div>"
      ],
      "text/plain": [
       "        Ideology_Group  Ideology normalized_party         Author\n",
       "0               Center         0              CDA    sybrandbuma\n",
       "2               Center         0              CDA    sybrandbuma\n",
       "6               Center         0              CDA    sybrandbuma\n",
       "8               Center         0              CDA    sybrandbuma\n",
       "12              Center         0              CDA    sybrandbuma\n",
       "...                ...       ...              ...            ...\n",
       "1324727          Right         3              VVD  marielle_paul\n",
       "1324729          Right         3              VVD  marielle_paul\n",
       "1324731          Right         3              VVD  marielle_paul\n",
       "1324735          Right         3              VVD  marielle_paul\n",
       "1324737          Right         3              VVD  marielle_paul\n",
       "\n",
       "[406306 rows x 4 columns]"
      ]
     },
     "execution_count": 393,
     "metadata": {},
     "output_type": "execute_result"
    }
   ],
   "source": [
    "df[['Ideology_Group', 'Ideology', 'normalized_party', 'Author']]\n",
    "#df['text']"
   ]
  },
  {
   "cell_type": "code",
   "execution_count": null,
   "id": "90eedef0-6ef2-43e2-ad16-52ab0f75ab40",
   "metadata": {},
   "outputs": [],
   "source": [
    "## Create dataset specific for migration"
   ]
  },
  {
   "cell_type": "code",
   "execution_count": 394,
   "id": "39e5be2e-e362-4c61-b4db-bdf382f4f790",
   "metadata": {},
   "outputs": [
    {
     "data": {
      "text/plain": [
       "1946"
      ]
     },
     "execution_count": 394,
     "metadata": {},
     "output_type": "execute_result"
    }
   ],
   "source": [
    "# Define keywords and synonyms with wildcard matching\n",
    "keywords = [\n",
    "    'immigratie',\n",
    "    'migratie',\n",
    "    'migrant',\n",
    "    'vluchteling',\n",
    "    'asiel*',\n",
    "    'vreemdeling',\n",
    "    'deportatie',\n",
    "    'integratie',\n",
    "    'naturalisatie',\n",
    "    'verblijfsvergunning',\n",
    "    'grensbeveiliging',\n",
    "    'migratiebeleid',\n",
    "    'emigratie',\n",
    "    'remigratie',\n",
    "    'illegalen',\n",
    "    'grenscontrole',\n",
    "    'grensbewaking',\n",
    "    'vluchtelingenkamp',\n",
    "    'migrantenstroom',\n",
    "    'migratieroute',\n",
    "    'migratiecrisis',\n",
    "    'migratieachtergrond',\n",
    "    'gastarbeider',\n",
    "    'migratienetwerk',\n",
    "    'migratiekwestie',\n",
    "    'migratieproblematiek',\n",
    "    # Additional synonyms and related terms with wildcards\n",
    "    'vluchtelingen*',\n",
    "    'asielzoek*',\n",
    "    'illegalit*',\n",
    "    'grenspolitiek*',\n",
    "    'migratiestromen*',\n",
    "    'grensbeleid*',\n",
    "    'grensoverschrijding*',\n",
    "    'migratiedruk*',\n",
    "    'immigratiebeleid*',\n",
    "    'migratiepolitiek*',\n",
    "    'migratiecrisis*',\n",
    "    'migratieachtergrond*',\n",
    "    'vluchtelingencrisis*',\n",
    "    'emigranten*',\n",
    "    'immigratiekwestie*',\n",
    "    'immigratieproblematiek*',\n",
    "    # Add more terms as needed with wildcards\n",
    "]\n",
    "\n",
    "# Create regex pattern to match any of the keywords with word boundaries\n",
    "pattern = '|'.join([r'\\b{}\\b'.format(keyword) for keyword in keywords])\n",
    "\n",
    "# Filter 'text' column based on the regex pattern\n",
    "filtered_df = df[df['text'].str.contains(pattern, case=False, regex=True)]\n",
    "len(filtered_df)"
   ]
  },
  {
   "cell_type": "code",
   "execution_count": 366,
   "id": "be86ff73-a750-4a33-995b-f396a36c1a9d",
   "metadata": {},
   "outputs": [],
   "source": [
    "filtered_df.to_csv('immigratie_tweets_non_stratefied.csv')"
   ]
  },
  {
   "cell_type": "code",
   "execution_count": 395,
   "id": "9cd090c9-be7c-4751-874d-6bff11998886",
   "metadata": {},
   "outputs": [
    {
     "name": "stderr",
     "output_type": "stream",
     "text": [
      "/tmp/ipykernel_4096860/246085879.py:9: FutureWarning: \n",
      "\n",
      "Passing `palette` without assigning `hue` is deprecated and will be removed in v0.14.0. Assign the `x` variable to `hue` and set `legend=False` for the same effect.\n",
      "\n",
      "  sns.countplot(data=filtered_df, x='Ideology', palette='Set2')\n"
     ]
    },
    {
     "data": {
      "image/png": "[encoded data removed]",
      "text/plain": [
       "<Figure size 1000x600 with 1 Axes>"
      ]
     },
     "metadata": {},
     "output_type": "display_data"
    }
   ],
   "source": [
    "# Set the style\n",
    "sns.set_style(\"whitegrid\")\n",
    "\n",
    "# Plot the count of each ideology\n",
    "plt.figure(figsize=(10, 6))\n",
    "sns.countplot(data=filtered_df, x='Ideology', palette='Set2')\n",
    "plt.title('Amount of tweets on immigration-related topics across ideology')\n",
    "plt.xlabel('Ideology (-3 == very left, + 3 == very right)')\n",
    "plt.ylabel('Count')\n",
    "plt.xticks(rotation=45)  # Rotate x-axis labels for better visibility\n",
    "plt.show()"
   ]
  },
  {
   "cell_type": "code",
   "execution_count": 396,
   "id": "946defbf-f3b1-4b8c-982b-c675d6e8cf95",
   "metadata": {},
   "outputs": [
    {
     "name": "stderr",
     "output_type": "stream",
     "text": [
      "/tmp/ipykernel_4096860/1169338068.py:9: FutureWarning: \n",
      "\n",
      "Passing `palette` without assigning `hue` is deprecated and will be removed in v0.14.0. Assign the `x` variable to `hue` and set `legend=False` for the same effect.\n",
      "\n",
      "  sns.countplot(data=filtered_df, x='normalized_party', palette='Set2')\n"
     ]
    },
    {
     "data": {
      "image/png": "[encoded data removed]",
      "text/plain": [
       "<Figure size 1000x600 with 1 Axes>"
      ]
     },
     "metadata": {},
     "output_type": "display_data"
    }
   ],
   "source": [
    "# Set the style\n",
    "sns.set_style(\"whitegrid\")\n",
    "\n",
    "# Plot the count of each ideology\n",
    "plt.figure(figsize=(10, 6))\n",
    "sns.countplot(data=filtered_df, x='normalized_party', palette='Set2')\n",
    "plt.title('Amount of tweets on immigration-related topics across ideology')\n",
    "plt.xlabel('political party')\n",
    "plt.ylabel('Count')\n",
    "plt.xticks(rotation=60)  # Rotate x-axis labels for better visibility\n",
    "plt.show()\n"
   ]
  },
  {
   "cell_type": "code",
   "execution_count": null,
   "id": "ccde8234-5653-4af5-bab3-13f8c5a4d415",
   "metadata": {},
   "outputs": [],
   "source": [
    "## Create stratefied sample. \n",
    "\n",
    "# Step 1: stratefied sample of the immigration-specific tweets"
   ]
  },
  {
   "cell_type": "code",
   "execution_count": 397,
   "id": "fce18611-bf17-4c05-8373-6b774966c20d",
   "metadata": {},
   "outputs": [
    {
     "name": "stdout",
     "output_type": "stream",
     "text": [
      "distribution before stratefied sampling:\n",
      "Right     690\n",
      "Center    636\n",
      "Left      620\n",
      "Name: Ideology_Group, dtype: int64\n",
      "distribution AFTER stratefied sampling:\n"
     ]
    },
    {
     "data": {
      "text/plain": [
       "Center    620\n",
       "Left      620\n",
       "Right     620\n",
       "Name: Ideology_Group, dtype: int64"
      ]
     },
     "execution_count": 397,
     "metadata": {},
     "output_type": "execute_result"
    }
   ],
   "source": [
    "print('distribution before stratefied sampling:')\n",
    "print(filtered_df['Ideology_Group'].value_counts() )\n",
    "\n",
    "# Calculate the number of samples to take from each group\n",
    "num_samples_per_group = min(filtered_df['Ideology_Group'].value_counts())\n",
    "\n",
    "# Define a function to sample each group\n",
    "def stratified_sample(group):\n",
    "    return group.sample(num_samples_per_group)\n",
    "\n",
    "# Apply the stratified sampling function to each group\n",
    "stratified_samples = filtered_df.groupby('Ideology_Group', group_keys=False).apply(stratified_sample)\n",
    "\n",
    "# Reset the index of the sampled DataFrame\n",
    "stratified_samples.reset_index(drop=True, inplace=True)\n",
    "\n",
    "print('distribution AFTER stratefied sampling:')\n",
    "stratified_samples['Ideology_Group'].value_counts()"
   ]
  },
  {
   "cell_type": "code",
   "execution_count": 398,
   "id": "bbe594dc-782e-4114-9728-bd8471e6eb5f",
   "metadata": {},
   "outputs": [
    {
     "data": {
      "text/plain": [
       "1860"
      ]
     },
     "execution_count": 398,
     "metadata": {},
     "output_type": "execute_result"
    }
   ],
   "source": [
    "stratified_samples['immigration'] = 'yes'\n",
    "stratified_samples.to_csv('immigratie_tweets_stratefied.csv')\n",
    "len(stratified_samples)"
   ]
  },
  {
   "cell_type": "code",
   "execution_count": 337,
   "id": "3f98ee47-5f6a-4b8b-a874-49cbcb375d05",
   "metadata": {},
   "outputs": [],
   "source": [
    "## step 2: stratefied sample of the NOT immigration-specific tweets\n",
    "## here i need 1470 samples in total, to make up for 3330 tweets when combining both datasets. "
   ]
  },
  {
   "cell_type": "code",
   "execution_count": 400,
   "id": "4e5e2dc0-e929-4475-a7b9-bb93fbb36504",
   "metadata": {},
   "outputs": [
    {
     "data": {
      "text/plain": [
       "1470"
      ]
     },
     "execution_count": 400,
     "metadata": {},
     "output_type": "execute_result"
    }
   ],
   "source": [
    "# Step 1: Identify tweet IDs in stratified_samples\n",
    "excluded_tweet_ids = stratified_samples['tweet_id']\n",
    "\n",
    "# Step 2: Filter df to exclude tweets with the identified tweet IDs\n",
    "filtered_df2 = df[~df['tweet_id'].isin(excluded_tweet_ids)]\n",
    "\n",
    "total_samples = 1470\n",
    "\n",
    "# Calculate the number of samples to take from each group\n",
    "num_groups = len(filtered_df2['Ideology_Group'].unique())\n",
    "num_samples_per_group = total_samples // num_groups\n",
    "remaining_samples = total_samples % num_groups\n",
    "\n",
    "# Define a function to sample each group\n",
    "def stratified_sample(group):\n",
    "    global remaining_samples\n",
    "    # Calculate the number of samples to take from this group\n",
    "    num_samples = num_samples_per_group + int(remaining_samples > 0)\n",
    "    remaining_samples = max(0, remaining_samples - 1)\n",
    "    return group.sample(num_samples)\n",
    "\n",
    "# Apply the stratified sampling function to each group\n",
    "stratified_samples2 = filtered_df2.groupby('Ideology_Group', group_keys=False).apply(stratified_sample)\n",
    "\n",
    "# Reset the index of the sampled DataFrame\n",
    "stratified_samples2.reset_index(drop=True, inplace=True)\n",
    "\n",
    "len(stratified_samples2)\n"
   ]
  },
  {
   "cell_type": "code",
   "execution_count": 401,
   "id": "308949f9-1009-44df-a602-bce6f0381577",
   "metadata": {},
   "outputs": [],
   "source": [
    "stratified_samples2['Ideology_Group'].value_counts()\n",
    "stratified_samples2['immigration'] = 'no'\n",
    "stratified_samples2.to_csv('non_immigratie_tweets_stratefied.csv')"
   ]
  },
  {
   "cell_type": "code",
   "execution_count": 406,
   "id": "d20a21aa-c159-45bf-85a9-976989f22f19",
   "metadata": {},
   "outputs": [
    {
     "data": {
      "text/plain": [
       "3330"
      ]
     },
     "execution_count": 406,
     "metadata": {},
     "output_type": "execute_result"
    }
   ],
   "source": [
    "## Combine\n",
    "combined_samples = pd.concat([stratified_samples, stratified_samples2], ignore_index=True)\n",
    "## Shuffle order\n",
    "combined_samples = combined_samples.sample(frac=1).reset_index(drop=True)\n",
    "\n",
    "\n",
    "combined_samples.to_csv('final_stratified_immigration_non_immigration.csv')\n",
    "len(combined_samples)"
   ]
  },
  {
   "cell_type": "code",
   "execution_count": 411,
   "id": "c8c98b48-9da1-42bd-b2ff-a4a4186fc7a4",
   "metadata": {},
   "outputs": [
    {
     "data": {
      "text/html": [
       "<div>\n",
       "<style scoped>\n",
       "    .dataframe tbody tr th:only-of-type {\n",
       "        vertical-align: middle;\n",
       "    }\n",
       "\n",
       "    .dataframe tbody tr th {\n",
       "        vertical-align: top;\n",
       "    }\n",
       "\n",
       "    .dataframe thead th {\n",
       "        text-align: right;\n",
       "    }\n",
       "</style>\n",
       "<table border=\"1\" class=\"dataframe\">\n",
       "  <thead>\n",
       "    <tr style=\"text-align: right;\">\n",
       "      <th></th>\n",
       "      <th>Unnamed: 0_x</th>\n",
       "      <th>tweet_id</th>\n",
       "      <th>timestamp</th>\n",
       "      <th>text</th>\n",
       "      <th>full_text</th>\n",
       "      <th>hashtags</th>\n",
       "      <th>urls</th>\n",
       "      <th>source</th>\n",
       "      <th>Author</th>\n",
       "      <th>is_duplicated</th>\n",
       "      <th>...</th>\n",
       "      <th>period</th>\n",
       "      <th>Location</th>\n",
       "      <th>Age</th>\n",
       "      <th>Seniority</th>\n",
       "      <th>Image_URL</th>\n",
       "      <th>Political_Party</th>\n",
       "      <th>normalized_party</th>\n",
       "      <th>Ideology</th>\n",
       "      <th>Ideology_Group</th>\n",
       "      <th>immigration</th>\n",
       "    </tr>\n",
       "  </thead>\n",
       "  <tbody>\n",
       "  </tbody>\n",
       "</table>\n",
       "<p>0 rows × 33 columns</p>\n",
       "</div>"
      ],
      "text/plain": [
       "Empty DataFrame\n",
       "Columns: [Unnamed: 0_x, tweet_id, timestamp, text, full_text, hashtags, urls, source, Author, is_duplicated, twitter_username, Unnamed: 0_y, Name, Party, Start Date, End Date, Wikidata_ID, gender, birthday, twitter_numeric_user_id, subscriber_count, start_date, point_in_time, period, Location, Age, Seniority, Image_URL, Political_Party, normalized_party, Ideology, Ideology_Group, immigration]\n",
       "Index: []\n",
       "\n",
       "[0 rows x 33 columns]"
      ]
     },
     "execution_count": 411,
     "metadata": {},
     "output_type": "execute_result"
    }
   ],
   "source": [
    "combined_samples[combined_samples['twitter_username'].isna()]"
   ]
  },
  {
   "cell_type": "code",
   "execution_count": 404,
   "id": "9bd90653-2e4f-428f-9cbd-71737e388eb2",
   "metadata": {},
   "outputs": [
    {
     "name": "stderr",
     "output_type": "stream",
     "text": [
      "/tmp/ipykernel_4096860/2215571245.py:6: FutureWarning: \n",
      "\n",
      "Passing `palette` without assigning `hue` is deprecated and will be removed in v0.14.0. Assign the `x` variable to `hue` and set `legend=False` for the same effect.\n",
      "\n",
      "  sns.countplot(data=combined_samples, x='normalized_party', palette='Set2')\n"
     ]
    },
    {
     "data": {
      "image/png": "[encoded data removed]",
      "text/plain": [
       "<Figure size 1000x600 with 1 Axes>"
      ]
     },
     "metadata": {},
     "output_type": "display_data"
    }
   ],
   "source": [
    "# Set the style\n",
    "sns.set_style(\"whitegrid\")\n",
    "\n",
    "# Plot the count of each ideology\n",
    "plt.figure(figsize=(10, 6))\n",
    "sns.countplot(data=combined_samples, x='normalized_party', palette='Set2')\n",
    "plt.title('N of tweets')\n",
    "plt.xlabel('political party')\n",
    "plt.ylabel('Count')\n",
    "plt.xticks(rotation=60)  # Rotate x-axis labels for better visibility\n",
    "plt.show()\n"
   ]
  },
  {
   "cell_type": "code",
   "execution_count": 405,
   "id": "79270808-5c6e-4de2-b9a1-1c084604f272",
   "metadata": {},
   "outputs": [
    {
     "name": "stderr",
     "output_type": "stream",
     "text": [
      "/tmp/ipykernel_4096860/1456285453.py:6: FutureWarning: \n",
      "\n",
      "Passing `palette` without assigning `hue` is deprecated and will be removed in v0.14.0. Assign the `x` variable to `hue` and set `legend=False` for the same effect.\n",
      "\n",
      "  sns.countplot(data=combined_samples, x='Ideology_Group', palette='Set2')\n"
     ]
    },
    {
     "data": {
      "image/png": "[encoded data removed]",
      "text/plain": [
       "<Figure size 1000x600 with 1 Axes>"
      ]
     },
     "metadata": {},
     "output_type": "display_data"
    }
   ],
   "source": [
    "# Set the style\n",
    "sns.set_style(\"whitegrid\")\n",
    "\n",
    "# Plot the count of each ideology\n",
    "plt.figure(figsize=(10, 6))\n",
    "sns.countplot(data=combined_samples, x='Ideology_Group', palette='Set2')\n",
    "plt.title('N of tweets')\n",
    "plt.xlabel('political party')\n",
    "plt.ylabel('Count')\n",
    "plt.xticks(rotation=60)  # Rotate x-axis labels for better visibility\n",
    "plt.show()\n"
   ]
  },
  {
   "cell_type": "code",
   "execution_count": null,
   "id": "2af07cc2-43bd-4467-99ad-5c6eb3fa3d40",
   "metadata": {},
   "outputs": [],
   "source": [
    "import pandas as pd\n",
    "df = pd.read_csv('final_stratified_immigration_non_immigration.csv')\n",
    "df['timestamp']\n",
    "\n",
    "immigration_tweets = df[df['immigration'] == 'yes']\n",
    "for i in immigration_tweets['text'][:100]:\n",
    "    print(i)\n",
    "    print()"
   ]
  },
  {
   "cell_type": "code",
   "execution_count": 20,
   "id": "cbad6823",
   "metadata": {},
   "outputs": [],
   "source": [
    "immigration_tweets.to_csv('final_stratified_immigration.csv')"
   ]
  }
 ],
 "metadata": {
  "kernelspec": {
   "display_name": "Python 3 (ipykernel)",
   "language": "python",
   "name": "python3"
  },
  "language_info": {
   "codemirror_mode": {
    "name": "ipython",
    "version": 3
   },
   "file_extension": ".py",
   "mimetype": "text/x-python",
   "name": "python",
   "nbconvert_exporter": "python",
   "pygments_lexer": "ipython3",
   "version": "3.9.6"
  }
 },
 "nbformat": 4,
 "nbformat_minor": 5
}
