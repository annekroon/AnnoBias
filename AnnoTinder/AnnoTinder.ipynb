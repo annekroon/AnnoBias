{
 "cells": [
  {
   "cell_type": "code",
   "execution_count": 2,
   "id": "876a5eb5",
   "metadata": {},
   "outputs": [],
   "source": [
    "library(annotinder)"
   ]
  },
  {
   "cell_type": "code",
   "execution_count": 110,
   "id": "2bc48405",
   "metadata": {},
   "outputs": [],
   "source": [
    "units <- create_units(mini_sotu_par,\n",
    "  id = \"id\",\n",
    "                      \n",
    "  set_text(\"text\", text)\n",
    ")"
   ]
  },
  {
   "cell_type": "code",
   "execution_count": 111,
   "id": "c091a9bb",
   "metadata": {},
   "outputs": [],
   "source": [
    "read_and_concatenate <- function(file_path) {\n",
    "    instructies <- readLines(file_path)\n",
    "    text_string <- paste(instructies, collapse = \" \")\n",
    "    return(text_string)\n",
    "}"
   ]
  },
  {
   "cell_type": "code",
   "execution_count": 112,
   "id": "e15fdbc8",
   "metadata": {},
   "outputs": [
    {
     "name": "stderr",
     "output_type": "stream",
     "text": [
      "Warning message in readLines(file_path):\n",
      "“incomplete final line found on 'instructions/sentiment.txt'”\n",
      "Warning message in readLines(file_path):\n",
      "“incomplete final line found on 'instructions/toxic.txt'”\n",
      "Warning message in readLines(file_path):\n",
      "“incomplete final line found on 'instructions/misinformation.txt'”\n"
     ]
    }
   ],
   "source": [
    "## misinformation\n",
    "political_stance <- question(\"political_stance\", \n",
    "                  \"In welke mate reflecteert dit bericht een links- of rechts politiek standpunt?\",\n",
    "            instruction = read_and_concatenate(\"instructions/political_stance.txt\")  , \n",
    "             codes = c( darkgreen = 'Volledig links/ progressief', \n",
    "                        green = 'Links/ progressief', \n",
    "                        lightgreen = 'Enigszins links/progressief',\n",
    "                        grey = 'Neutraal/ onduidelijk', \n",
    "                        lightred = 'Engiszins rechts/ conservatief',\n",
    "                        red = 'Rechts/conservatief',\n",
    "                        darkred = 'Helemaal rechts/ conservatief'))\n",
    "\n",
    "## sentiment\n",
    "sentiment <- question(\"sentiment\", \n",
    "                      \"Is deze tweet negatief of positief van toon?\",\n",
    "             instruction = read_and_concatenate(\"instructions/sentiment.txt\") , \n",
    "             codes = c( darkred = 'Zeer negatief',\n",
    "                        red = 'Negatief',\n",
    "                        lightred = 'Enigszins negatief',\n",
    "                        grey = 'Neutral/onduidelijk', \n",
    "                        lightgreen = 'Enigszins positief',\n",
    "                        green = 'Positief', \n",
    "                        darkgreen = 'Zeer positief'))\n",
    "\n",
    "## toxic\n",
    "toxic <- question(\"toxic\", \n",
    "                  \"Bevat deze tweet toxische taal?\",\n",
    "             instruction = read_and_concatenate(\"instructions/toxic.txt\")  , \n",
    "             codes = c( darkgreen = 'Zeer beleefd/ vriendelijk', \n",
    "                        green = 'Beleefd/ vriendelijk', \n",
    "                        lightgreen = 'Enigzins beleefd/vriendelijk',\n",
    "                        grey = 'Neutraal/ onduidelijk', \n",
    "                        lightred = 'Enigzins toxisch',\n",
    "                        red = 'toxisch',\n",
    "                        darkred = 'Zeer toxisch'))\n",
    "\n",
    "## misinformation\n",
    "misinformation <- question(\"misinformation\", \n",
    "                  \"Bevat deze tweet misinformatie?\",\n",
    "             instruction = read_and_concatenate(\"instructions/misinformation.txt\")  , \n",
    "             codes = c( darkgreen = 'Tweet bevat zeker geen misinformatie', \n",
    "                        green = 'Tweet bevat waarschijnlijk geen misinformatie', \n",
    "                        lightgreen = 'Tweet bevat mogelijk geen misinformatie',\n",
    "                        grey = 'Neutraal/ onduidelijk', \n",
    "                        lightred = 'Bericht bevat mogelijk misinformatie',\n",
    "                        red = 'Bericht bevat waarschijnlijk misinformatie',\n",
    "                        darkred = 'Bericht bevat zeker misinformatie'))"
   ]
  },
  {
   "cell_type": "code",
   "execution_count": 113,
   "id": "fe9eb615",
   "metadata": {},
   "outputs": [
    {
     "data": {
      "text/html": [
       "'/Users/anne/repos/AnnoBias/AnnoTinder/annotinder_jobs/simple_example.db'"
      ],
      "text/latex": [
       "'/Users/anne/repos/AnnoBias/AnnoTinder/annotinder\\_jobs/simple\\_example.db'"
      ],
      "text/markdown": [
       "'/Users/anne/repos/AnnoBias/AnnoTinder/annotinder_jobs/simple_example.db'"
      ],
      "text/plain": [
       "[1] \"/Users/anne/repos/AnnoBias/AnnoTinder/annotinder_jobs/simple_example.db\""
      ]
     },
     "metadata": {},
     "output_type": "display_data"
    }
   ],
   "source": [
    "codebook <- create_codebook(sentiment, toxic, misinformation, political_stance)\n",
    "job <- create_job(\"simple_example\", units, codebook)\n",
    "job_db <- create_job_db(job, overwrite = T)\n",
    "job_db"
   ]
  },
  {
   "cell_type": "code",
   "execution_count": 114,
   "id": "ed5be4f4",
   "metadata": {},
   "outputs": [],
   "source": [
    "start_annotator(job_db)"
   ]
  }
 ],
 "metadata": {
  "kernelspec": {
   "display_name": "R",
   "language": "R",
   "name": "ir"
  },
  "language_info": {
   "codemirror_mode": "r",
   "file_extension": ".r",
   "mimetype": "text/x-r-source",
   "name": "R",
   "pygments_lexer": "r",
   "version": "4.1.0"
  }
 },
 "nbformat": 4,
 "nbformat_minor": 5
}
