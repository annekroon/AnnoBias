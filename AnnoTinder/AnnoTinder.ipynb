{
 "cells": [
  {
   "cell_type": "code",
   "execution_count": 1,
   "id": "876a5eb5",
   "metadata": {},
   "outputs": [],
   "source": [
    "library(annotinder)"
   ]
  },
  {
   "cell_type": "code",
   "execution_count": 252,
   "id": "8c346512",
   "metadata": {},
   "outputs": [],
   "source": [
    "## Create some toy data for now"
   ]
  },
  {
   "cell_type": "code",
   "execution_count": 253,
   "id": "2a8f15bb",
   "metadata": {},
   "outputs": [
    {
     "data": {
      "text/html": [
       "<table class=\"dataframe\">\n",
       "<caption>A data.frame: 3 × 8</caption>\n",
       "<thead>\n",
       "\t<tr><th scope=col>id</th><th scope=col>text</th><th scope=col>author</th><th scope=col>party</th><th scope=col>date</th><th scope=col>twitter_handle</th><th scope=col>author_with_handle</th><th scope=col>review_message</th></tr>\n",
       "\t<tr><th scope=col>&lt;chr&gt;</th><th scope=col>&lt;chr&gt;</th><th scope=col>&lt;list&gt;</th><th scope=col>&lt;list&gt;</th><th scope=col>&lt;list&gt;</th><th scope=col>&lt;list&gt;</th><th scope=col>&lt;chr&gt;</th><th scope=col>&lt;chr&gt;</th></tr>\n",
       "</thead>\n",
       "<tbody>\n",
       "\t<tr><td>1</td><td>Trots op de vooruitgang die we hebben geboekt in het verlagen van de werkloosheidscijfers! #economie #vooruitgang              </td><td>JanJansen</td><td>Partij van de Arbeid</td><td>2024-03-19</td><td>@JanJansen</td><td>**JanJansen** @JanJansen    </td><td>Beoordeel het volgende social media bericht afkomstig van **Partij van de Arbeid** lid JanJansen:</td></tr>\n",
       "\t<tr><td>2</td><td>Samen met mijn collega's van GroenLinks zetten we ons in voor duurzame energie en een schonere toekomst! #duurzaamheid #klimaat</td><td>LisaDeVries</td><td>GroenLinks</td><td>2024-03-18</td><td>@LisaDeVries</td><td>**LisaDeVries** @LisaDeVries</td><td>Beoordeel het volgende social media bericht afkomstig van **GroenLinks** lid LisaDeVries:        </td></tr>\n",
       "\t<tr><td>3</td><td>We moeten meer investeren in onderwijs om de toekomst van onze kinderen te verzekeren. #onderwijs #toekomst                    </td><td>ErikBakker</td><td>Democraten '66</td><td>2024-03-17</td><td>@ErikBakker</td><td>**ErikBakker** @ErikBakker  </td><td>Beoordeel het volgende social media bericht afkomstig van **Democraten '66** lid ErikBakker:     </td></tr>\n",
       "</tbody>\n",
       "</table>\n"
      ],
      "text/latex": [
       "A data.frame: 3 × 8\n",
       "\\begin{tabular}{llllllll}\n",
       " id & text & author & party & date & twitter\\_handle & author\\_with\\_handle & review\\_message\\\\\n",
       " <chr> & <chr> & <list> & <list> & <list> & <list> & <chr> & <chr>\\\\\n",
       "\\hline\n",
       "\t 1 & Trots op de vooruitgang die we hebben geboekt in het verlagen van de werkloosheidscijfers! \\#economie \\#vooruitgang               & JanJansen & Partij van de Arbeid & 2024-03-19 & @JanJansen & **JanJansen** @JanJansen     & Beoordeel het volgende social media bericht afkomstig van **Partij van de Arbeid** lid JanJansen:\\\\\n",
       "\t 2 & Samen met mijn collega's van GroenLinks zetten we ons in voor duurzame energie en een schonere toekomst! \\#duurzaamheid \\#klimaat & LisaDeVries & GroenLinks & 2024-03-18 & @LisaDeVries & **LisaDeVries** @LisaDeVries & Beoordeel het volgende social media bericht afkomstig van **GroenLinks** lid LisaDeVries:        \\\\\n",
       "\t 3 & We moeten meer investeren in onderwijs om de toekomst van onze kinderen te verzekeren. \\#onderwijs \\#toekomst                     & ErikBakker & Democraten '66 & 2024-03-17 & @ErikBakker & **ErikBakker** @ErikBakker   & Beoordeel het volgende social media bericht afkomstig van **Democraten '66** lid ErikBakker:     \\\\\n",
       "\\end{tabular}\n"
      ],
      "text/markdown": [
       "\n",
       "A data.frame: 3 × 8\n",
       "\n",
       "| id &lt;chr&gt; | text &lt;chr&gt; | author &lt;list&gt; | party &lt;list&gt; | date &lt;list&gt; | twitter_handle &lt;list&gt; | author_with_handle &lt;chr&gt; | review_message &lt;chr&gt; |\n",
       "|---|---|---|---|---|---|---|---|\n",
       "| 1 | Trots op de vooruitgang die we hebben geboekt in het verlagen van de werkloosheidscijfers! #economie #vooruitgang               | JanJansen | Partij van de Arbeid | 2024-03-19 | @JanJansen | **JanJansen** @JanJansen     | Beoordeel het volgende social media bericht afkomstig van **Partij van de Arbeid** lid JanJansen: |\n",
       "| 2 | Samen met mijn collega's van GroenLinks zetten we ons in voor duurzame energie en een schonere toekomst! #duurzaamheid #klimaat | LisaDeVries | GroenLinks | 2024-03-18 | @LisaDeVries | **LisaDeVries** @LisaDeVries | Beoordeel het volgende social media bericht afkomstig van **GroenLinks** lid LisaDeVries:         |\n",
       "| 3 | We moeten meer investeren in onderwijs om de toekomst van onze kinderen te verzekeren. #onderwijs #toekomst                     | ErikBakker | Democraten '66 | 2024-03-17 | @ErikBakker | **ErikBakker** @ErikBakker   | Beoordeel het volgende social media bericht afkomstig van **Democraten '66** lid ErikBakker:      |\n",
       "\n"
      ],
      "text/plain": [
       "  id\n",
       "1 1 \n",
       "2 2 \n",
       "3 3 \n",
       "  text                                                                                                                           \n",
       "1 Trots op de vooruitgang die we hebben geboekt in het verlagen van de werkloosheidscijfers! #economie #vooruitgang              \n",
       "2 Samen met mijn collega's van GroenLinks zetten we ons in voor duurzame energie en een schonere toekomst! #duurzaamheid #klimaat\n",
       "3 We moeten meer investeren in onderwijs om de toekomst van onze kinderen te verzekeren. #onderwijs #toekomst                    \n",
       "  author      party                date       twitter_handle\n",
       "1 JanJansen   Partij van de Arbeid 2024-03-19 @JanJansen    \n",
       "2 LisaDeVries GroenLinks           2024-03-18 @LisaDeVries  \n",
       "3 ErikBakker  Democraten '66       2024-03-17 @ErikBakker   \n",
       "  author_with_handle          \n",
       "1 **JanJansen** @JanJansen    \n",
       "2 **LisaDeVries** @LisaDeVries\n",
       "3 **ErikBakker** @ErikBakker  \n",
       "  review_message                                                                                   \n",
       "1 Beoordeel het volgende social media bericht afkomstig van **Partij van de Arbeid** lid JanJansen:\n",
       "2 Beoordeel het volgende social media bericht afkomstig van **GroenLinks** lid LisaDeVries:        \n",
       "3 Beoordeel het volgende social media bericht afkomstig van **Democraten '66** lid ErikBakker:     "
      ]
     },
     "metadata": {},
     "output_type": "display_data"
    }
   ],
   "source": [
    "tweets <- list(\n",
    "  list(\n",
    "    id = \"1\",\n",
    "    text = \"Trots op de vooruitgang die we hebben geboekt in het verlagen van de werkloosheidscijfers! #economie #vooruitgang\",\n",
    "    author = \"JanJansen\",\n",
    "    party = \"Partij van de Arbeid\",\n",
    "    date = \"2024-03-19\",\n",
    "    twitter_handle = \"@JanJansen\"\n",
    "  ),\n",
    "  list(\n",
    "    id = \"2\",\n",
    "    text = \"Samen met mijn collega's van GroenLinks zetten we ons in voor duurzame energie en een schonere toekomst! #duurzaamheid #klimaat\",\n",
    "    author = \"LisaDeVries\",\n",
    "    party = \"GroenLinks\",\n",
    "    date = \"2024-03-18\",\n",
    "    twitter_handle = \"@LisaDeVries\"\n",
    "  ),\n",
    "  list(\n",
    "    id = \"3\",\n",
    "    text = \"We moeten meer investeren in onderwijs om de toekomst van onze kinderen te verzekeren. #onderwijs #toekomst\",\n",
    "    author = \"ErikBakker\",\n",
    "    party = \"Democraten '66\",\n",
    "    date = \"2024-03-17\",\n",
    "    twitter_handle = \"@ErikBakker\"\n",
    "  )\n",
    ")\n",
    "\n",
    "# Convert the list of tweets into a data frame with text, id, and twitter_handle\n",
    "tweets_df <- as.data.frame(do.call(rbind, tweets), stringsAsFactors = FALSE)\n",
    "tweets_df$text <- as.character(tweets_df$text)\n",
    "tweets_df$id <- as.character(tweets_df$id)\n",
    "\n",
    "# Print the data frame\n",
    "# Combine author and twitter_handle columns with Markdown formatting for author name\n",
    "tweets_df$author_with_handle <- paste0(\"**\", tweets_df$author, \"** \", tweets_df$twitter_handle, \"\")\n",
    "# Create the new column with party name bolded using Markdown\n",
    "tweets_df$review_message <- paste0(\n",
    "  \"Beoordeel het volgende social media bericht afkomstig van **\", \n",
    "  tweets_df$party, \"** lid \", tweets_df$author , \":\"\n",
    ")\n",
    "\n",
    "tweets_df"
   ]
  },
  {
   "cell_type": "code",
   "execution_count": 250,
   "id": "5641dd56",
   "metadata": {},
   "outputs": [],
   "source": [
    "#read_and_concatenate <- function(file_path) {\n",
    "#    instructies <- readLines(file_path)\n",
    "#    text_string <- paste(instructies, collapse = \" \")\n",
    "#    return(text_string)\n",
    "#}"
   ]
  },
  {
   "cell_type": "code",
   "execution_count": 254,
   "id": "0ce768a7",
   "metadata": {},
   "outputs": [],
   "source": [
    "read_and_concatenate <- function(file_path) {\n",
    "    instructies <- readLines(file_path, warn = FALSE)\n",
    "    text_string <- paste(instructies, collapse = \"\\n\")\n",
    "    return(text_string)\n",
    "}"
   ]
  },
  {
   "cell_type": "code",
   "execution_count": 256,
   "id": "99fffa94",
   "metadata": {},
   "outputs": [],
   "source": [
    "#read_and_concatenate('instructions/general_definitions.txt')"
   ]
  },
  {
   "cell_type": "code",
   "execution_count": 259,
   "id": "d01ca58c",
   "metadata": {},
   "outputs": [],
   "source": [
    "## Issue 1: Bij de intro units (intro_unit_1, intro_unit_2) wil ik nog geen antwoorden-balk onderin...Nu moet je al beginnen met annoteren.\n",
    "## Issue 2: Bij oefenenvragen moeten MEERDERE opties goedgekeurd worden. dat lukt nu niet met c(....). "
   ]
  },
  {
   "cell_type": "code",
   "execution_count": 265,
   "id": "bf913ebc",
   "metadata": {},
   "outputs": [],
   "source": [
    "library(annotinder)\n",
    "\n",
    "\n",
    "## intro text vragen zijn vaak het makkelijkst om gewoon per stuk te maken\n",
    "intro_unit_1 = create_unit(\"welkom\", \n",
    "                         set_markdown(\"intro\",  read_and_concatenate('instructions/general_instructions.txt'), text_size = 1.5, align = 'center'), \n",
    "                         set_markdown(\"general_definitions\", read_and_concatenate('instructions/general_definitions.txt'), text_size = 1.2, align = 'center', background = 'lightgrey', marginTop = '3rem'),\n",
    "                         set_question('confirm', question = 'Ga door als u klaar bent met lezen', type='confirm'))\n",
    "\n",
    "\n",
    "intro_unit_2 = create_unit(\"welkom2\", \n",
    "                         set_markdown(\"intro\",  \n",
    "                                      \"Voordat het volgende deel begint, oefenen we met een aantal Tweets.\\nBeoordeel alstublieft de volgende Tweets:\")) \n",
    "\n",
    "train_unit_1 <- create_unit(\n",
    "  'test vraag 1',\n",
    "  type = 'train',\n",
    "  set_text('text', 'We hebben NU een rechts kabinet nodig! Geen GL/PvdA! Stop die asielwaanzin en bouw meer woningen! Nederland kan niet langer naar die linkse flauwekul luisteren!'),\n",
    "  set_train(variable = \"sentiment\", \n",
    "            value = c('Zeer negatief', 'Negatief', 'Enigszins negatief'), \n",
    "            message = \"Het sentiment van de tweet is negatief vanwege de negatieve en verontwaardigde toon die wordt uitgedrukt in de bewoordingen zoals 'geen GL/PvdA', 'stop die asielwaanzin' en 'luisteren naar die linkse flauwekul'. Deze bewoordingen geven een sterke afkeuring van linkse politieke ideeën en benadrukken de behoefte aan een rechts kabinet, wat duidt op een negatieve houding ten opzichte van linkse politieke partijen.\"),\n",
    "  set_train(variable = \"political_stance\", \n",
    "            value = c('Engiszins rechts/ conservatief', 'Rechts/conservatief', 'Helemaal rechts/ conservatief'), \n",
    "            message = \"Het politieke standpunt van deze tweet kan worden beschouwd als rechts of conservatief, vanwege de steun voor een rechts kabinet en de afwijzing van linkse partijen zoals GroenLinks (GL) en de Partij van de Arbeid (PvdA). De tweet drukt de wens uit voor beleid dat gericht is op het stoppen van wat wordt gezien als linkse maatregelen, zoals het beperken van asiel en het benadrukken van de behoefte aan meer woningen. Dit suggereert een voorkeur voor conservatieve beleidsmaatregelen en een afkeer van progressieve of linkse initiatieven.\"),\n",
    "  set_train(variable = \"misinformation\", \n",
    "            value = c('Neutraal/ onduidelijk', 'Bericht bevat mogelijk misinformatie', 'Bericht bevat waarschijnlijk misinformatie', 'Bericht bevat zeker misinformatie'),\n",
    "            message = \"De tweet bevat onjuiste beweringen, zoals het beschuldigen van 'linkse flauwekul' en het gebruik van termen als 'asielwaanzin'. Deze uitspraken zijn subjectief en overdreven, en ze geven mogelijk een vertekend beeld van de realiteit. Daarom kan worden geconcludeerd dat de tweet misinformatie bevat.\"),\n",
    "  set_train(variable = \"toxic\", \n",
    "            value = c(\"Enigzins toxisch\", \"Toxisch\", \"Zeer toxisch\"), \n",
    "            message = \"Deze tweet bevat toxische taal omdat het negatieve bewoordingen gebruikt om een politiek standpunt over te brengen en andere politieke partijen bekritiseert op een respectloze manier\") ) \n",
    "\n",
    "\n",
    "train_unit_2 <- create_unit('test vraag 2',\n",
    "                          type = 'train',\n",
    "                          set_text('text', 'Geweldig nieuws dat het gerechtshof heeft besloten dat de regering moet stoppen met de levering van F-35 onderdelen aan Israël. Eindelijk een stap in de richting van een rechtvaardiger buitenlands beleid dat de Palestijnse zaak serieus neemt. Dit geeft hoop voor een vreedzamere toekomst in het Midden-Oosten!'),\n",
    "                          set_train(variable = \"sentiment\", \n",
    "                                    value = c('Enigszins positief', 'Positief', 'Zeer positief'), \n",
    "                                    message = \"Het sentiment van de tweet is positief omdat de auteur enthousiast reageert op het nieuws dat het gerechtshof heeft besloten om de levering van F-35 onderdelen aan Israël te stoppen. De auteur beschouwt dit als een stap in de richting van een rechtvaardiger buitenlands beleid en een serieuze erkenning van de Palestijnse zaak. De bewoordingen 'Geweldig nieuws' en 'Eindelijk een stap in de richting van een rechtvaardiger buitenlands beleid' geven aan dat de auteur het besluit toejuicht en hoopvol is over de mogelijke impact ervan op de toekomst van het Midden-Oosten.\"),\n",
    "                          set_train(variable = \"political_stance\", \n",
    "                                    value = c('Volledig links/ progressief', 'Links/ progressief', 'Enigszins links/progressief'), \n",
    "                                    message = 'Het politieke standpunt van de tweet kan worden beschouwd als links of progressief. De auteur ondersteunt het besluit van het gerechtshof om de levering van F-35 onderdelen aan Israël stop te zetten en beschouwt dit als een stap in de richting van een rechtvaardiger buitenlands beleid. Door te spreken over een \"rechtvaardiger buitenlands beleid\" en de \"Palestijnse zaak serieus te nemen\", lijkt de auteur te pleiten voor een meer evenwichtige en empathische benadering van de kwestie Israël-Palestina, wat over het algemeen wordt geassocieerd met progressieve politieke standpunten.'), \n",
    "                          set_train(variable = \"misinformation\", \n",
    "                                    value = c('Tweet bevat zeker geen misinformatie', 'Tweet bevat waarschijnlijk geen misinformatie', 'Tweet bevat mogelijk geen misinformatie', 'Neutraal/ onduidelijk' ),\n",
    "                                    message = \"De tweet bevat mogelijk geen misinformatie, aangezien het bericht gaat over een gerechtelijke beslissing en geen feitelijke onjuistheden lijkt te bevatten.\"),\n",
    "                          set_train(variable = \"toxic\",\n",
    "                                    value = c('Zeer beleefd/ vriendelijk', 'Beleefd/ vriendelijk','Enigszins beleefd/vriendelijk','Neutraal/ onduidelijk'),\n",
    "                                    message = \"De tweet lijkt niet toxisch te zijn, aangezien de boodschap positief is en hoopvolle perspectieven biedt voor een vreedzamere toekomst in het Midden-Oosten.\")\n",
    ")\n",
    " \n",
    "\n",
    "train_unit_3 <- create_unit('test vraag 3',\n",
    "                          type = 'train',\n",
    "                          set_text('text', 'Dit is echt ziekelijk. En levensgevaarlijk. Ons beleid wordt keer op keer bekritiseerd en aangevallen. Zodra er ook maar één idioot besluit om geweld te gebruiken, hebben de debielen die ons bekritiseren bloed aan hun handen. Walgelijk'),\n",
    "                          set_train(variable = \"sentiment\", \n",
    "                                    value = c('Zeer negatief', 'Negatief', 'Enigszins negatief'), \n",
    "                                    message = 'Het sentiment van deze tweet is (zeer) negatief vanwege de sterke negatieve bewoordingen, zoals \"ziekelijk\", \"levensgevaarlijk\", \"idioot\", \"debielen\" en \"Walgelijk\". De auteur drukt sterke afkeuring en woede uit over het beleid dat bekritiseerd wordt en waarschuwt voor mogelijke gewelddadige acties als reactie op deze kritiek.'),\n",
    "                          set_train(variable = \"political_stance\", \n",
    "                                    value = \"Neutraal/ onduidelijk\", \n",
    "                                    message = 'Het politieke standpunt in deze tweet is onduidelijk omdat de bewoordingen verschillende politieke interpretaties kunnen oproepen. De kritiek kan gericht zijn op verschillende beleidsaspecten, zowel vanuit een linkse als een rechtse ideologische perspectief.'), \n",
    "                          set_train(variable = \"misinformation\", \n",
    "                                 value = c('Neutraal/ onduidelijk', 'Bericht bevat mogelijk misinformatie', 'Bericht bevat waarschijnlijk misinformatie', 'Bericht bevat zeker misinformatie'),   \n",
    "                                    message = \"De tweet bevat mogelijk misinformatie vanwege de overdreven beschuldigingen en negatieve bewoordingen, maar het is onduidelijk of deze beweringen gebaseerd zijn op controleerbare feiten of bronnen.\"),\n",
    "                          set_train(variable = \"toxic\",\n",
    "                                    value = c(\"Enigzins toxisch\", \"Toxisch\", \"Zeer toxisch\"),  \n",
    "                                    message = \"De tweet bevat toxische taal vanwege de agressieve en verontwaardigde bewoordingen, wat kan bijdragen aan een vijandige discussieomgeving en anderen ontmoedigt om deel te nemen aan de discussie.\")\n",
    ")\n",
    " \n",
    "\n",
    "units <- c(intro_unit_1, intro_unit_2, train_unit_1, train_unit_2, train_unit_3)\n",
    "codebook <- create_codebook(sentiment, toxic, misinformation, political_stance)\n",
    "\n",
    "create_job('voorbeeld', units=units, codebook=codebook) |>\n",
    "  create_job_db(overwrite=T) |>\n",
    "  start_annotator()"
   ]
  },
  {
   "cell_type": "code",
   "execution_count": null,
   "id": "eacfe445",
   "metadata": {},
   "outputs": [],
   "source": [
    "## Create units for final experiment... "
   ]
  },
  {
   "cell_type": "code",
   "execution_count": 260,
   "id": "2bc48405",
   "metadata": {},
   "outputs": [],
   "source": [
    "units <- create_units(tweets_df,\n",
    "  set_markdown(\"review_message\", review_message, align=\"left\", text_size = 1),                 \n",
    "  set_text(\"text\", text, align = \"left\", text_size = 1.5, bold = TRUE, underline = TRUE),\n",
    "  id = \"id\",\n",
    "  set_markdown(\"author_with_handle\", author_with_handle, align = \"left\", text_size = 1.2)\n",
    "\n",
    ")"
   ]
  },
  {
   "cell_type": "code",
   "execution_count": 261,
   "id": "c091a9bb",
   "metadata": {},
   "outputs": [],
   "source": [
    "## Codebook"
   ]
  },
  {
   "cell_type": "code",
   "execution_count": 221,
   "id": "e15fdbc8",
   "metadata": {},
   "outputs": [],
   "source": [
    "## misinformation\n",
    "political_stance <- question(\"political_stance\", \n",
    "                  \"In welke mate reflecteert dit bericht een links- of rechts politiek standpunt?\",\n",
    "             instruction = read_and_concatenate(\"instructions/political_stance.txt\")  , \n",
    "             codes = c( darkgreen = 'Volledig links/ progressief', \n",
    "                        green = 'Links/ progressief', \n",
    "                        lightgreen = 'Enigszins links/progressief',\n",
    "                        grey = 'Neutraal/ onduidelijk', \n",
    "                        lightred = 'Engiszins rechts/ conservatief',\n",
    "                        red = 'Rechts/conservatief',\n",
    "                        darkred = 'Helemaal rechts/ conservatief'))\n",
    "\n",
    "## sentiment\n",
    "sentiment <- question(\"sentiment\", \n",
    "                      \"Is deze tweet negatief of positief van toon?\",\n",
    "             instruction = read_and_concatenate(\"instructions/sentiment.txt\") , \n",
    "             codes = c( darkred = 'Zeer negatief',\n",
    "                        red = 'Negatief',\n",
    "                        lightred = 'Enigszins negatief',\n",
    "                        grey = 'Neutral/onduidelijk', \n",
    "                        lightgreen = 'Enigszins positief',\n",
    "                        green = 'Positief', \n",
    "                        darkgreen = 'Zeer positief'))\n",
    "\n",
    "## toxic\n",
    "toxic <- question(\"toxic\", \n",
    "                  \"Bevat deze tweet toxische taal?\",\n",
    "             instruction = read_and_concatenate(\"instructions/toxic.txt\")  , \n",
    "             codes = c( darkgreen = 'Zeer beleefd/ vriendelijk', \n",
    "                        green = 'Beleefd/ vriendelijk', \n",
    "                        lightgreen = 'Enigzins beleefd/vriendelijk',\n",
    "                        grey = 'Neutraal/ onduidelijk', \n",
    "                        lightred = 'Enigzins toxisch',\n",
    "                        red = 'Toxisch',\n",
    "                        darkred = 'Zeer toxisch'))\n",
    "\n",
    "## misinformation\n",
    "misinformation <- question(\"misinformation\", \n",
    "                  \"Bevat deze tweet misinformatie?\",\n",
    "             instruction = read_and_concatenate(\"instructions/misinformation.txt\")  , \n",
    "             codes = c( darkgreen = 'Tweet bevat zeker geen misinformatie', \n",
    "                        green = 'Tweet bevat waarschijnlijk geen misinformatie', \n",
    "                        lightgreen = 'Tweet bevat mogelijk geen misinformatie',\n",
    "                        grey = 'Neutraal/ onduidelijk', \n",
    "                        lightred = 'Bericht bevat mogelijk misinformatie',\n",
    "                        red = 'Bericht bevat waarschijnlijk misinformatie',\n",
    "                        darkred = 'Bericht bevat zeker misinformatie'))"
   ]
  },
  {
   "cell_type": "code",
   "execution_count": 165,
   "id": "fe9eb615",
   "metadata": {},
   "outputs": [
    {
     "data": {
      "text/html": [
       "'/Users/anne/repos/AnnoBias/AnnoTinder/annotinder_jobs/simple_example.db'"
      ],
      "text/latex": [
       "'/Users/anne/repos/AnnoBias/AnnoTinder/annotinder\\_jobs/simple\\_example.db'"
      ],
      "text/markdown": [
       "'/Users/anne/repos/AnnoBias/AnnoTinder/annotinder_jobs/simple_example.db'"
      ],
      "text/plain": [
       "[1] \"/Users/anne/repos/AnnoBias/AnnoTinder/annotinder_jobs/simple_example.db\""
      ]
     },
     "metadata": {},
     "output_type": "display_data"
    }
   ],
   "source": [
    "codebook <- create_codebook(sentiment, toxic, misinformation, political_stance)\n",
    "job <- create_job(\"simple_example\", units, codebook)\n",
    "job_db <- create_job_db(job, overwrite = T)\n",
    "job_db"
   ]
  },
  {
   "cell_type": "code",
   "execution_count": 166,
   "id": "ed5be4f4",
   "metadata": {},
   "outputs": [],
   "source": [
    "start_annotator(job_db)"
   ]
  }
 ],
 "metadata": {
  "kernelspec": {
   "display_name": "R",
   "language": "R",
   "name": "ir"
  },
  "language_info": {
   "codemirror_mode": "r",
   "file_extension": ".r",
   "mimetype": "text/x-r-source",
   "name": "R",
   "pygments_lexer": "r",
   "version": "4.1.0"
  }
 },
 "nbformat": 4,
 "nbformat_minor": 5
}
