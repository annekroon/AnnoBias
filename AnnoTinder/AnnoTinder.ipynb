{
 "cells": [
  {
   "cell_type": "code",
   "execution_count": 1,
   "id": "876a5eb5",
   "metadata": {
    "vscode": {
     "languageId": "r"
    }
   },
   "outputs": [],
   "source": [
    "library(annotinder)"
   ]
  },
  {
   "cell_type": "code",
   "execution_count": 48,
   "id": "81a9579e",
   "metadata": {
    "vscode": {
     "languageId": "r"
    }
   },
   "outputs": [],
   "source": [
    "# final tweets\n",
    "df <- read.csv(\"../data/final_stratified_immigration_non_immigration.csv\")"
   ]
  },
  {
   "cell_type": "code",
   "execution_count": 50,
   "id": "cface1bf",
   "metadata": {
    "vscode": {
     "languageId": "r"
    }
   },
   "outputs": [],
   "source": [
    "### Maak column aan met instructies voor coderen in conditie 3, 4, 5 (author = zichtbaar)"
   ]
  },
  {
   "cell_type": "code",
   "execution_count": 52,
   "id": "2a8f15bb",
   "metadata": {
    "vscode": {
     "languageId": "r"
    }
   },
   "outputs": [],
   "source": [
    "df$id <- as.character(df$tweet_id)\n",
    "# Print the data frame\n",
    "# Combine author and twitter_handle columns with Markdown formatting for author name\n",
    "df$author_with_handle <- paste0(\"**\", df$Name, \"** \", df$twitter_username, \"\")\n",
    "# Create the new column with party name bolded using Markdown\n",
    "df$review_message <- paste0(\n",
    "  \"Beoordeel het volgende social media bericht afkomstig van **\", \n",
    "  df$normalized_party, \"** lid \", df$author , \":\"\n",
    ")"
   ]
  },
  {
   "cell_type": "code",
   "execution_count": 4,
   "id": "0ce768a7",
   "metadata": {
    "vscode": {
     "languageId": "r"
    }
   },
   "outputs": [],
   "source": [
    "read_and_concatenate <- function(file_path) {\n",
    "    instructies <- readLines(file_path, warn = FALSE)\n",
    "    text_string <- paste(instructies, collapse = \"\\n\")\n",
    "    return(text_string)\n",
    "}"
   ]
  },
  {
   "cell_type": "markdown",
   "id": "fad06509",
   "metadata": {},
   "source": [
    "### Part 1:  Training\n",
    "\n",
    "<div style=\"background-color:yellow; padding:10px;\">\n",
    "@Kasper: De training moet uiteraard voor de final coding job komen. Zo zorg ik ervoor dat dat het final codebook + de final units na de training komen?\n",
    "</div>\n"
   ]
  },
  {
   "cell_type": "code",
   "execution_count": 39,
   "id": "bf913ebc",
   "metadata": {
    "vscode": {
     "languageId": "r"
    }
   },
   "outputs": [],
   "source": [
    "## Codebook annotation\n",
    "\n",
    "## misinformation\n",
    "political_stance_training <- question(\"political_stance_training\", \n",
    "                  \"In welke mate reflecteert dit bericht een links- of rechts politiek standpunt?\",\n",
    "             instruction = read_and_concatenate(\"instructions/political_stance.txt\")  , \n",
    "             codes = c( darkgrey = 'Volledig links/ progressief -- Links/ progressief -- Enigszins links/progressief',\n",
    "                        grey = 'Neutraal/ onduidelijk', \n",
    "                        darkgrey = 'Engiszins rechts/ conservatief -- Rechts/conservatief -- Helemaal rechts/ conservatief'))\n",
    "\n",
    "## sentiment\n",
    "sentiment_training <- question(\"sentiment_training\", \n",
    "                      \"Is deze tweet negatief of positief van toon?\",\n",
    "             instruction = read_and_concatenate(\"instructions/sentiment.txt\") , \n",
    "             codes = c( darkred = 'Zeer negatief -- Negatief -- Enigszins negatief',\n",
    "                        grey = 'Neutral/onduidelijk', \n",
    "                        darkgreen = 'Enigszins positief -- Positief -- Zeer positief'))\n",
    "\n",
    "## toxic\n",
    "toxic_training <- question(\"toxic_training\", \n",
    "                  \"Bevat deze tweet toxische taal?\",\n",
    "             instruction = read_and_concatenate(\"instructions/toxic.txt\")  , \n",
    "             codes = c( darkgreen = 'Zeer beleefd/ vriendelijk -- Beleefd/ vriendelijk -- Enigzins beleefd/vriendelijk',\n",
    "                        grey = 'Neutraal/ onduidelijk', \n",
    "                        darkred = 'Enigzins toxisch -- Toxisch -- Zeer toxisch'))\n",
    "\n",
    "## misinformation\n",
    "misinformation_training  <- question(\"misinformation_training\", \"Bevat deze tweet misinformatie?\",\n",
    "             instruction = read_and_concatenate(\"instructions/misinformation.txt\")  , \n",
    "             codes = c( darkgreen = 'Geen/ Waarschijnlijk geen/ Mogelijk geen misinformatie',\n",
    "                        grey = 'Neutraal/ onduidelijk', \n",
    "                        darkred = 'Mogelijk/ Waarschijnlijk/ Zeker misinformatie'))\n",
    "\n",
    "\n",
    "\n",
    "\n",
    "intro_unit_1 = create_unit(\"welkom\", \n",
    "                         set_markdown(\"intro\",  read_and_concatenate('instructions/general_instructions.txt'), text_size = 1.5, align = 'center'), \n",
    "                         set_markdown(\"general_definitions\", read_and_concatenate('instructions/general_definitions.txt'), text_size = 1.2, align = 'center', background = 'lightgrey', marginTop = '3rem'),\n",
    "                         set_question('confirm', question = 'Ga door als u klaar bent met lezen', type='confirm'))\n",
    "\n",
    "\n",
    "intro_unit_2 = create_unit(\"welkom2\", \n",
    "                         set_markdown(\"intro\",  \n",
    "                                      \"Voordat het volgende deel begint, oefenen we met een aantal Tweets.\\nBeoordeel alstublieft de volgende Tweets:\"),\n",
    "                                         set_question('confirm', question = 'Ga door als u klaar bent met lezen', type='confirm')) \n",
    "\n",
    "\n",
    "\n",
    "train_unit_1 <- create_unit(\n",
    "  'test vraag 1',\n",
    "  type = 'train',\n",
    "  set_text('text', 'We hebben NU een rechts kabinet nodig! Geen GL/PvdA! Stop die asielwaanzin en bouw meer woningen! Nederland kan niet langer naar die linkse flauwekul luisteren!'),\n",
    "  set_train(variable = \"sentiment_training\", \n",
    "            value = 'Zeer negatief -- Negatief -- Enigszins negatief', \n",
    "            message = \"Het sentiment van de tweet is negatief vanwege de negatieve en verontwaardigde toon die wordt uitgedrukt in de bewoordingen zoals 'geen GL/PvdA', 'stop die asielwaanzin' en 'luisteren naar die linkse flauwekul'. Deze bewoordingen geven een sterke afkeuring van linkse politieke ideeën en benadrukken de behoefte aan een rechts kabinet, wat duidt op een negatieve houding ten opzichte van linkse politieke partijen.\"), \n",
    "  set_train(variable = \"political_stance_training\", \n",
    "            value = 'Engiszins rechts/ conservatief -- Rechts/conservatief -- Helemaal rechts/ conservatief', \n",
    "            message = \"Het politieke standpunt van deze tweet kan worden beschouwd als rechts of conservatief, vanwege de steun voor een rechts kabinet en de afwijzing van linkse partijen zoals GroenLinks (GL) en de Partij van de Arbeid (PvdA). De tweet drukt de wens uit voor beleid dat gericht is op het stoppen van wat wordt gezien als linkse maatregelen. Het suggereert een voorkeur voor conservatieve beleidsmaatregelen en een afkeer van progressieve of linkse initiatieven.\"),\n",
    "  set_train(variable = \"misinformation_training\", \n",
    "            value = 'Mogelijk/ Waarschijnlijk/ Zeker misinformatie', \n",
    "            message = \"De tweet bevat onjuiste beweringen, zoals het beschuldigen van 'linkse flauwekul' en het gebruik van termen als 'asielwaanzin'. Deze uitspraken zijn subjectief en overdreven, en ze geven mogelijk een vertekend beeld van de realiteit. Daarom kan worden geconcludeerd dat de tweet misinformatie bevat.\"), \n",
    "  set_train(variable = \"toxic_training\", \n",
    "            value = \"Enigzins toxisch -- Toxisch -- Zeer toxisch\", \n",
    "            message = \"Deze tweet bevat toxische taal omdat het negatieve bewoordingen gebruikt om een politiek standpunt over te brengen en andere politieke partijen bekritiseert op een respectloze manier\"))\n",
    "   \n",
    "\n",
    "##=============\n",
    "\n",
    "train_unit_2 <- create_unit('test vraag 2',\n",
    "                          type = 'train',\n",
    "                          set_text('text', 'Geweldig nieuws dat het gerechtshof heeft besloten dat de regering moet stoppen met de levering van F-35 onderdelen aan Israël. Eindelijk een stap in de richting van een rechtvaardiger buitenlands beleid dat de Palestijnse zaak serieus neemt. Dit geeft hoop voor een vreedzamere toekomst in het Midden-Oosten!'),\n",
    "                          set_train(variable = \"sentiment_training\", \n",
    "                                    value = 'Enigszins positief -- Positief -- Zeer positief', \n",
    "                                    message = \"Het sentiment van de tweet is positief omdat de auteur enthousiast reageert op het nieuws dat het gerechtshof heeft besloten om de levering van F-35 onderdelen aan Israël te stoppen. De auteur beschouwt dit als een stap in de richting van een rechtvaardiger buitenlands beleid en een serieuze erkenning van de Palestijnse zaak. De bewoordingen 'Geweldig nieuws' en 'Eindelijk een stap in de richting van een rechtvaardiger buitenlands beleid' geven aan dat de auteur het besluit toejuicht en hoopvol is over de mogelijke impact ervan op de toekomst van het Midden-Oosten.\"),\n",
    "                          set_train(variable = \"political_stance_training\", \n",
    "                                    value = 'Volledig links/ progressief -- Links/ progressief -- Enigszins links/progressief', \n",
    "                                    message = 'Het politieke standpunt van de tweet kan worden beschouwd als links of progressief. De auteur ondersteunt het besluit van het gerechtshof om de levering van F-35 onderdelen aan Israël stop te zetten en beschouwt dit als een stap in de richting van een rechtvaardiger buitenlands beleid. Door te spreken over een \"rechtvaardiger buitenlands beleid\" en de \"Palestijnse zaak serieus te nemen\", lijkt de auteur te pleiten voor een meer evenwichtige en empathische benadering van de kwestie Israël-Palestina, wat over het algemeen wordt geassocieerd met progressieve politieke standpunten.'), \n",
    "                          set_train(variable = \"misinformation_training\", \n",
    "                                    value = 'Geen/ Waarschijnlijk geen/ Mogelijk geen misinformatie', \n",
    "                                    message = \"De tweet bevat mogelijk geen misinformatie, aangezien het bericht gaat over een gerechtelijke beslissing en geen feitelijke onjuistheden lijkt te bevatten.\"),\n",
    "                          set_train(variable = \"toxic_training\",\n",
    "                                    value = 'Zeer beleefd/ vriendelijk -- Beleefd/ vriendelijk -- Enigzins beleefd/vriendelijk',\n",
    "                                    message = \"De tweet lijkt niet toxisch te zijn, aangezien de boodschap positief is en hoopvolle perspectieven biedt voor een vreedzamere toekomst in het Midden-Oosten.\"))\n",
    "   \n",
    "#===================\n",
    "\n",
    "units <- c(intro_unit_1, intro_unit_2, train_unit_1,  train_unit_2)\n",
    "\n",
    "codebook <- create_codebook(political_stance_training, sentiment_training, toxic_training, misinformation_training)\n",
    "\n",
    "create_job('voorbeeld', units=units, codebook=codebook) |>\n",
    "  create_job_db(overwrite=T) |>\n",
    "  start_annotator()"
   ]
  },
  {
   "cell_type": "markdown",
   "id": "3ea3de03",
   "metadata": {},
   "source": [
    "### Part 2: Final coding job"
   ]
  },
  {
   "cell_type": "markdown",
   "id": "c19722f7",
   "metadata": {},
   "source": [
    "<div style=\"background-color:yellow; padding:10px;\">\n",
    "@Kasper: General question about the codebook: Is it possible to display all 4 questions (political_stance, sentiment, toxic, misinformation) underneath each other, on one page?\n",
    "</div>\n"
   ]
  },
  {
   "cell_type": "code",
   "execution_count": 42,
   "id": "946d6ddf",
   "metadata": {
    "vscode": {
     "languageId": "r"
    }
   },
   "outputs": [],
   "source": [
    "## main codebook annotation\n",
    "\n",
    "## misinformation\n",
    "political_stance <- question(\"political_stance\", \n",
    "                  \"In welke mate reflecteert dit bericht een links- of rechts politiek standpunt?\",\n",
    "             instruction = read_and_concatenate(\"instructions/political_stance.txt\")  , \n",
    "             codes = c( darkgrey = 'Volledig links/ progressief', \n",
    "                        grey = 'Links/ progressief', \n",
    "                        lightgrey= 'Enigszins links/progressief',\n",
    "                        grey = 'Neutraal/ onduidelijk', \n",
    "                        lightred = 'Engiszins rechts/ conservatief',\n",
    "                        grey = 'Rechts/conservatief',\n",
    "                        darkgrey = 'Helemaal rechts/ conservatief'))\n",
    "\n",
    "## sentiment\n",
    "sentiment <- question(\"sentiment\", \n",
    "                      \"Is deze tweet negatief of positief van toon?\",\n",
    "             instruction = read_and_concatenate(\"instructions/sentiment.txt\") , \n",
    "             codes = c( darkred = 'Zeer negatief',\n",
    "                        red = 'Negatief',\n",
    "                        lightred = 'Enigszins negatief',\n",
    "                        grey = 'Neutral/onduidelijk', \n",
    "                        lightgreen = 'Enigszins positief',\n",
    "                        green = 'Positief', \n",
    "                        darkgreen = 'Zeer positief'))\n",
    "\n",
    "## toxic\n",
    "toxic <- question(\"toxic\", \n",
    "                  \"Bevat deze tweet toxische taal?\",\n",
    "             instruction = read_and_concatenate(\"instructions/toxic.txt\")  , \n",
    "             codes = c( darkgreen = 'Zeer beleefd/ vriendelijk', \n",
    "                        green = 'Beleefd/ vriendelijk', \n",
    "                        lightgreen = 'Enigzins beleefd/vriendelijk',\n",
    "                        grey = 'Neutraal/ onduidelijk', \n",
    "                        lightred = 'Enigzins toxisch',\n",
    "                        red = 'Toxisch',\n",
    "                        darkred = 'Zeer toxisch'))\n",
    "\n",
    "## misinformation\n",
    "misinformation <- question(\"misinformation\", \n",
    "                  \"Bevat deze tweet misinformatie?\",\n",
    "             instruction = read_and_concatenate(\"instructions/misinformation.txt\")  , \n",
    "             codes = c( darkgreen = 'Tweet bevat zeker geen misinformatie', \n",
    "                        green = 'Tweet bevat waarschijnlijk geen misinformatie', \n",
    "                        lightgreen = 'Tweet bevat mogelijk geen misinformatie',\n",
    "                        grey = 'Neutraal/ onduidelijk', \n",
    "                        lightred = 'Bericht bevat mogelijk misinformatie',\n",
    "                        red = 'Bericht bevat waarschijnlijk misinformatie',\n",
    "                        darkred = 'Bericht bevat zeker misinformatie'))"
   ]
  },
  {
   "cell_type": "markdown",
   "id": "eb30597c",
   "metadata": {},
   "source": [
    "### Create units for condition 1, 2, 3 (zonder Author):\n",
    "\n",
    "<div style=\"background-color:yellow; padding:10px;\">\n",
    "@Kasper: Iedere codeur moet 30 tweets annoteren. In alle condities moet de hele dataset roteren; er zijn 3330 unique tweets, en ongeveer 330 participanten per conditie. We willen 3 unieke annotaties per tweet per conditie. \n",
    "\n",
    "    \n",
    "Participanten komen van Qualtrics. Er zijn 6 verschillende redirect links vanuit Qualtrics mogelijk:\n",
    "\n",
    "e.g., :\n",
    "\n",
    "https://annotinder.com/?id={}?condition={}\n",
    "\n",
    "So, something like: \n",
    "\n",
    "https://annotinder.com/?id=265179?condition=1  \n",
    "https://annotinder.com/?id=265609?condition=2  \n",
    "https://annotinder.com/?id=265902?condition=3  \n",
    "https://annotinder.com/?id=265632?condition=4  \n",
    "https://annotinder.com/?id=303467?condition=5  \n",
    "https://annotinder.com/?id=358590?condition=6  \n",
    "    \n",
    "\n",
    "conditie 1 t/ 3 moet deze units te zien krijgen: \n",
    "\n",
    "```r\n",
    "units_condition_1_2_3 <- create_units(df,            \n",
    "  set_text(\"text\", text, align = \"left\", text_size = 1.5, bold = TRUE, underline = TRUE),\n",
    "  id = \"id\"\n",
    ")\n",
    "```\n",
    "                         \n",
    "conditie 3 t/ 6 moet deze units te zien krijgen: \n",
    "   \n",
    "```r\n",
    "units_condition_3_4_5 <- create_units(df,\n",
    "  set_markdown(\"review_message\", review_message, align=\"left\", text_size = 1),                 \n",
    "  set_text(\"text\", text, align = \"left\", text_size = 1.5, bold = TRUE, underline = TRUE),\n",
    "  id = \"id\",\n",
    "  set_markdown(\"author_with_handle\", author_with_handle, align = \"left\", text_size = 1.2)\n",
    ")\n",
    "```\n",
    "    \n",
    "Ik kan de basis url uiteraard aanpassen; laat maar weten waar participanten heen moeten!\n",
    "\n",
    "</div>\n"
   ]
  },
  {
   "cell_type": "code",
   "execution_count": 45,
   "id": "eacfe445",
   "metadata": {
    "vscode": {
     "languageId": "r"
    }
   },
   "outputs": [
    {
     "data": {
      "text/html": [
       "'/Users/anne/repos/AnnoBias/AnnoTinder/annotinder_jobs/simple_example.db'"
      ],
      "text/latex": [
       "'/Users/anne/repos/AnnoBias/AnnoTinder/annotinder\\_jobs/simple\\_example.db'"
      ],
      "text/markdown": [
       "'/Users/anne/repos/AnnoBias/AnnoTinder/annotinder_jobs/simple_example.db'"
      ],
      "text/plain": [
       "[1] \"/Users/anne/repos/AnnoBias/AnnoTinder/annotinder_jobs/simple_example.db\""
      ]
     },
     "metadata": {},
     "output_type": "display_data"
    }
   ],
   "source": [
    "## Create units for final experiment... \n",
    "units_condition_1_2_3 <- create_units(df,\n",
    "  #set_markdown(\"review_message\", review_message, align=\"left\", text_size = 1),                 \n",
    "  set_text(\"text\", text, align = \"left\", text_size = 1.5, bold = TRUE, underline = TRUE),\n",
    "  id = \"id\"\n",
    "  #set_markdown(\"author_with_handle\", author_with_handle, align = \"left\", text_size = 1.2)\n",
    ")\n",
    "\n",
    "codebook <- create_codebook(sentiment, toxic, misinformation, political_stance)\n",
    "job <- create_job(\"simple_example\", units_condition_1_2_3 , codebook)\n",
    "job_db <- create_job_db(job, overwrite = T)\n",
    "job_db\n",
    "\n",
    "start_annotator(job_db)"
   ]
  },
  {
   "cell_type": "markdown",
   "id": "af35d713",
   "metadata": {},
   "source": [
    "### Create units for conditions 3, 4, 5 (met Author): "
   ]
  },
  {
   "cell_type": "code",
   "execution_count": 27,
   "id": "2bc48405",
   "metadata": {
    "vscode": {
     "languageId": "r"
    }
   },
   "outputs": [],
   "source": [
    "units_condition_3_4_5 <- create_units(df,\n",
    "  set_markdown(\"review_message\", review_message, align=\"left\", text_size = 1),                 \n",
    "  set_text(\"text\", text, align = \"left\", text_size = 1.5, bold = TRUE, underline = TRUE),\n",
    "  id = \"id\",\n",
    "  set_markdown(\"author_with_handle\", author_with_handle, align = \"left\", text_size = 1.2)\n",
    ")"
   ]
  },
  {
   "cell_type": "code",
   "execution_count": 44,
   "id": "fe9eb615",
   "metadata": {
    "vscode": {
     "languageId": "r"
    }
   },
   "outputs": [
    {
     "data": {
      "text/html": [
       "'/Users/anne/repos/AnnoBias/AnnoTinder/annotinder_jobs/simple_example.db'"
      ],
      "text/latex": [
       "'/Users/anne/repos/AnnoBias/AnnoTinder/annotinder\\_jobs/simple\\_example.db'"
      ],
      "text/markdown": [
       "'/Users/anne/repos/AnnoBias/AnnoTinder/annotinder_jobs/simple_example.db'"
      ],
      "text/plain": [
       "[1] \"/Users/anne/repos/AnnoBias/AnnoTinder/annotinder_jobs/simple_example.db\""
      ]
     },
     "metadata": {},
     "output_type": "display_data"
    }
   ],
   "source": [
    "codebook <- create_codebook(sentiment, toxic, misinformation, political_stance)\n",
    "job <- create_job(\"simple_example\", units_condition_1_2_3 , codebook)\n",
    "job_db <- create_job_db(job, overwrite = T)\n",
    "job_db\n",
    "\n",
    "start_annotator(job_db)"
   ]
  },
  {
   "cell_type": "code",
   "execution_count": 12,
   "id": "ed5be4f4",
   "metadata": {
    "vscode": {
     "languageId": "r"
    }
   },
   "outputs": [],
   "source": [
    "start_annotator(job_db)"
   ]
  }
 ],
 "metadata": {
  "kernelspec": {
   "display_name": "R",
   "language": "R",
   "name": "ir"
  },
  "language_info": {
   "codemirror_mode": "r",
   "file_extension": ".r",
   "mimetype": "text/x-r-source",
   "name": "R",
   "pygments_lexer": "r",
   "version": "4.1.0"
  }
 },
 "nbformat": 4,
 "nbformat_minor": 5
}
